{
  "nbformat": 4,
  "nbformat_minor": 0,
  "metadata": {
    "kernelspec": {
      "display_name": "Python 3",
      "language": "python",
      "name": "python3"
    },
    "language_info": {
      "codemirror_mode": {
        "name": "ipython",
        "version": 3
      },
      "file_extension": ".py",
      "mimetype": "text/x-python",
      "name": "python",
      "nbconvert_exporter": "python",
      "pygments_lexer": "ipython3",
      "version": "3.7.6"
    },
    "colab": {
      "provenance": [],
      "collapsed_sections": [
        "3uR_MyVSps7w",
        "CGMVoj9PolVu",
        "sul40w4BolV0",
        "OlzSdK42olV1",
        "zcXSjKpFvahX",
        "r_ePjJL6wS5E",
        "OjpTRY8qyf9q"
      ]
    }
  },
  "cells": [
    {
      "cell_type": "code",
      "metadata": {
        "id": "DnsaiuQxolVN"
      },
      "source": [
        "%load_ext sql\n",
        "%sql sqlite://"
      ],
      "execution_count": 2,
      "outputs": []
    },
    {
      "cell_type": "markdown",
      "source": [
        "## Продолжаем работу с таблицами"
      ],
      "metadata": {
        "id": "3uR_MyVSps7w"
      }
    },
    {
      "cell_type": "code",
      "metadata": {
        "id": "q-qgKqbvolVR",
        "colab": {
          "base_uri": "https://localhost:8080/"
        },
        "outputId": "3cc1fa4f-d8d3-4f7a-909f-59ed33221b10"
      },
      "source": [
        "%%sql\n",
        "\n",
        "DROP TABLE IF EXISTS Employees;\n",
        "\n",
        "--PRAGMA foreign_keys = ON;\n",
        "\n",
        "CREATE TABLE Employees(\n",
        "    id int PRIMARY KEY,\n",
        "    name varchar(20) NOT NULL,\n",
        "    phone varchar(20),\n",
        "    title varchar(20) NOT NULL,\n",
        "    manager_id integer,\n",
        "    FOREIGN KEY (manager_id) REFERENCES Employees(id)\n",
        ");"
      ],
      "execution_count": 8,
      "outputs": [
        {
          "output_type": "stream",
          "name": "stdout",
          "text": [
            " * sqlite://\n",
            "Done.\n",
            "Done.\n"
          ]
        },
        {
          "output_type": "execute_result",
          "data": {
            "text/plain": [
              "[]"
            ]
          },
          "metadata": {},
          "execution_count": 8
        }
      ]
    },
    {
      "cell_type": "code",
      "source": [
        "%%sql\n",
        "\n",
        "--INSERT INTO Employees values  (1, 'Vasyugin', '+111', 'Director', NULL);\n",
        "INSERT INTO Employees values  (2, 'Jones', '+112', 'Vice President', 1);\n",
        "INSERT INTO Employees values  (3, 'Smith', '+113', 'Vice President', 1);\n",
        "INSERT INTO Employees values (4, 'Velaskes', '+114', 'Developer', 2);\n",
        "INSERT INTO Employees values (5, 'Simon', '+115', 'Analyst', 2);\n",
        "INSERT INTO Employees values (6, 'Johnson', '+116', 'Engineer', 3);\n",
        "INSERT INTO Employees values (7, 'Lee', '+117', 'Engineer', 3);"
      ],
      "metadata": {
        "colab": {
          "base_uri": "https://localhost:8080/"
        },
        "id": "uOWjB0EnbXlu",
        "outputId": "c8ded612-c444-42b4-f05b-1104906a57f0"
      },
      "execution_count": 4,
      "outputs": [
        {
          "output_type": "stream",
          "name": "stdout",
          "text": [
            " * sqlite://\n",
            "1 rows affected.\n",
            "1 rows affected.\n",
            "1 rows affected.\n",
            "1 rows affected.\n",
            "1 rows affected.\n",
            "1 rows affected.\n"
          ]
        },
        {
          "output_type": "execute_result",
          "data": {
            "text/plain": [
              "[]"
            ]
          },
          "metadata": {},
          "execution_count": 4
        }
      ]
    },
    {
      "cell_type": "code",
      "source": [
        "%%sql\n",
        "\n",
        "PRAGMA foreign_key_check; -- проверка целостности"
      ],
      "metadata": {
        "colab": {
          "base_uri": "https://localhost:8080/",
          "height": 118
        },
        "id": "9dt3aolubS5X",
        "outputId": "3507c37d-2fc8-4e85-f911-787a51fc3647"
      },
      "execution_count": 7,
      "outputs": [
        {
          "output_type": "stream",
          "name": "stdout",
          "text": [
            " * sqlite://\n",
            "Done.\n"
          ]
        },
        {
          "output_type": "execute_result",
          "data": {
            "text/plain": [
              "[('Employees', 1, 'Employees', 0), ('Employees', 2, 'Employees', 0)]"
            ],
            "text/html": [
              "<table>\n",
              "    <thead>\n",
              "        <tr>\n",
              "            <th>table</th>\n",
              "            <th>rowid</th>\n",
              "            <th>parent</th>\n",
              "            <th>fkid</th>\n",
              "        </tr>\n",
              "    </thead>\n",
              "    <tbody>\n",
              "        <tr>\n",
              "            <td>Employees</td>\n",
              "            <td>1</td>\n",
              "            <td>Employees</td>\n",
              "            <td>0</td>\n",
              "        </tr>\n",
              "        <tr>\n",
              "            <td>Employees</td>\n",
              "            <td>2</td>\n",
              "            <td>Employees</td>\n",
              "            <td>0</td>\n",
              "        </tr>\n",
              "    </tbody>\n",
              "</table>"
            ]
          },
          "metadata": {},
          "execution_count": 7
        }
      ]
    },
    {
      "cell_type": "code",
      "source": [
        "%%sql\n",
        "\n",
        "PRAGMA foreign_keys = ON;"
      ],
      "metadata": {
        "colab": {
          "base_uri": "https://localhost:8080/"
        },
        "id": "o78eC-_5orJz",
        "outputId": "439ef816-bfe6-44ce-8276-00e0a296a838"
      },
      "execution_count": 6,
      "outputs": [
        {
          "output_type": "stream",
          "name": "stdout",
          "text": [
            " * sqlite://\n",
            "Done.\n"
          ]
        },
        {
          "output_type": "execute_result",
          "data": {
            "text/plain": [
              "[]"
            ]
          },
          "metadata": {},
          "execution_count": 6
        }
      ]
    },
    {
      "cell_type": "code",
      "source": [
        "%%sql\n",
        "DROP TABLE IF EXISTS Students;\n",
        "DROP TABLE IF EXISTS Faculties;\n",
        "\n",
        "CREATE TABLE Faculties(\n",
        "    id integer PRIMARY KEY,\n",
        "    name varchar(50) NOT NULL,\n",
        "    UNIQUE (name) -- уникальные значения\n",
        ");\n",
        "\n",
        "CREATE TABLE Students(\n",
        "    id integer PRIMARY KEY,\n",
        "    name varchar(50) NOT NULL,\n",
        "    gpa decimal(2,2),\n",
        "    faculty_id integer,\n",
        "    FOREIGN KEY (faculty_id) REFERENCES Faculties(id)\n",
        ");"
      ],
      "metadata": {
        "colab": {
          "base_uri": "https://localhost:8080/"
        },
        "id": "A5Ptl04LplfP",
        "outputId": "90e0efe0-a9a4-49ba-827d-7b9f248f699c"
      },
      "execution_count": 9,
      "outputs": [
        {
          "output_type": "stream",
          "name": "stdout",
          "text": [
            " * sqlite://\n",
            "Done.\n",
            "Done.\n",
            "Done.\n",
            "Done.\n"
          ]
        },
        {
          "output_type": "execute_result",
          "data": {
            "text/plain": [
              "[]"
            ]
          },
          "metadata": {},
          "execution_count": 9
        }
      ]
    },
    {
      "cell_type": "code",
      "metadata": {
        "id": "d-VfAs2JolVS",
        "colab": {
          "base_uri": "https://localhost:8080/"
        },
        "outputId": "ac6f0125-b744-4888-835f-1fcf5a8ac69f"
      },
      "source": [
        "%%sql\n",
        "INSERT INTO Faculties values (1, 'IT');\n",
        "INSERT INTO Faculties values (2, 'KIB');\n",
        "\n",
        "INSERT INTO Students values (1, 'Sidorov', 3.0, 1);\n",
        "INSERT INTO Students values (2, 'Petrov', 3.5, 2);\n",
        "INSERT INTO Students values (3, 'Verikov', 4.0, 1);\n",
        "INSERT INTO Students values (4, 'Smith', 4.2, 2);\n",
        "INSERT INTO Students values (5, 'Lee', 4.5, 1);\n",
        "INSERT INTO Students values (6, 'Vorontsov', 3.2, NULL);\n",
        "\n",
        "INSERT INTO Employees values  (1, 'Vasyugin', '+111', 'Director', NULL);\n",
        "INSERT INTO Employees values  (2, 'Jones', '+112', 'Vice President', 1);\n",
        "INSERT INTO Employees values  (3, 'Smith', '+113', 'Vice President', 1);\n",
        "INSERT INTO Employees values (4, 'Velaskes', '+114', 'Developer', 2);\n",
        "INSERT INTO Employees values (5, 'Simon', '+115', 'Analyst', 2);\n",
        "INSERT INTO Employees values (6, 'Johnson', '+116', 'Engineer', 3);\n",
        "INSERT INTO Employees values (7, 'Lee', '+117', 'Engineer', 3);"
      ],
      "execution_count": 10,
      "outputs": [
        {
          "output_type": "stream",
          "name": "stdout",
          "text": [
            " * sqlite://\n",
            "1 rows affected.\n",
            "1 rows affected.\n",
            "1 rows affected.\n",
            "1 rows affected.\n",
            "1 rows affected.\n",
            "1 rows affected.\n",
            "1 rows affected.\n",
            "1 rows affected.\n",
            "1 rows affected.\n",
            "1 rows affected.\n",
            "1 rows affected.\n",
            "1 rows affected.\n",
            "1 rows affected.\n",
            "1 rows affected.\n",
            "1 rows affected.\n"
          ]
        },
        {
          "output_type": "execute_result",
          "data": {
            "text/plain": [
              "[]"
            ]
          },
          "metadata": {},
          "execution_count": 10
        }
      ]
    },
    {
      "cell_type": "markdown",
      "metadata": {
        "id": "CGMVoj9PolVu"
      },
      "source": [
        "## Оператор WITH"
      ]
    },
    {
      "cell_type": "code",
      "metadata": {
        "id": "faqJE0kYolVu",
        "colab": {
          "base_uri": "https://localhost:8080/",
          "height": 0
        },
        "outputId": "2d96d0d3-c269-448c-9161-6053948cc4ed"
      },
      "source": [
        "%%sql\n",
        "WITH g AS\n",
        "(\n",
        "SELECT faculty_id, min(gpa) as min_gpa\n",
        "    FROM Students\n",
        " GROUP\n",
        "    BY faculty_id\n",
        ")\n",
        "SELECT s.*\n",
        "    FROM Students s\n",
        "INNER JOIN g\n",
        "    ON s.faculty_id = g.faculty_id\n",
        "WHERE s.gpa > g.min_gpa;"
      ],
      "execution_count": 11,
      "outputs": [
        {
          "output_type": "stream",
          "name": "stdout",
          "text": [
            " * sqlite://\n",
            "Done.\n"
          ]
        },
        {
          "output_type": "execute_result",
          "data": {
            "text/plain": [
              "[(3, 'Verikov', 4, 1), (4, 'Smith', 4.2, 2), (5, 'Lee', 4.5, 1)]"
            ],
            "text/html": [
              "<table>\n",
              "    <thead>\n",
              "        <tr>\n",
              "            <th>id</th>\n",
              "            <th>name</th>\n",
              "            <th>gpa</th>\n",
              "            <th>faculty_id</th>\n",
              "        </tr>\n",
              "    </thead>\n",
              "    <tbody>\n",
              "        <tr>\n",
              "            <td>3</td>\n",
              "            <td>Verikov</td>\n",
              "            <td>4</td>\n",
              "            <td>1</td>\n",
              "        </tr>\n",
              "        <tr>\n",
              "            <td>4</td>\n",
              "            <td>Smith</td>\n",
              "            <td>4.2</td>\n",
              "            <td>2</td>\n",
              "        </tr>\n",
              "        <tr>\n",
              "            <td>5</td>\n",
              "            <td>Lee</td>\n",
              "            <td>4.5</td>\n",
              "            <td>1</td>\n",
              "        </tr>\n",
              "    </tbody>\n",
              "</table>"
            ]
          },
          "metadata": {},
          "execution_count": 11
        }
      ]
    },
    {
      "cell_type": "code",
      "metadata": {
        "id": "zwCqUCWqolVu",
        "colab": {
          "base_uri": "https://localhost:8080/"
        },
        "outputId": "b01bb31a-d9c6-420b-8c48-3b21040012e4"
      },
      "source": [
        "%%sql\n",
        "SELECT * FROM g;"
      ],
      "execution_count": 12,
      "outputs": [
        {
          "output_type": "stream",
          "name": "stdout",
          "text": [
            " * sqlite://\n",
            "(sqlite3.OperationalError) no such table: g\n",
            "[SQL: SELECT * FROM g;]\n",
            "(Background on this error at: https://sqlalche.me/e/20/e3q8)\n"
          ]
        }
      ]
    },
    {
      "cell_type": "code",
      "metadata": {
        "id": "xZa8_g2uolVv",
        "colab": {
          "base_uri": "https://localhost:8080/",
          "height": 0
        },
        "outputId": "a733a96b-6be1-4ecd-b72e-42fbda79011d"
      },
      "source": [
        "%%sql\n",
        "WITH KIB_fac_id AS\n",
        "(\n",
        "SELECT id\n",
        "    FROM Faculties\n",
        "WHERE name = 'KIB'\n",
        "),\n",
        "min_gpa as\n",
        "(\n",
        "SELECT MIN(gpa) as min_gpa\n",
        "    FROM Students\n",
        "WHERE faculty_id = (SELECT id FROM KIB_fac_id)\n",
        ")\n",
        "SELECT *\n",
        "    FROM Students\n",
        "WHERE gpa > (SELECT min_gpa from min_gpa);"
      ],
      "execution_count": 13,
      "outputs": [
        {
          "output_type": "stream",
          "name": "stdout",
          "text": [
            " * sqlite://\n",
            "Done.\n"
          ]
        },
        {
          "output_type": "execute_result",
          "data": {
            "text/plain": [
              "[(3, 'Verikov', 4, 1), (4, 'Smith', 4.2, 2), (5, 'Lee', 4.5, 1)]"
            ],
            "text/html": [
              "<table>\n",
              "    <thead>\n",
              "        <tr>\n",
              "            <th>id</th>\n",
              "            <th>name</th>\n",
              "            <th>gpa</th>\n",
              "            <th>faculty_id</th>\n",
              "        </tr>\n",
              "    </thead>\n",
              "    <tbody>\n",
              "        <tr>\n",
              "            <td>3</td>\n",
              "            <td>Verikov</td>\n",
              "            <td>4</td>\n",
              "            <td>1</td>\n",
              "        </tr>\n",
              "        <tr>\n",
              "            <td>4</td>\n",
              "            <td>Smith</td>\n",
              "            <td>4.2</td>\n",
              "            <td>2</td>\n",
              "        </tr>\n",
              "        <tr>\n",
              "            <td>5</td>\n",
              "            <td>Lee</td>\n",
              "            <td>4.5</td>\n",
              "            <td>1</td>\n",
              "        </tr>\n",
              "    </tbody>\n",
              "</table>"
            ]
          },
          "metadata": {},
          "execution_count": 13
        }
      ]
    },
    {
      "cell_type": "markdown",
      "metadata": {
        "id": "sul40w4BolV0"
      },
      "source": [
        "## Представления VIEW"
      ]
    },
    {
      "cell_type": "code",
      "metadata": {
        "id": "ytrwqs-rolV0",
        "colab": {
          "base_uri": "https://localhost:8080/"
        },
        "outputId": "bcbb2675-62bc-49d2-f066-c12a7c503876"
      },
      "source": [
        "%%sql\n",
        "CREATE VIEW IF NOT EXISTS StudentsAndFaculties AS\n",
        "SELECT s.*, f.name as faculty_name\n",
        "    FROM Students s\n",
        "LEFT OUTER JOIN Faculties F\n",
        "    ON s.faculty_id = f.id;"
      ],
      "execution_count": 14,
      "outputs": [
        {
          "output_type": "stream",
          "name": "stdout",
          "text": [
            " * sqlite://\n",
            "Done.\n"
          ]
        },
        {
          "output_type": "execute_result",
          "data": {
            "text/plain": [
              "[]"
            ]
          },
          "metadata": {},
          "execution_count": 14
        }
      ]
    },
    {
      "cell_type": "markdown",
      "source": [
        "Представления — виртуальные таблицы, которые содержат запросы, динамически извлекающие используемые данные."
      ],
      "metadata": {
        "id": "PGw8hINprDxU"
      }
    },
    {
      "cell_type": "code",
      "metadata": {
        "id": "r5WKQ9ololV1",
        "colab": {
          "base_uri": "https://localhost:8080/",
          "height": 0
        },
        "outputId": "2e65e346-dc9e-45a8-e785-130111895f3c"
      },
      "source": [
        "%%sql\n",
        "SELECT * FROM StudentsAndFaculties;"
      ],
      "execution_count": 15,
      "outputs": [
        {
          "output_type": "stream",
          "name": "stdout",
          "text": [
            " * sqlite://\n",
            "Done.\n"
          ]
        },
        {
          "output_type": "execute_result",
          "data": {
            "text/plain": [
              "[(1, 'Sidorov', 3, 1, 'IT'),\n",
              " (2, 'Petrov', 3.5, 2, 'KIB'),\n",
              " (3, 'Verikov', 4, 1, 'IT'),\n",
              " (4, 'Smith', 4.2, 2, 'KIB'),\n",
              " (5, 'Lee', 4.5, 1, 'IT'),\n",
              " (6, 'Vorontsov', 3.2, None, None)]"
            ],
            "text/html": [
              "<table>\n",
              "    <thead>\n",
              "        <tr>\n",
              "            <th>id</th>\n",
              "            <th>name</th>\n",
              "            <th>gpa</th>\n",
              "            <th>faculty_id</th>\n",
              "            <th>faculty_name</th>\n",
              "        </tr>\n",
              "    </thead>\n",
              "    <tbody>\n",
              "        <tr>\n",
              "            <td>1</td>\n",
              "            <td>Sidorov</td>\n",
              "            <td>3</td>\n",
              "            <td>1</td>\n",
              "            <td>IT</td>\n",
              "        </tr>\n",
              "        <tr>\n",
              "            <td>2</td>\n",
              "            <td>Petrov</td>\n",
              "            <td>3.5</td>\n",
              "            <td>2</td>\n",
              "            <td>KIB</td>\n",
              "        </tr>\n",
              "        <tr>\n",
              "            <td>3</td>\n",
              "            <td>Verikov</td>\n",
              "            <td>4</td>\n",
              "            <td>1</td>\n",
              "            <td>IT</td>\n",
              "        </tr>\n",
              "        <tr>\n",
              "            <td>4</td>\n",
              "            <td>Smith</td>\n",
              "            <td>4.2</td>\n",
              "            <td>2</td>\n",
              "            <td>KIB</td>\n",
              "        </tr>\n",
              "        <tr>\n",
              "            <td>5</td>\n",
              "            <td>Lee</td>\n",
              "            <td>4.5</td>\n",
              "            <td>1</td>\n",
              "            <td>IT</td>\n",
              "        </tr>\n",
              "        <tr>\n",
              "            <td>6</td>\n",
              "            <td>Vorontsov</td>\n",
              "            <td>3.2</td>\n",
              "            <td>None</td>\n",
              "            <td>None</td>\n",
              "        </tr>\n",
              "    </tbody>\n",
              "</table>"
            ]
          },
          "metadata": {},
          "execution_count": 15
        }
      ]
    },
    {
      "cell_type": "code",
      "source": [
        "%%sql\n",
        "DROP TABLE Students;"
      ],
      "metadata": {
        "colab": {
          "base_uri": "https://localhost:8080/"
        },
        "id": "S4iayWg9qq_R",
        "outputId": "68a4e6b7-f474-4527-b6a0-37db9c645ce0"
      },
      "execution_count": 16,
      "outputs": [
        {
          "output_type": "stream",
          "name": "stdout",
          "text": [
            " * sqlite://\n",
            "Done.\n"
          ]
        },
        {
          "output_type": "execute_result",
          "data": {
            "text/plain": [
              "[]"
            ]
          },
          "metadata": {},
          "execution_count": 16
        }
      ]
    },
    {
      "cell_type": "code",
      "source": [
        "%%sql\n",
        "SELECT * FROM StudentsAndFaculties;"
      ],
      "metadata": {
        "colab": {
          "base_uri": "https://localhost:8080/"
        },
        "id": "I0zSJ56IrrlV",
        "outputId": "d36360c9-7565-43f3-8325-060f1f459005"
      },
      "execution_count": 17,
      "outputs": [
        {
          "output_type": "stream",
          "name": "stdout",
          "text": [
            " * sqlite://\n",
            "(sqlite3.OperationalError) no such table: main.Students\n",
            "[SQL: SELECT * FROM StudentsAndFaculties;]\n",
            "(Background on this error at: https://sqlalche.me/e/20/e3q8)\n"
          ]
        }
      ]
    },
    {
      "cell_type": "markdown",
      "metadata": {
        "id": "OlzSdK42olV1"
      },
      "source": [
        "## CASE WHEN"
      ]
    },
    {
      "cell_type": "code",
      "metadata": {
        "id": "nyIKtVNnolV1",
        "colab": {
          "base_uri": "https://localhost:8080/"
        },
        "outputId": "79125572-89ac-4e8a-886c-a67341307f55"
      },
      "source": [
        "%%sql\n",
        "SELECT *,\n",
        "    CASE WHEN gpa > 4.0\n",
        "              THEN 'A'\n",
        "            WHEN gpa > 3.0\n",
        "              THEN 'B'\n",
        "            ELSE 'C'\n",
        "    END as mark\n",
        "    FROM Students;"
      ],
      "execution_count": 18,
      "outputs": [
        {
          "output_type": "stream",
          "name": "stdout",
          "text": [
            " * sqlite://\n",
            "(sqlite3.OperationalError) no such table: Students\n",
            "[SQL: SELECT *,\n",
            "    CASE WHEN gpa > 4.0\n",
            "              THEN 'A'\n",
            "            WHEN gpa > 3.0\n",
            "              THEN 'B'\n",
            "            ELSE 'C'\n",
            "    END as mark\n",
            "    FROM Students;]\n",
            "(Background on this error at: https://sqlalche.me/e/20/e3q8)\n"
          ]
        }
      ]
    },
    {
      "cell_type": "code",
      "metadata": {
        "id": "KfXWYZ_0olV1",
        "colab": {
          "base_uri": "https://localhost:8080/"
        },
        "outputId": "74d51b7b-f183-466d-8132-055ea4f641af"
      },
      "source": [
        "%%sql\n",
        "SELECT CASE WHEN gpa > 4.0\n",
        "              THEN 'A'\n",
        "            WHEN gpa > 3.0\n",
        "              THEN 'B'\n",
        "            ELSE 'C'\n",
        "       END as mark,\n",
        "       count(*) as cnt\n",
        "    FROM Students\n",
        "GROUP BY CASE WHEN gpa > 4.0\n",
        "              THEN 'A'\n",
        "            WHEN gpa > 3.0\n",
        "              THEN 'B'\n",
        "            ELSE 'C'\n",
        "       END;"
      ],
      "execution_count": 19,
      "outputs": [
        {
          "output_type": "stream",
          "name": "stdout",
          "text": [
            " * sqlite://\n",
            "(sqlite3.OperationalError) no such table: Students\n",
            "[SQL: SELECT CASE WHEN gpa > 4.0\n",
            "              THEN 'A'\n",
            "            WHEN gpa > 3.0\n",
            "              THEN 'B'\n",
            "            ELSE 'C'\n",
            "       END as mark,\n",
            "       count(*) as cnt\n",
            "    FROM Students\n",
            "GROUP BY CASE WHEN gpa > 4.0\n",
            "              THEN 'A'\n",
            "            WHEN gpa > 3.0\n",
            "              THEN 'B'\n",
            "            ELSE 'C'\n",
            "       END;]\n",
            "(Background on this error at: https://sqlalche.me/e/20/e3q8)\n"
          ]
        }
      ]
    },
    {
      "cell_type": "code",
      "source": [
        "%%sql\n",
        "SELECT mark, count(*) FROM\n",
        "    (SELECT CASE WHEN gpa > 4.0\n",
        "                  THEN 'A'\n",
        "                WHEN gpa > 3.0\n",
        "                  THEN 'B'\n",
        "                ELSE 'C'\n",
        "          END as mark\n",
        "        FROM Students) as c\n",
        "GROUP BY c.mark;"
      ],
      "metadata": {
        "colab": {
          "base_uri": "https://localhost:8080/"
        },
        "id": "xQoHojz7tAWR",
        "outputId": "b169ca0e-05eb-42c5-860e-23a6cc49c442"
      },
      "execution_count": 20,
      "outputs": [
        {
          "output_type": "stream",
          "name": "stdout",
          "text": [
            " * sqlite://\n",
            "(sqlite3.OperationalError) no such table: Students\n",
            "[SQL: SELECT mark, count(*) FROM\n",
            "    (SELECT CASE WHEN gpa > 4.0\n",
            "                  THEN 'A'\n",
            "                WHEN gpa > 3.0\n",
            "                  THEN 'B'\n",
            "                ELSE 'C'\n",
            "          END as mark\n",
            "        FROM Students) as c\n",
            "GROUP BY c.mark;]\n",
            "(Background on this error at: https://sqlalche.me/e/20/e3q8)\n"
          ]
        }
      ]
    },
    {
      "cell_type": "markdown",
      "metadata": {
        "id": "zcXSjKpFvahX"
      },
      "source": [
        "## Рекурсивные запросы"
      ]
    },
    {
      "cell_type": "code",
      "metadata": {
        "id": "YGwkZVmxvXm3",
        "colab": {
          "base_uri": "https://localhost:8080/",
          "height": 289
        },
        "outputId": "01fa8881-19a9-4a8f-c818-16ce30357e8d"
      },
      "source": [
        "%%sql\n",
        "WITH RECURSIVE cnt(x) AS (\n",
        "    VALUES(1)\n",
        "\n",
        "    UNION ALL\n",
        "\n",
        "    SELECT x+1 FROM cnt\n",
        "    WHERE x < 10\n",
        "    )\n",
        "SELECT x FROM cnt;"
      ],
      "execution_count": 21,
      "outputs": [
        {
          "output_type": "stream",
          "name": "stdout",
          "text": [
            " * sqlite://\n",
            "Done.\n"
          ]
        },
        {
          "output_type": "execute_result",
          "data": {
            "text/plain": [
              "[(1,), (2,), (3,), (4,), (5,), (6,), (7,), (8,), (9,), (10,)]"
            ],
            "text/html": [
              "<table>\n",
              "    <thead>\n",
              "        <tr>\n",
              "            <th>x</th>\n",
              "        </tr>\n",
              "    </thead>\n",
              "    <tbody>\n",
              "        <tr>\n",
              "            <td>1</td>\n",
              "        </tr>\n",
              "        <tr>\n",
              "            <td>2</td>\n",
              "        </tr>\n",
              "        <tr>\n",
              "            <td>3</td>\n",
              "        </tr>\n",
              "        <tr>\n",
              "            <td>4</td>\n",
              "        </tr>\n",
              "        <tr>\n",
              "            <td>5</td>\n",
              "        </tr>\n",
              "        <tr>\n",
              "            <td>6</td>\n",
              "        </tr>\n",
              "        <tr>\n",
              "            <td>7</td>\n",
              "        </tr>\n",
              "        <tr>\n",
              "            <td>8</td>\n",
              "        </tr>\n",
              "        <tr>\n",
              "            <td>9</td>\n",
              "        </tr>\n",
              "        <tr>\n",
              "            <td>10</td>\n",
              "        </tr>\n",
              "    </tbody>\n",
              "</table>"
            ]
          },
          "metadata": {},
          "execution_count": 21
        }
      ]
    },
    {
      "cell_type": "code",
      "metadata": {
        "id": "RgHwJ5pOvfR4",
        "colab": {
          "base_uri": "https://localhost:8080/",
          "height": 225
        },
        "outputId": "629df7f8-4f6f-41ea-9060-ac9e301fc715"
      },
      "source": [
        "%%sql\n",
        "select * from Employees"
      ],
      "execution_count": 23,
      "outputs": [
        {
          "output_type": "stream",
          "name": "stdout",
          "text": [
            " * sqlite://\n",
            "Done.\n"
          ]
        },
        {
          "output_type": "execute_result",
          "data": {
            "text/plain": [
              "[(1, 'Vasyugin', '+111', 'Director', None),\n",
              " (2, 'Jones', '+112', 'Vice President', 1),\n",
              " (3, 'Smith', '+113', 'Vice President', 1),\n",
              " (4, 'Velaskes', '+114', 'Developer', 2),\n",
              " (5, 'Simon', '+115', 'Analyst', 2),\n",
              " (6, 'Johnson', '+116', 'Engineer', 3),\n",
              " (7, 'Lee', '+117', 'Engineer', 3)]"
            ],
            "text/html": [
              "<table>\n",
              "    <thead>\n",
              "        <tr>\n",
              "            <th>id</th>\n",
              "            <th>name</th>\n",
              "            <th>phone</th>\n",
              "            <th>title</th>\n",
              "            <th>manager_id</th>\n",
              "        </tr>\n",
              "    </thead>\n",
              "    <tbody>\n",
              "        <tr>\n",
              "            <td>1</td>\n",
              "            <td>Vasyugin</td>\n",
              "            <td>+111</td>\n",
              "            <td>Director</td>\n",
              "            <td>None</td>\n",
              "        </tr>\n",
              "        <tr>\n",
              "            <td>2</td>\n",
              "            <td>Jones</td>\n",
              "            <td>+112</td>\n",
              "            <td>Vice President</td>\n",
              "            <td>1</td>\n",
              "        </tr>\n",
              "        <tr>\n",
              "            <td>3</td>\n",
              "            <td>Smith</td>\n",
              "            <td>+113</td>\n",
              "            <td>Vice President</td>\n",
              "            <td>1</td>\n",
              "        </tr>\n",
              "        <tr>\n",
              "            <td>4</td>\n",
              "            <td>Velaskes</td>\n",
              "            <td>+114</td>\n",
              "            <td>Developer</td>\n",
              "            <td>2</td>\n",
              "        </tr>\n",
              "        <tr>\n",
              "            <td>5</td>\n",
              "            <td>Simon</td>\n",
              "            <td>+115</td>\n",
              "            <td>Analyst</td>\n",
              "            <td>2</td>\n",
              "        </tr>\n",
              "        <tr>\n",
              "            <td>6</td>\n",
              "            <td>Johnson</td>\n",
              "            <td>+116</td>\n",
              "            <td>Engineer</td>\n",
              "            <td>3</td>\n",
              "        </tr>\n",
              "        <tr>\n",
              "            <td>7</td>\n",
              "            <td>Lee</td>\n",
              "            <td>+117</td>\n",
              "            <td>Engineer</td>\n",
              "            <td>3</td>\n",
              "        </tr>\n",
              "    </tbody>\n",
              "</table>"
            ]
          },
          "metadata": {},
          "execution_count": 23
        }
      ]
    },
    {
      "cell_type": "code",
      "metadata": {
        "id": "hR60wXBQvh4Z",
        "colab": {
          "base_uri": "https://localhost:8080/",
          "height": 225
        },
        "outputId": "7dae8774-477e-4a44-f3f0-7afdfb8b67f0"
      },
      "source": [
        "%%sql\n",
        "WITH recursive ManagerPath(title_path, manager_id) AS (\n",
        "    SELECT title as title_path, id as manager_id\n",
        "        FROM Employees\n",
        "    WHERE manager_id is null\n",
        "\n",
        "    UNION\n",
        "\n",
        "    SELECT ManagerPath.title_path || '->' || Employees.title as title_path, id as manager_id\n",
        "        FROM ManagerPath\n",
        "    INNER JOIN Employees\n",
        "    ON ManagerPath.manager_id = Employees.manager_id\n",
        "    )\n",
        "select *\n",
        "from ManagerPath"
      ],
      "execution_count": 26,
      "outputs": [
        {
          "output_type": "stream",
          "name": "stdout",
          "text": [
            " * sqlite://\n",
            "Done.\n"
          ]
        },
        {
          "output_type": "execute_result",
          "data": {
            "text/plain": [
              "[('Director', 1),\n",
              " ('Director->Vice President', 2),\n",
              " ('Director->Vice President', 3),\n",
              " ('Director->Vice President->Developer', 4),\n",
              " ('Director->Vice President->Analyst', 5),\n",
              " ('Director->Vice President->Engineer', 6),\n",
              " ('Director->Vice President->Engineer', 7)]"
            ],
            "text/html": [
              "<table>\n",
              "    <thead>\n",
              "        <tr>\n",
              "            <th>title_path</th>\n",
              "            <th>manager_id</th>\n",
              "        </tr>\n",
              "    </thead>\n",
              "    <tbody>\n",
              "        <tr>\n",
              "            <td>Director</td>\n",
              "            <td>1</td>\n",
              "        </tr>\n",
              "        <tr>\n",
              "            <td>Director-&gt;Vice President</td>\n",
              "            <td>2</td>\n",
              "        </tr>\n",
              "        <tr>\n",
              "            <td>Director-&gt;Vice President</td>\n",
              "            <td>3</td>\n",
              "        </tr>\n",
              "        <tr>\n",
              "            <td>Director-&gt;Vice President-&gt;Developer</td>\n",
              "            <td>4</td>\n",
              "        </tr>\n",
              "        <tr>\n",
              "            <td>Director-&gt;Vice President-&gt;Analyst</td>\n",
              "            <td>5</td>\n",
              "        </tr>\n",
              "        <tr>\n",
              "            <td>Director-&gt;Vice President-&gt;Engineer</td>\n",
              "            <td>6</td>\n",
              "        </tr>\n",
              "        <tr>\n",
              "            <td>Director-&gt;Vice President-&gt;Engineer</td>\n",
              "            <td>7</td>\n",
              "        </tr>\n",
              "    </tbody>\n",
              "</table>"
            ]
          },
          "metadata": {},
          "execution_count": 26
        }
      ]
    },
    {
      "cell_type": "code",
      "metadata": {
        "id": "7IwZ6sGWvjmy",
        "colab": {
          "base_uri": "https://localhost:8080/",
          "height": 225
        },
        "outputId": "90274d58-937b-4d26-86de-6a8918d7bb9e"
      },
      "source": [
        "%%sql\n",
        "WITH recursive ManagerPath(title_path, manager_id, level) AS (\n",
        "    SELECT title as title_path, id as manager_id, 1 as level\n",
        "        FROM Employees\n",
        "    WHERE manager_id is null\n",
        "\n",
        "    UNION\n",
        "\n",
        "    SELECT ManagerPath.title_path || '->' || Employees.title as title_path,\n",
        "          id as manager_id,\n",
        "          ManagerPath.level + 1 as level\n",
        "    FROM ManagerPath\n",
        "    INNER JOIN Employees using (manager_id)\n",
        ")\n",
        "select * from ManagerPath"
      ],
      "execution_count": 27,
      "outputs": [
        {
          "output_type": "stream",
          "name": "stdout",
          "text": [
            " * sqlite://\n",
            "Done.\n"
          ]
        },
        {
          "output_type": "execute_result",
          "data": {
            "text/plain": [
              "[('Director', 1, 1),\n",
              " ('Director->Vice President', 2, 2),\n",
              " ('Director->Vice President', 3, 2),\n",
              " ('Director->Vice President->Developer', 4, 3),\n",
              " ('Director->Vice President->Analyst', 5, 3),\n",
              " ('Director->Vice President->Engineer', 6, 3),\n",
              " ('Director->Vice President->Engineer', 7, 3)]"
            ],
            "text/html": [
              "<table>\n",
              "    <thead>\n",
              "        <tr>\n",
              "            <th>title_path</th>\n",
              "            <th>manager_id</th>\n",
              "            <th>level</th>\n",
              "        </tr>\n",
              "    </thead>\n",
              "    <tbody>\n",
              "        <tr>\n",
              "            <td>Director</td>\n",
              "            <td>1</td>\n",
              "            <td>1</td>\n",
              "        </tr>\n",
              "        <tr>\n",
              "            <td>Director-&gt;Vice President</td>\n",
              "            <td>2</td>\n",
              "            <td>2</td>\n",
              "        </tr>\n",
              "        <tr>\n",
              "            <td>Director-&gt;Vice President</td>\n",
              "            <td>3</td>\n",
              "            <td>2</td>\n",
              "        </tr>\n",
              "        <tr>\n",
              "            <td>Director-&gt;Vice President-&gt;Developer</td>\n",
              "            <td>4</td>\n",
              "            <td>3</td>\n",
              "        </tr>\n",
              "        <tr>\n",
              "            <td>Director-&gt;Vice President-&gt;Analyst</td>\n",
              "            <td>5</td>\n",
              "            <td>3</td>\n",
              "        </tr>\n",
              "        <tr>\n",
              "            <td>Director-&gt;Vice President-&gt;Engineer</td>\n",
              "            <td>6</td>\n",
              "            <td>3</td>\n",
              "        </tr>\n",
              "        <tr>\n",
              "            <td>Director-&gt;Vice President-&gt;Engineer</td>\n",
              "            <td>7</td>\n",
              "            <td>3</td>\n",
              "        </tr>\n",
              "    </tbody>\n",
              "</table>"
            ]
          },
          "metadata": {},
          "execution_count": 27
        }
      ]
    },
    {
      "cell_type": "code",
      "source": [
        "%%sql\n",
        "WITH RECURSIVE cnt(x) AS (\n",
        "    VALUES(1)\n",
        "\n",
        "    UNION ALL\n",
        "\n",
        "    SELECT x+1 FROM cnt\n",
        "    WHERE x > 0  -- бесконечная рекурсия (работать не будет)\n",
        "    )\n",
        "SELECT x FROM cnt;"
      ],
      "metadata": {
        "colab": {
          "base_uri": "https://localhost:8080/"
        },
        "id": "o0DeY3hN0WXn",
        "outputId": "125fe89b-db7a-41ac-8f71-9e3361ecc933"
      },
      "execution_count": null,
      "outputs": [
        {
          "output_type": "stream",
          "name": "stdout",
          "text": [
            " * sqlite://\n",
            "Done.\n"
          ]
        }
      ]
    },
    {
      "cell_type": "markdown",
      "source": [
        "## Ограничение целостности CHECK"
      ],
      "metadata": {
        "id": "r_ePjJL6wS5E"
      }
    },
    {
      "cell_type": "code",
      "source": [
        "%%sql\n",
        "DROP TABLE IF EXISTS Clients;\n",
        "\n",
        "CREATE TABLE Clients(\n",
        "    ID integer PRIMARY KEY,\n",
        "    FirstName varchar(255) NOT NULL,\n",
        "    LastName varchar(255) NOT NULL,\n",
        "    Age integer,\n",
        "    CHECK (Age>=18)\n",
        ");"
      ],
      "metadata": {
        "colab": {
          "base_uri": "https://localhost:8080/"
        },
        "id": "lqBCgwq1wSLs",
        "outputId": "84584251-80ea-43a0-db08-64c3840d0b5f"
      },
      "execution_count": 28,
      "outputs": [
        {
          "output_type": "stream",
          "name": "stdout",
          "text": [
            " * sqlite://\n",
            "Done.\n",
            "Done.\n"
          ]
        },
        {
          "output_type": "execute_result",
          "data": {
            "text/plain": [
              "[]"
            ]
          },
          "metadata": {},
          "execution_count": 28
        }
      ]
    },
    {
      "cell_type": "code",
      "source": [
        "%%sql\n",
        "INSERT INTO Clients (FirstName, LastName, Age) VALUES (\"Антон\", \"Иванов\", 23);\n",
        "INSERT INTO Clients (FirstName, LastName, Age) VALUES (\"Андрей\", \"Степанов\", 27);\n",
        "INSERT INTO Clients (FirstName, LastName, Age) VALUES (\"Наталья\", \"Ештукова\", 20);\n",
        "INSERT INTO Clients (FirstName, LastName, Age) VALUES (\"Виктория\", \"Андреева\", 37);\n",
        "INSERT INTO Clients (FirstName, LastName, Age) VALUES (\"Илья\", \"Ильин\", 47);"
      ],
      "metadata": {
        "colab": {
          "base_uri": "https://localhost:8080/"
        },
        "id": "CSRQibDzwWh0",
        "outputId": "e7916842-9580-424a-b839-b778fd5d1882"
      },
      "execution_count": 29,
      "outputs": [
        {
          "output_type": "stream",
          "name": "stdout",
          "text": [
            " * sqlite://\n",
            "1 rows affected.\n",
            "1 rows affected.\n",
            "1 rows affected.\n",
            "1 rows affected.\n",
            "1 rows affected.\n"
          ]
        },
        {
          "output_type": "execute_result",
          "data": {
            "text/plain": [
              "[]"
            ]
          },
          "metadata": {},
          "execution_count": 29
        }
      ]
    },
    {
      "cell_type": "code",
      "source": [
        "%%sql\n",
        "SELECT * FROM Clients;"
      ],
      "metadata": {
        "colab": {
          "base_uri": "https://localhost:8080/",
          "height": 182
        },
        "id": "KIbLeB7mwYV0",
        "outputId": "b7ef591f-f63a-4ba9-b87e-88a547474c9d"
      },
      "execution_count": 30,
      "outputs": [
        {
          "output_type": "stream",
          "name": "stdout",
          "text": [
            " * sqlite://\n",
            "Done.\n"
          ]
        },
        {
          "output_type": "execute_result",
          "data": {
            "text/plain": [
              "[(1, 'Антон', 'Иванов', 23),\n",
              " (2, 'Андрей', 'Степанов', 27),\n",
              " (3, 'Наталья', 'Ештукова', 20),\n",
              " (4, 'Виктория', 'Андреева', 37),\n",
              " (5, 'Илья', 'Ильин', 47)]"
            ],
            "text/html": [
              "<table>\n",
              "    <thead>\n",
              "        <tr>\n",
              "            <th>ID</th>\n",
              "            <th>FirstName</th>\n",
              "            <th>LastName</th>\n",
              "            <th>Age</th>\n",
              "        </tr>\n",
              "    </thead>\n",
              "    <tbody>\n",
              "        <tr>\n",
              "            <td>1</td>\n",
              "            <td>Антон</td>\n",
              "            <td>Иванов</td>\n",
              "            <td>23</td>\n",
              "        </tr>\n",
              "        <tr>\n",
              "            <td>2</td>\n",
              "            <td>Андрей</td>\n",
              "            <td>Степанов</td>\n",
              "            <td>27</td>\n",
              "        </tr>\n",
              "        <tr>\n",
              "            <td>3</td>\n",
              "            <td>Наталья</td>\n",
              "            <td>Ештукова</td>\n",
              "            <td>20</td>\n",
              "        </tr>\n",
              "        <tr>\n",
              "            <td>4</td>\n",
              "            <td>Виктория</td>\n",
              "            <td>Андреева</td>\n",
              "            <td>37</td>\n",
              "        </tr>\n",
              "        <tr>\n",
              "            <td>5</td>\n",
              "            <td>Илья</td>\n",
              "            <td>Ильин</td>\n",
              "            <td>47</td>\n",
              "        </tr>\n",
              "    </tbody>\n",
              "</table>"
            ]
          },
          "metadata": {},
          "execution_count": 30
        }
      ]
    },
    {
      "cell_type": "code",
      "source": [
        "%%sql\n",
        "INSERT INTO Clients (FirstName, LastName, Age) VALUES (\"Иван\", \"Воронцов\", 17);"
      ],
      "metadata": {
        "colab": {
          "base_uri": "https://localhost:8080/"
        },
        "id": "_r5iAbegwZ6U",
        "outputId": "19d1daf3-53b9-491c-cef1-124339999c0c"
      },
      "execution_count": 31,
      "outputs": [
        {
          "output_type": "stream",
          "name": "stdout",
          "text": [
            " * sqlite://\n",
            "(sqlite3.IntegrityError) CHECK constraint failed: Age>=18\n",
            "[SQL: INSERT INTO Clients (FirstName, LastName, Age) VALUES (\"Иван\", \"Воронцов\", 17);]\n",
            "(Background on this error at: https://sqlalche.me/e/20/gkpj)\n"
          ]
        }
      ]
    },
    {
      "cell_type": "code",
      "source": [
        "%%sql\n",
        "INSERT INTO Clients (FirstName, LastName) VALUES (\"Иван\", \"Воронцов\");"
      ],
      "metadata": {
        "colab": {
          "base_uri": "https://localhost:8080/"
        },
        "id": "3ktoV7jfwswF",
        "outputId": "e0ba09b4-5947-4b81-a305-c88fc83b1e87"
      },
      "execution_count": 32,
      "outputs": [
        {
          "output_type": "stream",
          "name": "stdout",
          "text": [
            " * sqlite://\n",
            "1 rows affected.\n"
          ]
        },
        {
          "output_type": "execute_result",
          "data": {
            "text/plain": [
              "[]"
            ]
          },
          "metadata": {},
          "execution_count": 32
        }
      ]
    },
    {
      "cell_type": "code",
      "source": [
        "%%sql\n",
        "SELECT * FROM Clients;"
      ],
      "metadata": {
        "colab": {
          "base_uri": "https://localhost:8080/",
          "height": 203
        },
        "id": "EgbDl4VDwbls",
        "outputId": "4424f0db-f84c-4b97-b4be-688f1190f025"
      },
      "execution_count": 33,
      "outputs": [
        {
          "output_type": "stream",
          "name": "stdout",
          "text": [
            " * sqlite://\n",
            "Done.\n"
          ]
        },
        {
          "output_type": "execute_result",
          "data": {
            "text/plain": [
              "[(1, 'Антон', 'Иванов', 23),\n",
              " (2, 'Андрей', 'Степанов', 27),\n",
              " (3, 'Наталья', 'Ештукова', 20),\n",
              " (4, 'Виктория', 'Андреева', 37),\n",
              " (5, 'Илья', 'Ильин', 47),\n",
              " (6, 'Иван', 'Воронцов', None)]"
            ],
            "text/html": [
              "<table>\n",
              "    <thead>\n",
              "        <tr>\n",
              "            <th>ID</th>\n",
              "            <th>FirstName</th>\n",
              "            <th>LastName</th>\n",
              "            <th>Age</th>\n",
              "        </tr>\n",
              "    </thead>\n",
              "    <tbody>\n",
              "        <tr>\n",
              "            <td>1</td>\n",
              "            <td>Антон</td>\n",
              "            <td>Иванов</td>\n",
              "            <td>23</td>\n",
              "        </tr>\n",
              "        <tr>\n",
              "            <td>2</td>\n",
              "            <td>Андрей</td>\n",
              "            <td>Степанов</td>\n",
              "            <td>27</td>\n",
              "        </tr>\n",
              "        <tr>\n",
              "            <td>3</td>\n",
              "            <td>Наталья</td>\n",
              "            <td>Ештукова</td>\n",
              "            <td>20</td>\n",
              "        </tr>\n",
              "        <tr>\n",
              "            <td>4</td>\n",
              "            <td>Виктория</td>\n",
              "            <td>Андреева</td>\n",
              "            <td>37</td>\n",
              "        </tr>\n",
              "        <tr>\n",
              "            <td>5</td>\n",
              "            <td>Илья</td>\n",
              "            <td>Ильин</td>\n",
              "            <td>47</td>\n",
              "        </tr>\n",
              "        <tr>\n",
              "            <td>6</td>\n",
              "            <td>Иван</td>\n",
              "            <td>Воронцов</td>\n",
              "            <td>None</td>\n",
              "        </tr>\n",
              "    </tbody>\n",
              "</table>"
            ]
          },
          "metadata": {},
          "execution_count": 33
        }
      ]
    },
    {
      "cell_type": "markdown",
      "source": [
        "## Математические функции"
      ],
      "metadata": {
        "id": "OjpTRY8qyf9q"
      }
    },
    {
      "cell_type": "code",
      "source": [
        "%%sql\n",
        "DROP TABLE IF EXISTS Numbers;\n",
        "\n",
        "CREATE TABLE Numbers(\n",
        "    a integer,\n",
        "    b integer\n",
        ");"
      ],
      "metadata": {
        "colab": {
          "base_uri": "https://localhost:8080/"
        },
        "id": "Wm8GXOSJyaVp",
        "outputId": "13a3a951-d101-425b-9340-2263d170e66c"
      },
      "execution_count": 34,
      "outputs": [
        {
          "output_type": "stream",
          "name": "stdout",
          "text": [
            " * sqlite://\n",
            "Done.\n",
            "Done.\n"
          ]
        },
        {
          "output_type": "execute_result",
          "data": {
            "text/plain": [
              "[]"
            ]
          },
          "metadata": {},
          "execution_count": 34
        }
      ]
    },
    {
      "cell_type": "code",
      "source": [
        "%%sql\n",
        "INSERT INTO Numbers VALUES (random(), 0); --между -9223372036854775808 и +9223372036854775807\n",
        "INSERT INTO Numbers VALUES (random(), 0);\n",
        "INSERT INTO Numbers VALUES (random(), 0);\n",
        "SELECT * FROM Numbers;"
      ],
      "metadata": {
        "colab": {
          "base_uri": "https://localhost:8080/",
          "height": 191
        },
        "id": "o8WMYPsFyjbC",
        "outputId": "efa1ebda-4000-4ca5-b6e3-1074d69f772d"
      },
      "execution_count": 35,
      "outputs": [
        {
          "output_type": "stream",
          "name": "stdout",
          "text": [
            " * sqlite://\n",
            "1 rows affected.\n",
            "1 rows affected.\n",
            "1 rows affected.\n",
            "Done.\n"
          ]
        },
        {
          "output_type": "execute_result",
          "data": {
            "text/plain": [
              "[(1978763835261631773, 0),\n",
              " (-3930439263297638603, 0),\n",
              " (-3260380857469159290, 0)]"
            ],
            "text/html": [
              "<table>\n",
              "    <thead>\n",
              "        <tr>\n",
              "            <th>a</th>\n",
              "            <th>b</th>\n",
              "        </tr>\n",
              "    </thead>\n",
              "    <tbody>\n",
              "        <tr>\n",
              "            <td>1978763835261631773</td>\n",
              "            <td>0</td>\n",
              "        </tr>\n",
              "        <tr>\n",
              "            <td>-3930439263297638603</td>\n",
              "            <td>0</td>\n",
              "        </tr>\n",
              "        <tr>\n",
              "            <td>-3260380857469159290</td>\n",
              "            <td>0</td>\n",
              "        </tr>\n",
              "    </tbody>\n",
              "</table>"
            ]
          },
          "metadata": {},
          "execution_count": 35
        }
      ]
    },
    {
      "cell_type": "code",
      "source": [
        "%%sql\n",
        "INSERT INTO Numbers VALUES (abs(random() % 10), abs(random() % 10)); --между 0 and 10\n",
        "INSERT INTO Numbers VALUES ((abs(random()) % (10-1)+1), (abs(random()) % (10-1)+1)); --между 1 and 10\n",
        "INSERT INTO Numbers VALUES (NULL, NULL);\n",
        "SELECT * FROM Numbers;"
      ],
      "metadata": {
        "colab": {
          "base_uri": "https://localhost:8080/",
          "height": 255
        },
        "id": "wm5cmb3Yyj8b",
        "outputId": "d61d0be2-e6e3-4095-ff56-8270ad82d815"
      },
      "execution_count": 36,
      "outputs": [
        {
          "output_type": "stream",
          "name": "stdout",
          "text": [
            " * sqlite://\n",
            "1 rows affected.\n",
            "1 rows affected.\n",
            "1 rows affected.\n",
            "Done.\n"
          ]
        },
        {
          "output_type": "execute_result",
          "data": {
            "text/plain": [
              "[(1978763835261631773, 0),\n",
              " (-3930439263297638603, 0),\n",
              " (-3260380857469159290, 0),\n",
              " (9, 9),\n",
              " (7, 5),\n",
              " (None, None)]"
            ],
            "text/html": [
              "<table>\n",
              "    <thead>\n",
              "        <tr>\n",
              "            <th>a</th>\n",
              "            <th>b</th>\n",
              "        </tr>\n",
              "    </thead>\n",
              "    <tbody>\n",
              "        <tr>\n",
              "            <td>1978763835261631773</td>\n",
              "            <td>0</td>\n",
              "        </tr>\n",
              "        <tr>\n",
              "            <td>-3930439263297638603</td>\n",
              "            <td>0</td>\n",
              "        </tr>\n",
              "        <tr>\n",
              "            <td>-3260380857469159290</td>\n",
              "            <td>0</td>\n",
              "        </tr>\n",
              "        <tr>\n",
              "            <td>9</td>\n",
              "            <td>9</td>\n",
              "        </tr>\n",
              "        <tr>\n",
              "            <td>7</td>\n",
              "            <td>5</td>\n",
              "        </tr>\n",
              "        <tr>\n",
              "            <td>None</td>\n",
              "            <td>None</td>\n",
              "        </tr>\n",
              "    </tbody>\n",
              "</table>"
            ]
          },
          "metadata": {},
          "execution_count": 36
        }
      ]
    },
    {
      "cell_type": "code",
      "source": [
        "%%sql\n",
        "SELECT a, b, sin(a), cos(a), atan(a), sqrt(a), ln(a), pow(a,b) FROM Numbers;"
      ],
      "metadata": {
        "colab": {
          "base_uri": "https://localhost:8080/",
          "height": 203
        },
        "id": "pL1eApyVynNC",
        "outputId": "bc8ad4da-0c8b-4e0c-8c91-566f79fb1194"
      },
      "execution_count": 37,
      "outputs": [
        {
          "output_type": "stream",
          "name": "stdout",
          "text": [
            " * sqlite://\n",
            "Done.\n"
          ]
        },
        {
          "output_type": "execute_result",
          "data": {
            "text/plain": [
              "[(1978763835261631773, 0, 0.8015578249131222, -0.5979172629390662, 1.5707963267948966, 1406685407.3536243, 42.12900399800143, 1.0),\n",
              " (-3930439263297638603, 0, -0.5539924542184859, -0.8325216878069777, -1.5707963267948966, None, None, 1.0),\n",
              " (-3260380857469159290, 0, -0.10162688640189642, 0.9948225851679565, -1.5707963267948966, None, None, 1.0),\n",
              " (9, 9, 0.4121184852417566, -0.9111302618846769, 1.460139105621001, 3.0, 2.1972245773362196, 387420489.0),\n",
              " (7, 5, 0.6569865987187891, 0.7539022543433046, 1.4288992721907328, 2.6457513110645907, 1.9459101490553132, 16807.0),\n",
              " (None, None, None, None, None, None, None, None)]"
            ],
            "text/html": [
              "<table>\n",
              "    <thead>\n",
              "        <tr>\n",
              "            <th>a</th>\n",
              "            <th>b</th>\n",
              "            <th>sin(a)</th>\n",
              "            <th>cos(a)</th>\n",
              "            <th>atan(a)</th>\n",
              "            <th>sqrt(a)</th>\n",
              "            <th>ln(a)</th>\n",
              "            <th>pow(a,b)</th>\n",
              "        </tr>\n",
              "    </thead>\n",
              "    <tbody>\n",
              "        <tr>\n",
              "            <td>1978763835261631773</td>\n",
              "            <td>0</td>\n",
              "            <td>0.8015578249131222</td>\n",
              "            <td>-0.5979172629390662</td>\n",
              "            <td>1.5707963267948966</td>\n",
              "            <td>1406685407.3536243</td>\n",
              "            <td>42.12900399800143</td>\n",
              "            <td>1.0</td>\n",
              "        </tr>\n",
              "        <tr>\n",
              "            <td>-3930439263297638603</td>\n",
              "            <td>0</td>\n",
              "            <td>-0.5539924542184859</td>\n",
              "            <td>-0.8325216878069777</td>\n",
              "            <td>-1.5707963267948966</td>\n",
              "            <td>None</td>\n",
              "            <td>None</td>\n",
              "            <td>1.0</td>\n",
              "        </tr>\n",
              "        <tr>\n",
              "            <td>-3260380857469159290</td>\n",
              "            <td>0</td>\n",
              "            <td>-0.10162688640189642</td>\n",
              "            <td>0.9948225851679565</td>\n",
              "            <td>-1.5707963267948966</td>\n",
              "            <td>None</td>\n",
              "            <td>None</td>\n",
              "            <td>1.0</td>\n",
              "        </tr>\n",
              "        <tr>\n",
              "            <td>9</td>\n",
              "            <td>9</td>\n",
              "            <td>0.4121184852417566</td>\n",
              "            <td>-0.9111302618846769</td>\n",
              "            <td>1.460139105621001</td>\n",
              "            <td>3.0</td>\n",
              "            <td>2.1972245773362196</td>\n",
              "            <td>387420489.0</td>\n",
              "        </tr>\n",
              "        <tr>\n",
              "            <td>7</td>\n",
              "            <td>5</td>\n",
              "            <td>0.6569865987187891</td>\n",
              "            <td>0.7539022543433046</td>\n",
              "            <td>1.4288992721907328</td>\n",
              "            <td>2.6457513110645907</td>\n",
              "            <td>1.9459101490553132</td>\n",
              "            <td>16807.0</td>\n",
              "        </tr>\n",
              "        <tr>\n",
              "            <td>None</td>\n",
              "            <td>None</td>\n",
              "            <td>None</td>\n",
              "            <td>None</td>\n",
              "            <td>None</td>\n",
              "            <td>None</td>\n",
              "            <td>None</td>\n",
              "            <td>None</td>\n",
              "        </tr>\n",
              "    </tbody>\n",
              "</table>"
            ]
          },
          "metadata": {},
          "execution_count": 37
        }
      ]
    }
  ]
}