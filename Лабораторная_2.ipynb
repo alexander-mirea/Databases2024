{
  "nbformat": 4,
  "nbformat_minor": 0,
  "metadata": {
    "kernelspec": {
      "display_name": "Python 3",
      "language": "python",
      "name": "python3"
    },
    "language_info": {
      "codemirror_mode": {
        "name": "ipython",
        "version": 3
      },
      "file_extension": ".py",
      "mimetype": "text/x-python",
      "name": "python",
      "nbconvert_exporter": "python",
      "pygments_lexer": "ipython3",
      "version": "3.7.6"
    },
    "colab": {
      "provenance": []
    }
  },
  "cells": [
    {
      "cell_type": "code",
      "metadata": {
        "id": "exFkotWz7Lk_"
      },
      "source": [
        "%load_ext sql\n",
        "%sql sqlite:///store.db"
      ],
      "execution_count": null,
      "outputs": []
    },
    {
      "cell_type": "markdown",
      "metadata": {
        "id": "eEAq-gUB7LlF"
      },
      "source": [
        "## Задание 1\n",
        "Вывести 5 самых больших по размеру (в байтах) треков жанра Blues и формата MPEG. Только название и размер.\n"
      ]
    },
    {
      "cell_type": "code",
      "source": [],
      "metadata": {
        "id": "O7MqEcWciQHD"
      },
      "execution_count": null,
      "outputs": []
    },
    {
      "cell_type": "markdown",
      "metadata": {
        "id": "IwJ_E91n7LlD"
      },
      "source": [
        "## Задание 2\n",
        "Вывести названия всех треков и их исполнителей для всех треков жанра Rock, приобретенных сотрудниками Oracle.\n"
      ]
    },
    {
      "cell_type": "code",
      "source": [],
      "metadata": {
        "id": "x3il7qiGiS1q"
      },
      "execution_count": null,
      "outputs": []
    },
    {
      "cell_type": "markdown",
      "metadata": {
        "id": "0mmLXQXr7LlG"
      },
      "source": [
        "## Задание 3\n",
        "Для каждой компании вывести общее количество купленных джазовых композиций (если 0, можно не выводить).\n"
      ]
    },
    {
      "cell_type": "code",
      "metadata": {
        "id": "9kcvxk8OCrby"
      },
      "source": [],
      "execution_count": null,
      "outputs": []
    },
    {
      "cell_type": "markdown",
      "metadata": {
        "id": "M2JDkqnT7LlG"
      },
      "source": [
        "## Задание 4\n",
        "Вывести топ 3 плейлиста по продолжительности (продолжительность плейлиста = сумма длин треков в нём). Только название и продолжительность (в часах).\n"
      ]
    },
    {
      "cell_type": "code",
      "metadata": {
        "id": "isEzp0r0Crzy"
      },
      "source": [],
      "execution_count": null,
      "outputs": []
    },
    {
      "cell_type": "markdown",
      "metadata": {
        "id": "Ni7Mi7ur7LlH"
      },
      "source": [
        "## Задание 5\n",
        "Для каждого набора (жанр, тип медиа) вывести количество треков в них, причем вывести только те наборы, для которых **все** треки стоят больше 1$ и для которых в наборе есть хотя бы один трек."
      ]
    },
    {
      "cell_type": "code",
      "source": [],
      "metadata": {
        "id": "Y-psouvxm9vF"
      },
      "execution_count": null,
      "outputs": []
    }
  ]
}