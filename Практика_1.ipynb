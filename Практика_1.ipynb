{
  "cells": [
    {
      "cell_type": "markdown",
      "metadata": {
        "id": "JbsG8St43e15"
      },
      "source": [
        "# Практика №1\n",
        "# Базовый SQL"
      ]
    },
    {
      "cell_type": "code",
      "execution_count": null,
      "metadata": {
        "id": "VugmktU23e18",
        "collapsed": true
      },
      "outputs": [],
      "source": [
        "!pip install ipython-sql #не обязательно запускать в colab"
      ]
    },
    {
      "cell_type": "code",
      "execution_count": 1,
      "metadata": {
        "id": "EHeah9XT3e1-"
      },
      "outputs": [],
      "source": [
        "%load_ext sql\n",
        "%sql sqlite://"
      ]
    },
    {
      "cell_type": "code",
      "execution_count": 2,
      "metadata": {
        "id": "c3O0gCMeL4x1",
        "colab": {
          "base_uri": "https://localhost:8080/",
          "height": 96
        },
        "outputId": "38906051-3d82-4c06-a5c2-9fe6b59ec903"
      },
      "outputs": [
        {
          "output_type": "stream",
          "name": "stdout",
          "text": [
            " * sqlite://\n",
            "Done.\n"
          ]
        },
        {
          "output_type": "execute_result",
          "data": {
            "text/plain": [
              "[('Hello, world',)]"
            ],
            "text/html": [
              "<table>\n",
              "    <thead>\n",
              "        <tr>\n",
              "            <th>&#x27;Hello, world&#x27;</th>\n",
              "        </tr>\n",
              "    </thead>\n",
              "    <tbody>\n",
              "        <tr>\n",
              "            <td>Hello, world</td>\n",
              "        </tr>\n",
              "    </tbody>\n",
              "</table>"
            ]
          },
          "metadata": {},
          "execution_count": 2
        }
      ],
      "source": [
        "%%sql\n",
        "SELECT 'Hello, world';"
      ]
    },
    {
      "cell_type": "markdown",
      "metadata": {
        "id": "BddZd--n3e1-"
      },
      "source": [
        "Пара замечаний:\n",
        " * Мы используем веб-интерфейс для python, поэтому для запуска SQL запросов необходимо применить ряд вещей:\n",
        "     * Необходимо подключить расширение SQL через так называемые magic command. [Более подробно здесь](https://ipython.readthedocs.io/en/stable/interactive/magics.html)\n",
        "     * Для работы с SQL надо вызвать либо %sql для однострочной команды, либо %%sql - для многострочной\n",
        "     * При использовании выражения SELECT результатом вывода является таблица, но при этом в notebook выводится уже внутреннее представление языка python (объект класса sql.run.resultset, подробности далее), что приводит к ряду несоответствий (например, None вместо NULL)"
      ]
    },
    {
      "cell_type": "markdown",
      "metadata": {
        "id": "SH32wtP53e1_"
      },
      "source": [
        "Давайте создадим таблицу, заполним ее и сделаем какой-нибудь запрос!"
      ]
    },
    {
      "cell_type": "markdown",
      "source": [
        "## CREATE TABLE, INSERT"
      ],
      "metadata": {
        "id": "gNU8VIEQ89i8"
      }
    },
    {
      "cell_type": "code",
      "execution_count": null,
      "metadata": {
        "id": "yTR1NvLgQlqS",
        "collapsed": true
      },
      "outputs": [],
      "source": [
        "%%sql\n",
        "\n",
        "DROP TABLE IF EXISTS Product;\n",
        "\n",
        "CREATE TABLE Product(\n",
        "       pname        varchar(20) PRIMARY KEY,  -- имя продукта\n",
        "       price        money DEFAULT 0,          -- цена продукта; money = decimal(n,2)\n",
        "       category     char(20),                 -- категория товара\n",
        "       manufacturer varchar(20) NOT NULL      -- производитель\n",
        ");"
      ]
    },
    {
      "cell_type": "markdown",
      "source": [
        "Особенности SQLite:\n",
        "https://www.sqlite.org/datatype3.html\n",
        "\n",
        "Типы данных:\n",
        "* TEXT\n",
        "* NUMERIC\n",
        "* INTEGER\n",
        "* REAL\n",
        "* BLOB"
      ],
      "metadata": {
        "id": "Ihmw3JBJyReg"
      }
    },
    {
      "cell_type": "code",
      "source": [
        "%%sql\n",
        "\n",
        "INSERT INTO Product (pname, price, category, manufacturer) values\n",
        "('Тетрадь', 39.99, 'Канцелярия', 'Академия холдинг');\n",
        "\n",
        "INSERT INTO Product values('Клавиатура', 949.99, 'Техника', 'Sven');\n",
        "\n",
        "INSERT INTO Product\n",
        "    values ('Степлер', 129.99, 'Канцелярия', 'Brauberg'),\n",
        "           ('Батарейка', 39.99, 'Для дома', 'Krona'),\n",
        "           ('Лампочка', 89.70, 'Для дома', 'Energolux');"
      ],
      "metadata": {
        "id": "4vZfULzitq4P"
      },
      "execution_count": null,
      "outputs": []
    },
    {
      "cell_type": "code",
      "execution_count": 5,
      "metadata": {
        "id": "vBptMWZSUp_B",
        "colab": {
          "base_uri": "https://localhost:8080/"
        },
        "outputId": "8b00ad77-716b-43f4-a6ed-3efebbb93b4d"
      },
      "outputs": [
        {
          "output_type": "stream",
          "name": "stdout",
          "text": [
            " * sqlite://\n",
            "(sqlite3.IntegrityError) NOT NULL constraint failed: Product.manufacturer\n",
            "[SQL: insert into product (pname, category) values ('Веб-камера', 'Техника');]\n",
            "(Background on this error at: https://sqlalche.me/e/20/gkpj)\n"
          ]
        }
      ],
      "source": [
        "%%sql\n",
        "insert into product (pname, category) values ('Веб-камера', 'Техника');"
      ]
    },
    {
      "cell_type": "code",
      "source": [
        "%%sql\n",
        "insert into product (pname, manufacturer) values ('Веб-камера', 'Sven');"
      ],
      "metadata": {
        "id": "Hp2juc8xzYW_"
      },
      "execution_count": null,
      "outputs": []
    },
    {
      "cell_type": "markdown",
      "metadata": {
        "id": "NxVMgNfu3e2A"
      },
      "source": [
        "Посмотрим на полученную таблицу."
      ]
    },
    {
      "cell_type": "code",
      "execution_count": 7,
      "metadata": {
        "id": "-qNUD0TK3e2A",
        "colab": {
          "base_uri": "https://localhost:8080/",
          "height": 203
        },
        "outputId": "dd6d8639-f544-49d7-d191-c178bc1f750b"
      },
      "outputs": [
        {
          "output_type": "stream",
          "name": "stdout",
          "text": [
            " * sqlite://\n",
            "Done.\n"
          ]
        },
        {
          "output_type": "execute_result",
          "data": {
            "text/plain": [
              "[('Тетрадь', 39.99, 'Канцелярия', 'Академия холдинг'),\n",
              " ('Клавиатура', 949.99, 'Техника', 'Sven'),\n",
              " ('Степлер', 129.99, 'Канцелярия', 'Brauberg'),\n",
              " ('Батарейка', 39.99, 'Для дома', 'Krona'),\n",
              " ('Лампочка', 89.7, 'Для дома', 'Energolux'),\n",
              " ('Веб-камера', 0, None, 'Sven')]"
            ],
            "text/html": [
              "<table>\n",
              "    <thead>\n",
              "        <tr>\n",
              "            <th>pname</th>\n",
              "            <th>price</th>\n",
              "            <th>category</th>\n",
              "            <th>manufacturer</th>\n",
              "        </tr>\n",
              "    </thead>\n",
              "    <tbody>\n",
              "        <tr>\n",
              "            <td>Тетрадь</td>\n",
              "            <td>39.99</td>\n",
              "            <td>Канцелярия</td>\n",
              "            <td>Академия холдинг</td>\n",
              "        </tr>\n",
              "        <tr>\n",
              "            <td>Клавиатура</td>\n",
              "            <td>949.99</td>\n",
              "            <td>Техника</td>\n",
              "            <td>Sven</td>\n",
              "        </tr>\n",
              "        <tr>\n",
              "            <td>Степлер</td>\n",
              "            <td>129.99</td>\n",
              "            <td>Канцелярия</td>\n",
              "            <td>Brauberg</td>\n",
              "        </tr>\n",
              "        <tr>\n",
              "            <td>Батарейка</td>\n",
              "            <td>39.99</td>\n",
              "            <td>Для дома</td>\n",
              "            <td>Krona</td>\n",
              "        </tr>\n",
              "        <tr>\n",
              "            <td>Лампочка</td>\n",
              "            <td>89.7</td>\n",
              "            <td>Для дома</td>\n",
              "            <td>Energolux</td>\n",
              "        </tr>\n",
              "        <tr>\n",
              "            <td>Веб-камера</td>\n",
              "            <td>0</td>\n",
              "            <td>None</td>\n",
              "            <td>Sven</td>\n",
              "        </tr>\n",
              "    </tbody>\n",
              "</table>"
            ]
          },
          "metadata": {},
          "execution_count": 7
        }
      ],
      "source": [
        "%sql select * from product;"
      ]
    },
    {
      "cell_type": "code",
      "source": [
        "%%sql\n",
        "INSERT INTO Product\n",
        "    values ('Батарейка', 50, 'Для дома', 'Energizer');"
      ],
      "metadata": {
        "id": "fGIdvxZ5z_iA",
        "colab": {
          "base_uri": "https://localhost:8080/"
        },
        "outputId": "98f0f209-5ef0-4c96-8dc2-a4815c315d7c"
      },
      "execution_count": 8,
      "outputs": [
        {
          "output_type": "stream",
          "name": "stdout",
          "text": [
            " * sqlite://\n",
            "(sqlite3.IntegrityError) UNIQUE constraint failed: Product.pname\n",
            "[SQL: INSERT INTO Product\n",
            "    values ('Батарейка', 50, 'Для дома', 'Energizer');]\n",
            "(Background on this error at: https://sqlalche.me/e/20/gkpj)\n"
          ]
        }
      ]
    },
    {
      "cell_type": "markdown",
      "source": [
        "Иногда бывает полезно применять UNIQUE при создании атрибута"
      ],
      "metadata": {
        "id": "10L3z20m0yGo"
      }
    },
    {
      "cell_type": "markdown",
      "metadata": {
        "id": "qBd55TZN3e2C"
      },
      "source": [
        "## Немного SQL терминологии\n",
        "* _имя_ таблицы - product.\n",
        "* Каждая строка таблицы называется _строкой_ или _кортежем_.\n",
        "* Заметьте, что все кортежи имеют _поля_ или _атрибуты_.\n",
        "* Количество строк называет _мощностью_, в то время как количество атрибутов _арностью_"
      ]
    },
    {
      "cell_type": "markdown",
      "metadata": {
        "id": "kq9toV9Q3e2D"
      },
      "source": [
        "## Простые запросы\n",
        "* Рассмотрим SQL-запросы на примерах\n"
      ]
    },
    {
      "cell_type": "markdown",
      "metadata": {
        "id": "DuMZKAJk3e2D"
      },
      "source": [
        "> SELECT <Множество атрибутов><br>\n",
        "> FROM <список таблиц и условие на соединение><br>\n",
        "> WHERE <список условий>\n",
        "\n",
        "Это простейший SELECT-FROM-WHERE (SFW) блок"
      ]
    },
    {
      "cell_type": "code",
      "execution_count": 9,
      "metadata": {
        "id": "ftaoZPsE3e2D",
        "colab": {
          "base_uri": "https://localhost:8080/",
          "height": 96
        },
        "outputId": "c237676f-62fe-4491-ba6b-095bac79d63f"
      },
      "outputs": [
        {
          "output_type": "stream",
          "name": "stdout",
          "text": [
            " * sqlite://\n",
            "Done.\n"
          ]
        },
        {
          "output_type": "execute_result",
          "data": {
            "text/plain": [
              "[('Степлер', 129.99, 'Канцелярия', 'Brauberg')]"
            ],
            "text/html": [
              "<table>\n",
              "    <thead>\n",
              "        <tr>\n",
              "            <th>pname</th>\n",
              "            <th>price</th>\n",
              "            <th>category</th>\n",
              "            <th>manufacturer</th>\n",
              "        </tr>\n",
              "    </thead>\n",
              "    <tbody>\n",
              "        <tr>\n",
              "            <td>Степлер</td>\n",
              "            <td>129.99</td>\n",
              "            <td>Канцелярия</td>\n",
              "            <td>Brauberg</td>\n",
              "        </tr>\n",
              "    </tbody>\n",
              "</table>"
            ]
          },
          "metadata": {},
          "execution_count": 9
        }
      ],
      "source": [
        "%%sql\n",
        "SELECT *\n",
        "FROM Product\n",
        "WHERE category = 'Канцелярия' AND manufacturer = 'Brauberg';"
      ]
    },
    {
      "cell_type": "markdown",
      "metadata": {
        "id": "Np3Qe8E53e2E"
      },
      "source": [
        "\\* \\- обозначает вывод всех полей, которые были описаны в поле FROM"
      ]
    },
    {
      "cell_type": "markdown",
      "metadata": {
        "id": "Ckp6vFd53e2E"
      },
      "source": [
        "Посмотрим на примеры *проекции*, то есть получим только несколько атрибутов запроса."
      ]
    },
    {
      "cell_type": "code",
      "execution_count": 10,
      "metadata": {
        "id": "EDRWOv5q3e2E",
        "colab": {
          "base_uri": "https://localhost:8080/",
          "height": 203
        },
        "outputId": "144b58ab-2d3d-479a-b544-f71e49a901e6"
      },
      "outputs": [
        {
          "output_type": "stream",
          "name": "stdout",
          "text": [
            " * sqlite://\n",
            "Done.\n"
          ]
        },
        {
          "output_type": "execute_result",
          "data": {
            "text/plain": [
              "[('Тетрадь', 39.99, 'Академия холдинг'),\n",
              " ('Клавиатура', 949.99, 'Sven'),\n",
              " ('Степлер', 129.99, 'Brauberg'),\n",
              " ('Батарейка', 39.99, 'Krona'),\n",
              " ('Лампочка', 89.7, 'Energolux'),\n",
              " ('Веб-камера', 0, 'Sven')]"
            ],
            "text/html": [
              "<table>\n",
              "    <thead>\n",
              "        <tr>\n",
              "            <th>pname</th>\n",
              "            <th>price</th>\n",
              "            <th>manufacturer</th>\n",
              "        </tr>\n",
              "    </thead>\n",
              "    <tbody>\n",
              "        <tr>\n",
              "            <td>Тетрадь</td>\n",
              "            <td>39.99</td>\n",
              "            <td>Академия холдинг</td>\n",
              "        </tr>\n",
              "        <tr>\n",
              "            <td>Клавиатура</td>\n",
              "            <td>949.99</td>\n",
              "            <td>Sven</td>\n",
              "        </tr>\n",
              "        <tr>\n",
              "            <td>Степлер</td>\n",
              "            <td>129.99</td>\n",
              "            <td>Brauberg</td>\n",
              "        </tr>\n",
              "        <tr>\n",
              "            <td>Батарейка</td>\n",
              "            <td>39.99</td>\n",
              "            <td>Krona</td>\n",
              "        </tr>\n",
              "        <tr>\n",
              "            <td>Лампочка</td>\n",
              "            <td>89.7</td>\n",
              "            <td>Energolux</td>\n",
              "        </tr>\n",
              "        <tr>\n",
              "            <td>Веб-камера</td>\n",
              "            <td>0</td>\n",
              "            <td>Sven</td>\n",
              "        </tr>\n",
              "    </tbody>\n",
              "</table>"
            ]
          },
          "metadata": {},
          "execution_count": 10
        }
      ],
      "source": [
        "%%sql\n",
        "SELECT Pname,\n",
        "       Price,\n",
        "       Manufacturer\n",
        "  FROM Product;"
      ]
    },
    {
      "cell_type": "markdown",
      "metadata": {
        "id": "bdSMh5Yb3e2F"
      },
      "source": [
        "На выходе *все еще* таблица и ее схема -\n",
        "> Answer(pname, price, manufacturer)"
      ]
    },
    {
      "cell_type": "markdown",
      "metadata": {
        "id": "urzNxF2w3e2F"
      },
      "source": [
        "Можно объединять выборку и проекцию + менять результат"
      ]
    },
    {
      "cell_type": "code",
      "execution_count": 11,
      "metadata": {
        "id": "0SbkrhNt3e2F",
        "colab": {
          "base_uri": "https://localhost:8080/",
          "height": 139
        },
        "outputId": "4880ba3d-8330-4fe3-8b2a-f511fc49755d"
      },
      "outputs": [
        {
          "output_type": "stream",
          "name": "stdout",
          "text": [
            " * sqlite://\n",
            "Done.\n"
          ]
        },
        {
          "output_type": "execute_result",
          "data": {
            "text/plain": [
              "[('Тетрадь', 79.98, 'Академия холдинг'),\n",
              " ('Клавиатура', 1899.98, 'Sven'),\n",
              " ('Степлер', 259.98, 'Brauberg')]"
            ],
            "text/html": [
              "<table>\n",
              "    <thead>\n",
              "        <tr>\n",
              "            <th>pname</th>\n",
              "            <th>newname2</th>\n",
              "            <th>&amp;7Производитель</th>\n",
              "        </tr>\n",
              "    </thead>\n",
              "    <tbody>\n",
              "        <tr>\n",
              "            <td>Тетрадь</td>\n",
              "            <td>79.98</td>\n",
              "            <td>Академия холдинг</td>\n",
              "        </tr>\n",
              "        <tr>\n",
              "            <td>Клавиатура</td>\n",
              "            <td>1899.98</td>\n",
              "            <td>Sven</td>\n",
              "        </tr>\n",
              "        <tr>\n",
              "            <td>Степлер</td>\n",
              "            <td>259.98</td>\n",
              "            <td>Brauberg</td>\n",
              "        </tr>\n",
              "    </tbody>\n",
              "</table>"
            ]
          },
          "metadata": {},
          "execution_count": 11
        }
      ],
      "source": [
        "%%sql\n",
        "SELECT Pname, Price * 2 as newname2, Manufacturer as \"&7Производитель\"\n",
        "FROM Product\n",
        "WHERE category in ('Техника', 'Канцелярия');"
      ]
    },
    {
      "cell_type": "code",
      "execution_count": 12,
      "metadata": {
        "id": "PaWumnvHXt6f",
        "colab": {
          "base_uri": "https://localhost:8080/",
          "height": 96
        },
        "outputId": "a7a253be-0d50-4763-c9d5-0d2c68147f4e"
      },
      "outputs": [
        {
          "output_type": "stream",
          "name": "stdout",
          "text": [
            " * sqlite://\n",
            "Done.\n"
          ]
        },
        {
          "output_type": "execute_result",
          "data": {
            "text/plain": [
              "[('Клавиатура->949.99->Sven',)]"
            ],
            "text/html": [
              "<table>\n",
              "    <thead>\n",
              "        <tr>\n",
              "            <th>product_concat</th>\n",
              "        </tr>\n",
              "    </thead>\n",
              "    <tbody>\n",
              "        <tr>\n",
              "            <td>Клавиатура-&gt;949.99-&gt;Sven</td>\n",
              "        </tr>\n",
              "    </tbody>\n",
              "</table>"
            ]
          },
          "metadata": {},
          "execution_count": 12
        }
      ],
      "source": [
        "%%sql\n",
        "SELECT pname || '->' || price || '->' || manufacturer as product_concat\n",
        "FROM Product\n",
        "WHERE category = 'Техника';"
      ]
    },
    {
      "cell_type": "code",
      "source": [
        "%%sql\n",
        "SELECT pname, LENGTH(pname), ROUND(price), FLOOR(price), CEILING(price)\n",
        "FROM Product\n",
        "WHERE category = 'Техника';"
      ],
      "metadata": {
        "colab": {
          "base_uri": "https://localhost:8080/",
          "height": 96
        },
        "id": "VI8e1nyOQZAG",
        "outputId": "87cbcac2-e398-4ba9-bce0-818ccd374710"
      },
      "execution_count": 13,
      "outputs": [
        {
          "output_type": "stream",
          "name": "stdout",
          "text": [
            " * sqlite://\n",
            "Done.\n"
          ]
        },
        {
          "output_type": "execute_result",
          "data": {
            "text/plain": [
              "[('Клавиатура', 10, 950.0, 949, 950.0)]"
            ],
            "text/html": [
              "<table>\n",
              "    <thead>\n",
              "        <tr>\n",
              "            <th>pname</th>\n",
              "            <th>LENGTH(pname)</th>\n",
              "            <th>ROUND(price)</th>\n",
              "            <th>FLOOR(price)</th>\n",
              "            <th>CEILING(price)</th>\n",
              "        </tr>\n",
              "    </thead>\n",
              "    <tbody>\n",
              "        <tr>\n",
              "            <td>Клавиатура</td>\n",
              "            <td>10</td>\n",
              "            <td>950.0</td>\n",
              "            <td>949</td>\n",
              "            <td>950.0</td>\n",
              "        </tr>\n",
              "    </tbody>\n",
              "</table>"
            ]
          },
          "metadata": {},
          "execution_count": 13
        }
      ]
    },
    {
      "cell_type": "markdown",
      "metadata": {
        "id": "riv06Oz22ktR"
      },
      "source": [
        "На выходе запроса к таблице - снова таблица"
      ]
    },
    {
      "cell_type": "code",
      "execution_count": 15,
      "metadata": {
        "id": "j2PCn8FWYm31",
        "colab": {
          "base_uri": "https://localhost:8080/",
          "height": 161
        },
        "outputId": "a19c0cb8-b21d-4c48-83dc-1f031a6be77e"
      },
      "outputs": [
        {
          "output_type": "stream",
          "name": "stdout",
          "text": [
            " * sqlite://\n",
            "Done.\n"
          ]
        },
        {
          "output_type": "execute_result",
          "data": {
            "text/plain": [
              "[('Академия холдинг', 39.99),\n",
              " ('Krona', 39.99),\n",
              " ('Energolux', 89.7),\n",
              " ('Sven', 0)]"
            ],
            "text/html": [
              "<table>\n",
              "    <thead>\n",
              "        <tr>\n",
              "            <th>manufacturer</th>\n",
              "            <th>price</th>\n",
              "        </tr>\n",
              "    </thead>\n",
              "    <tbody>\n",
              "        <tr>\n",
              "            <td>Академия холдинг</td>\n",
              "            <td>39.99</td>\n",
              "        </tr>\n",
              "        <tr>\n",
              "            <td>Krona</td>\n",
              "            <td>39.99</td>\n",
              "        </tr>\n",
              "        <tr>\n",
              "            <td>Energolux</td>\n",
              "            <td>89.7</td>\n",
              "        </tr>\n",
              "        <tr>\n",
              "            <td>Sven</td>\n",
              "            <td>0</td>\n",
              "        </tr>\n",
              "    </tbody>\n",
              "</table>"
            ]
          },
          "metadata": {},
          "execution_count": 15
        }
      ],
      "source": [
        "%%sql\n",
        "SELECT manufacturer, price\n",
        "FROM\n",
        "    Product p0\n",
        "WHERE p0.price < 100.00;"
      ]
    },
    {
      "cell_type": "markdown",
      "source": [
        "Вложенный запрос"
      ],
      "metadata": {
        "id": "ncjmPfVe2xrS"
      }
    },
    {
      "cell_type": "code",
      "source": [
        "%%sql\n",
        "SELECT *\n",
        "FROM\n",
        "    (SELECT p0.manufacturer, price\n",
        "    FROM Product p0\n",
        "    WHERE p0.price < 100.00) p1 -- вложенный запрос\n",
        "WHERE\n",
        "    p1.manufacturer = \"Krona\";"
      ],
      "metadata": {
        "id": "ZMtRTaFoNYIe",
        "colab": {
          "base_uri": "https://localhost:8080/",
          "height": 96
        },
        "outputId": "e2f915e8-340a-4c86-be81-ef805246a25a"
      },
      "execution_count": 16,
      "outputs": [
        {
          "output_type": "stream",
          "name": "stdout",
          "text": [
            " * sqlite://\n",
            "Done.\n"
          ]
        },
        {
          "output_type": "execute_result",
          "data": {
            "text/plain": [
              "[('Krona', 39.99)]"
            ],
            "text/html": [
              "<table>\n",
              "    <thead>\n",
              "        <tr>\n",
              "            <th>manufacturer</th>\n",
              "            <th>price</th>\n",
              "        </tr>\n",
              "    </thead>\n",
              "    <tbody>\n",
              "        <tr>\n",
              "            <td>Krona</td>\n",
              "            <td>39.99</td>\n",
              "        </tr>\n",
              "    </tbody>\n",
              "</table>"
            ]
          },
          "metadata": {},
          "execution_count": 16
        }
      ]
    },
    {
      "cell_type": "markdown",
      "metadata": {
        "id": "D7_sRDMw3e2G"
      },
      "source": [
        "Небольшие детали\n",
        "--------------\n",
        "\n",
        "* Некоторые элементы регистро-независимые:\n",
        "  * Одно и то же: SELECT,  Select, select\n",
        "  * Одно и то же: Product,    product\n",
        "  * Разные: \"Техника\",  \"техника\" (Здесь это строковая константа)\n",
        "\n"
      ]
    },
    {
      "cell_type": "markdown",
      "metadata": {
        "id": "MMFypCv13e2H"
      },
      "source": [
        "## LIKE\n",
        "\n"
      ]
    },
    {
      "cell_type": "markdown",
      "source": [
        "Регулярные выражения (упрощенный вариант)\n",
        "\n",
        "Оператор LIKE нужен для поиска строк:\n",
        "    \n",
        "> SELECT *\n",
        "> FROM Products\n",
        "> WHERE pname like '%подстрока%'\n",
        "\n",
        "* % - сколько угодно символов\n",
        "* \\_ ровно один символ\n",
        "* оператор LIKE - регистрозависимый"
      ],
      "metadata": {
        "id": "q1iXZifo80F7"
      }
    },
    {
      "cell_type": "code",
      "execution_count": 17,
      "metadata": {
        "id": "3hirDOqV3e2H",
        "colab": {
          "base_uri": "https://localhost:8080/",
          "height": 96
        },
        "outputId": "8b86d716-b6c9-4579-f38c-d9010208363b"
      },
      "outputs": [
        {
          "output_type": "stream",
          "name": "stdout",
          "text": [
            " * sqlite://\n",
            "Done.\n"
          ]
        },
        {
          "output_type": "execute_result",
          "data": {
            "text/plain": [
              "[('Клавиатура', 949.99, 'Техника', 'Sven')]"
            ],
            "text/html": [
              "<table>\n",
              "    <thead>\n",
              "        <tr>\n",
              "            <th>pname</th>\n",
              "            <th>price</th>\n",
              "            <th>category</th>\n",
              "            <th>manufacturer</th>\n",
              "        </tr>\n",
              "    </thead>\n",
              "    <tbody>\n",
              "        <tr>\n",
              "            <td>Клавиатура</td>\n",
              "            <td>949.99</td>\n",
              "            <td>Техника</td>\n",
              "            <td>Sven</td>\n",
              "        </tr>\n",
              "    </tbody>\n",
              "</table>"
            ]
          },
          "metadata": {},
          "execution_count": 17
        }
      ],
      "source": [
        "%%sql\n",
        "SELECT * FROM product\n",
        "where category LIKE '%ка%';"
      ]
    },
    {
      "cell_type": "code",
      "execution_count": 18,
      "metadata": {
        "id": "I9YDZnYKdnnk",
        "colab": {
          "base_uri": "https://localhost:8080/",
          "height": 118
        },
        "outputId": "7e8b6fe4-798b-4939-dfed-e67c144b3eef"
      },
      "outputs": [
        {
          "output_type": "stream",
          "name": "stdout",
          "text": [
            " * sqlite://\n",
            "Done.\n"
          ]
        },
        {
          "output_type": "execute_result",
          "data": {
            "text/plain": [
              "[('Батарейка', 39.99, 'Для дома', 'Krona'),\n",
              " ('Лампочка', 89.7, 'Для дома', 'Energolux')]"
            ],
            "text/html": [
              "<table>\n",
              "    <thead>\n",
              "        <tr>\n",
              "            <th>pname</th>\n",
              "            <th>price</th>\n",
              "            <th>category</th>\n",
              "            <th>manufacturer</th>\n",
              "        </tr>\n",
              "    </thead>\n",
              "    <tbody>\n",
              "        <tr>\n",
              "            <td>Батарейка</td>\n",
              "            <td>39.99</td>\n",
              "            <td>Для дома</td>\n",
              "            <td>Krona</td>\n",
              "        </tr>\n",
              "        <tr>\n",
              "            <td>Лампочка</td>\n",
              "            <td>89.7</td>\n",
              "            <td>Для дома</td>\n",
              "            <td>Energolux</td>\n",
              "        </tr>\n",
              "    </tbody>\n",
              "</table>"
            ]
          },
          "metadata": {},
          "execution_count": 18
        }
      ],
      "source": [
        "%%sql\n",
        "SELECT * FROM product\n",
        "where pname LIKE '_а%';"
      ]
    },
    {
      "cell_type": "markdown",
      "metadata": {
        "id": "hziJK-Ar3e2H"
      },
      "source": [
        "## Убрать дубли"
      ]
    },
    {
      "cell_type": "markdown",
      "source": [
        "Дубли не всегда хорошо, и иногда их стоит убирать\n",
        "  * Помните, что таблицы - _мультимножества_!"
      ],
      "metadata": {
        "id": "MVUF19us8mSc"
      }
    },
    {
      "cell_type": "code",
      "execution_count": 19,
      "metadata": {
        "id": "PICB0NwJ3e2H",
        "colab": {
          "base_uri": "https://localhost:8080/",
          "height": 203
        },
        "outputId": "57cf5d1a-06e9-4ff4-95cd-4727174252be"
      },
      "outputs": [
        {
          "output_type": "stream",
          "name": "stdout",
          "text": [
            " * sqlite://\n",
            "Done.\n"
          ]
        },
        {
          "output_type": "execute_result",
          "data": {
            "text/plain": [
              "[('Канцелярия',),\n",
              " ('Техника',),\n",
              " ('Канцелярия',),\n",
              " ('Для дома',),\n",
              " ('Для дома',),\n",
              " (None,)]"
            ],
            "text/html": [
              "<table>\n",
              "    <thead>\n",
              "        <tr>\n",
              "            <th>category</th>\n",
              "        </tr>\n",
              "    </thead>\n",
              "    <tbody>\n",
              "        <tr>\n",
              "            <td>Канцелярия</td>\n",
              "        </tr>\n",
              "        <tr>\n",
              "            <td>Техника</td>\n",
              "        </tr>\n",
              "        <tr>\n",
              "            <td>Канцелярия</td>\n",
              "        </tr>\n",
              "        <tr>\n",
              "            <td>Для дома</td>\n",
              "        </tr>\n",
              "        <tr>\n",
              "            <td>Для дома</td>\n",
              "        </tr>\n",
              "        <tr>\n",
              "            <td>None</td>\n",
              "        </tr>\n",
              "    </tbody>\n",
              "</table>"
            ]
          },
          "metadata": {},
          "execution_count": 19
        }
      ],
      "source": [
        "%%sql\n",
        "SELECT category from product;"
      ]
    },
    {
      "cell_type": "code",
      "execution_count": 20,
      "metadata": {
        "id": "tH2bt4CS3e2I",
        "colab": {
          "base_uri": "https://localhost:8080/",
          "height": 161
        },
        "outputId": "4af755d2-5768-4e8c-b590-eb854c93eaca"
      },
      "outputs": [
        {
          "output_type": "stream",
          "name": "stdout",
          "text": [
            " * sqlite://\n",
            "Done.\n"
          ]
        },
        {
          "output_type": "execute_result",
          "data": {
            "text/plain": [
              "[('Канцелярия',), ('Техника',), ('Для дома',), (None,)]"
            ],
            "text/html": [
              "<table>\n",
              "    <thead>\n",
              "        <tr>\n",
              "            <th>category</th>\n",
              "        </tr>\n",
              "    </thead>\n",
              "    <tbody>\n",
              "        <tr>\n",
              "            <td>Канцелярия</td>\n",
              "        </tr>\n",
              "        <tr>\n",
              "            <td>Техника</td>\n",
              "        </tr>\n",
              "        <tr>\n",
              "            <td>Для дома</td>\n",
              "        </tr>\n",
              "        <tr>\n",
              "            <td>None</td>\n",
              "        </tr>\n",
              "    </tbody>\n",
              "</table>"
            ]
          },
          "metadata": {},
          "execution_count": 20
        }
      ],
      "source": [
        "%%sql\n",
        "-- чтобы убрать дубли используйте слово DISTINCT\n",
        "SELECT DISTINCT category from product;"
      ]
    },
    {
      "cell_type": "code",
      "source": [
        "%%sql\n",
        "-- чтобы убрать дубли используйте слово DISTINCT\n",
        "SELECT DISTINCT category, price from product;"
      ],
      "metadata": {
        "id": "LEh38hvO4bZp",
        "colab": {
          "base_uri": "https://localhost:8080/",
          "height": 203
        },
        "outputId": "c5256db6-9cda-4af8-e036-5d650ec0ffd0"
      },
      "execution_count": 21,
      "outputs": [
        {
          "output_type": "stream",
          "name": "stdout",
          "text": [
            " * sqlite://\n",
            "Done.\n"
          ]
        },
        {
          "output_type": "execute_result",
          "data": {
            "text/plain": [
              "[('Канцелярия', 39.99),\n",
              " ('Техника', 949.99),\n",
              " ('Канцелярия', 129.99),\n",
              " ('Для дома', 39.99),\n",
              " ('Для дома', 89.7),\n",
              " (None, 0)]"
            ],
            "text/html": [
              "<table>\n",
              "    <thead>\n",
              "        <tr>\n",
              "            <th>category</th>\n",
              "            <th>price</th>\n",
              "        </tr>\n",
              "    </thead>\n",
              "    <tbody>\n",
              "        <tr>\n",
              "            <td>Канцелярия</td>\n",
              "            <td>39.99</td>\n",
              "        </tr>\n",
              "        <tr>\n",
              "            <td>Техника</td>\n",
              "            <td>949.99</td>\n",
              "        </tr>\n",
              "        <tr>\n",
              "            <td>Канцелярия</td>\n",
              "            <td>129.99</td>\n",
              "        </tr>\n",
              "        <tr>\n",
              "            <td>Для дома</td>\n",
              "            <td>39.99</td>\n",
              "        </tr>\n",
              "        <tr>\n",
              "            <td>Для дома</td>\n",
              "            <td>89.7</td>\n",
              "        </tr>\n",
              "        <tr>\n",
              "            <td>None</td>\n",
              "            <td>0</td>\n",
              "        </tr>\n",
              "    </tbody>\n",
              "</table>"
            ]
          },
          "metadata": {},
          "execution_count": 21
        }
      ]
    },
    {
      "cell_type": "markdown",
      "metadata": {
        "id": "PmPe_xcW3e2I"
      },
      "source": [
        "## Сортировка результатов\n",
        "\n"
      ]
    },
    {
      "cell_type": "markdown",
      "source": [
        "Так как таблица в SQL - это мультимножество строк, то порядок вывода строк не гарантирован. Иногда необходимо выводить строки в определенном порядке"
      ],
      "metadata": {
        "id": "vOMoHNqu8q07"
      }
    },
    {
      "cell_type": "code",
      "execution_count": 22,
      "metadata": {
        "id": "rzlqqP_m3e2I",
        "colab": {
          "base_uri": "https://localhost:8080/",
          "height": 182
        },
        "outputId": "1a166c5c-0635-41df-f277-87aae5e42109"
      },
      "outputs": [
        {
          "output_type": "stream",
          "name": "stdout",
          "text": [
            " * sqlite://\n",
            "Done.\n"
          ]
        },
        {
          "output_type": "execute_result",
          "data": {
            "text/plain": [
              "[('Веб-камера', 0, 'Sven'),\n",
              " ('Батарейка', 39.99, 'Krona'),\n",
              " ('Тетрадь', 39.99, 'Академия холдинг'),\n",
              " ('Лампочка', 89.7, 'Energolux'),\n",
              " ('Степлер', 129.99, 'Brauberg')]"
            ],
            "text/html": [
              "<table>\n",
              "    <thead>\n",
              "        <tr>\n",
              "            <th>pname</th>\n",
              "            <th>price</th>\n",
              "            <th>manufacturer</th>\n",
              "        </tr>\n",
              "    </thead>\n",
              "    <tbody>\n",
              "        <tr>\n",
              "            <td>Веб-камера</td>\n",
              "            <td>0</td>\n",
              "            <td>Sven</td>\n",
              "        </tr>\n",
              "        <tr>\n",
              "            <td>Батарейка</td>\n",
              "            <td>39.99</td>\n",
              "            <td>Krona</td>\n",
              "        </tr>\n",
              "        <tr>\n",
              "            <td>Тетрадь</td>\n",
              "            <td>39.99</td>\n",
              "            <td>Академия холдинг</td>\n",
              "        </tr>\n",
              "        <tr>\n",
              "            <td>Лампочка</td>\n",
              "            <td>89.7</td>\n",
              "            <td>Energolux</td>\n",
              "        </tr>\n",
              "        <tr>\n",
              "            <td>Степлер</td>\n",
              "            <td>129.99</td>\n",
              "            <td>Brauberg</td>\n",
              "        </tr>\n",
              "    </tbody>\n",
              "</table>"
            ]
          },
          "metadata": {},
          "execution_count": 22
        }
      ],
      "source": [
        "%%sql\n",
        "-- сортировка результатов\n",
        "-- сортировка по умолчанию - ascending\n",
        "SELECT   pname, price, manufacturer\n",
        "FROM     Product\n",
        "WHERE    price < 400\n",
        "ORDER BY price, manufacturer;"
      ]
    },
    {
      "cell_type": "code",
      "execution_count": 23,
      "metadata": {
        "id": "O4IDiy5J3e2I",
        "colab": {
          "base_uri": "https://localhost:8080/",
          "height": 203
        },
        "outputId": "08df920d-1e83-4283-a03a-1916eca05705"
      },
      "outputs": [
        {
          "output_type": "stream",
          "name": "stdout",
          "text": [
            " * sqlite://\n",
            "Done.\n"
          ]
        },
        {
          "output_type": "execute_result",
          "data": {
            "text/plain": [
              "[(129.99, 'Brauberg'),\n",
              " (89.7, 'Energolux'),\n",
              " (39.99, 'Krona'),\n",
              " (949.99, 'Sven'),\n",
              " (0, 'Sven'),\n",
              " (39.99, 'Академия холдинг')]"
            ],
            "text/html": [
              "<table>\n",
              "    <thead>\n",
              "        <tr>\n",
              "            <th>price</th>\n",
              "            <th>manufacturer</th>\n",
              "        </tr>\n",
              "    </thead>\n",
              "    <tbody>\n",
              "        <tr>\n",
              "            <td>129.99</td>\n",
              "            <td>Brauberg</td>\n",
              "        </tr>\n",
              "        <tr>\n",
              "            <td>89.7</td>\n",
              "            <td>Energolux</td>\n",
              "        </tr>\n",
              "        <tr>\n",
              "            <td>39.99</td>\n",
              "            <td>Krona</td>\n",
              "        </tr>\n",
              "        <tr>\n",
              "            <td>949.99</td>\n",
              "            <td>Sven</td>\n",
              "        </tr>\n",
              "        <tr>\n",
              "            <td>0</td>\n",
              "            <td>Sven</td>\n",
              "        </tr>\n",
              "        <tr>\n",
              "            <td>39.99</td>\n",
              "            <td>Академия холдинг</td>\n",
              "        </tr>\n",
              "    </tbody>\n",
              "</table>"
            ]
          },
          "metadata": {},
          "execution_count": 23
        }
      ],
      "source": [
        "%%sql\n",
        "-- сортировка результатов\n",
        "-- тип сортировки каждого компонента определяется индивидуально\n",
        "SELECT   price, manufacturer\n",
        "FROM     Product\n",
        "ORDER BY manufacturer ASC, price DESC;"
      ]
    },
    {
      "cell_type": "markdown",
      "metadata": {
        "id": "EPsZY71d3e2J"
      },
      "source": [
        "Можно делать сортировку по порядковому номеру, но довольно часто это считается bad practice"
      ]
    },
    {
      "cell_type": "code",
      "execution_count": 24,
      "metadata": {
        "id": "QPkAqJq53e2J",
        "colab": {
          "base_uri": "https://localhost:8080/",
          "height": 203
        },
        "outputId": "d6fdd054-8778-42e1-8b02-e34ff4277092"
      },
      "outputs": [
        {
          "output_type": "stream",
          "name": "stdout",
          "text": [
            " * sqlite://\n",
            "Done.\n"
          ]
        },
        {
          "output_type": "execute_result",
          "data": {
            "text/plain": [
              "[(129.99, 'Brauberg'),\n",
              " (89.7, 'Energolux'),\n",
              " (39.99, 'Krona'),\n",
              " (949.99, 'Sven'),\n",
              " (0, 'Sven'),\n",
              " (39.99, 'Академия холдинг')]"
            ],
            "text/html": [
              "<table>\n",
              "    <thead>\n",
              "        <tr>\n",
              "            <th>price</th>\n",
              "            <th>manufacturer</th>\n",
              "        </tr>\n",
              "    </thead>\n",
              "    <tbody>\n",
              "        <tr>\n",
              "            <td>129.99</td>\n",
              "            <td>Brauberg</td>\n",
              "        </tr>\n",
              "        <tr>\n",
              "            <td>89.7</td>\n",
              "            <td>Energolux</td>\n",
              "        </tr>\n",
              "        <tr>\n",
              "            <td>39.99</td>\n",
              "            <td>Krona</td>\n",
              "        </tr>\n",
              "        <tr>\n",
              "            <td>949.99</td>\n",
              "            <td>Sven</td>\n",
              "        </tr>\n",
              "        <tr>\n",
              "            <td>0</td>\n",
              "            <td>Sven</td>\n",
              "        </tr>\n",
              "        <tr>\n",
              "            <td>39.99</td>\n",
              "            <td>Академия холдинг</td>\n",
              "        </tr>\n",
              "    </tbody>\n",
              "</table>"
            ]
          },
          "metadata": {},
          "execution_count": 24
        }
      ],
      "source": [
        "%%sql\n",
        "SELECT   price, manufacturer\n",
        "FROM     Product\n",
        "ORDER BY 2 ASC, 1 DESC;"
      ]
    },
    {
      "cell_type": "markdown",
      "source": [
        "## Ограничение и смещение"
      ],
      "metadata": {
        "id": "_W6hQCoGzIjy"
      }
    },
    {
      "cell_type": "markdown",
      "source": [
        "Вывести топ 3 товара по дороговизне"
      ],
      "metadata": {
        "id": "TJuCsxHp5HGC"
      }
    },
    {
      "cell_type": "code",
      "source": [
        "%%sql\n",
        "SELECT * FROM Product\n",
        "ORDER BY price DESC\n",
        "LIMIT 3;"
      ],
      "metadata": {
        "id": "lxepmXg95GyT",
        "colab": {
          "base_uri": "https://localhost:8080/",
          "height": 139
        },
        "outputId": "68000a00-c216-40e3-afb1-abb1f7cd2c53"
      },
      "execution_count": 25,
      "outputs": [
        {
          "output_type": "stream",
          "name": "stdout",
          "text": [
            " * sqlite://\n",
            "Done.\n"
          ]
        },
        {
          "output_type": "execute_result",
          "data": {
            "text/plain": [
              "[('Клавиатура', 949.99, 'Техника', 'Sven'),\n",
              " ('Степлер', 129.99, 'Канцелярия', 'Brauberg'),\n",
              " ('Лампочка', 89.7, 'Для дома', 'Energolux')]"
            ],
            "text/html": [
              "<table>\n",
              "    <thead>\n",
              "        <tr>\n",
              "            <th>pname</th>\n",
              "            <th>price</th>\n",
              "            <th>category</th>\n",
              "            <th>manufacturer</th>\n",
              "        </tr>\n",
              "    </thead>\n",
              "    <tbody>\n",
              "        <tr>\n",
              "            <td>Клавиатура</td>\n",
              "            <td>949.99</td>\n",
              "            <td>Техника</td>\n",
              "            <td>Sven</td>\n",
              "        </tr>\n",
              "        <tr>\n",
              "            <td>Степлер</td>\n",
              "            <td>129.99</td>\n",
              "            <td>Канцелярия</td>\n",
              "            <td>Brauberg</td>\n",
              "        </tr>\n",
              "        <tr>\n",
              "            <td>Лампочка</td>\n",
              "            <td>89.7</td>\n",
              "            <td>Для дома</td>\n",
              "            <td>Energolux</td>\n",
              "        </tr>\n",
              "    </tbody>\n",
              "</table>"
            ]
          },
          "metadata": {},
          "execution_count": 25
        }
      ]
    },
    {
      "cell_type": "markdown",
      "source": [
        "Вывести 2, 3 и 4 товары по алфавиту"
      ],
      "metadata": {
        "id": "vue71SmS6HCz"
      }
    },
    {
      "cell_type": "code",
      "source": [
        "%%sql\n",
        "SELECT * FROM Product\n",
        "ORDER BY pname\n",
        "LIMIT 3 OFFSET 1;"
      ],
      "metadata": {
        "id": "9xsNFXgy6HMj",
        "colab": {
          "base_uri": "https://localhost:8080/",
          "height": 139
        },
        "outputId": "e74b674b-fcd7-4507-f884-03adeb98a139"
      },
      "execution_count": 26,
      "outputs": [
        {
          "output_type": "stream",
          "name": "stdout",
          "text": [
            " * sqlite://\n",
            "Done.\n"
          ]
        },
        {
          "output_type": "execute_result",
          "data": {
            "text/plain": [
              "[('Веб-камера', 0, None, 'Sven'),\n",
              " ('Клавиатура', 949.99, 'Техника', 'Sven'),\n",
              " ('Лампочка', 89.7, 'Для дома', 'Energolux')]"
            ],
            "text/html": [
              "<table>\n",
              "    <thead>\n",
              "        <tr>\n",
              "            <th>pname</th>\n",
              "            <th>price</th>\n",
              "            <th>category</th>\n",
              "            <th>manufacturer</th>\n",
              "        </tr>\n",
              "    </thead>\n",
              "    <tbody>\n",
              "        <tr>\n",
              "            <td>Веб-камера</td>\n",
              "            <td>0</td>\n",
              "            <td>None</td>\n",
              "            <td>Sven</td>\n",
              "        </tr>\n",
              "        <tr>\n",
              "            <td>Клавиатура</td>\n",
              "            <td>949.99</td>\n",
              "            <td>Техника</td>\n",
              "            <td>Sven</td>\n",
              "        </tr>\n",
              "        <tr>\n",
              "            <td>Лампочка</td>\n",
              "            <td>89.7</td>\n",
              "            <td>Для дома</td>\n",
              "            <td>Energolux</td>\n",
              "        </tr>\n",
              "    </tbody>\n",
              "</table>"
            ]
          },
          "metadata": {},
          "execution_count": 26
        }
      ]
    },
    {
      "cell_type": "markdown",
      "metadata": {
        "collapsed": true,
        "id": "3N-AEfQC3e2P"
      },
      "source": [
        "## Группировка\n"
      ]
    },
    {
      "cell_type": "markdown",
      "metadata": {
        "id": "RhD7yCEO3e2P"
      },
      "source": [
        "Можно осуществлять объединение строк в рамках каких-нибудь групп\n",
        "\n",
        "После к группам можно применять агрегатные функции\n",
        "\n",
        "AVG(<поле>)\n",
        "\n",
        "SUM(<поле>)\n",
        "\n",
        "MIN(<поле>)\n",
        "\n",
        "MAX(<поле>)\n",
        "\n",
        "COUNT(<поле>)\n",
        "\n",
        "COUNT(*)\n",
        "\n",
        "AVG(distinct <поле>)\n",
        "\n",
        "SUM(distinct <поле>)\n",
        "\n",
        "COUNT(distinct <поле>)"
      ]
    },
    {
      "cell_type": "code",
      "execution_count": 27,
      "metadata": {
        "id": "wuM1Ax-j3e2P",
        "colab": {
          "base_uri": "https://localhost:8080/",
          "height": 161
        },
        "outputId": "1aa50e60-7662-4b8a-b867-df5572c4d18d"
      },
      "outputs": [
        {
          "output_type": "stream",
          "name": "stdout",
          "text": [
            " * sqlite://\n",
            "Done.\n"
          ]
        },
        {
          "output_type": "execute_result",
          "data": {
            "text/plain": [
              "[(None, 0.0, 0, 0, 0),\n",
              " ('Для дома', 64.845, 39.99, 89.7, 129.69),\n",
              " ('Канцелярия', 84.99000000000001, 39.99, 129.99, 169.98000000000002),\n",
              " ('Техника', 949.99, 949.99, 949.99, 949.99)]"
            ],
            "text/html": [
              "<table>\n",
              "    <thead>\n",
              "        <tr>\n",
              "            <th>category</th>\n",
              "            <th>avg(price)</th>\n",
              "            <th>min(price)</th>\n",
              "            <th>max(price)</th>\n",
              "            <th>sum(price)</th>\n",
              "        </tr>\n",
              "    </thead>\n",
              "    <tbody>\n",
              "        <tr>\n",
              "            <td>None</td>\n",
              "            <td>0.0</td>\n",
              "            <td>0</td>\n",
              "            <td>0</td>\n",
              "            <td>0</td>\n",
              "        </tr>\n",
              "        <tr>\n",
              "            <td>Для дома</td>\n",
              "            <td>64.845</td>\n",
              "            <td>39.99</td>\n",
              "            <td>89.7</td>\n",
              "            <td>129.69</td>\n",
              "        </tr>\n",
              "        <tr>\n",
              "            <td>Канцелярия</td>\n",
              "            <td>84.99000000000001</td>\n",
              "            <td>39.99</td>\n",
              "            <td>129.99</td>\n",
              "            <td>169.98000000000002</td>\n",
              "        </tr>\n",
              "        <tr>\n",
              "            <td>Техника</td>\n",
              "            <td>949.99</td>\n",
              "            <td>949.99</td>\n",
              "            <td>949.99</td>\n",
              "            <td>949.99</td>\n",
              "        </tr>\n",
              "    </tbody>\n",
              "</table>"
            ]
          },
          "metadata": {},
          "execution_count": 27
        }
      ],
      "source": [
        "%%sql\n",
        "select category, avg(price), min(price), max(price), sum(price)\n",
        "from Product\n",
        "group by category;"
      ]
    },
    {
      "cell_type": "markdown",
      "metadata": {
        "id": "JCfrTK4l3e2Q"
      },
      "source": [
        "Существует возможность фильтровать не только по строкам, но и по группам. Для этого можно использовать инструкцию HAVING"
      ]
    },
    {
      "cell_type": "code",
      "execution_count": 28,
      "metadata": {
        "id": "IoTjYL8V3e2Q",
        "colab": {
          "base_uri": "https://localhost:8080/",
          "height": 96
        },
        "outputId": "18088f58-cada-4a50-db18-aa4f70c7af6a"
      },
      "outputs": [
        {
          "output_type": "stream",
          "name": "stdout",
          "text": [
            " * sqlite://\n",
            "Done.\n"
          ]
        },
        {
          "output_type": "execute_result",
          "data": {
            "text/plain": [
              "[('Веб-камера', 0, None, 'Sven')]"
            ],
            "text/html": [
              "<table>\n",
              "    <thead>\n",
              "        <tr>\n",
              "            <th>pname</th>\n",
              "            <th>price</th>\n",
              "            <th>category</th>\n",
              "            <th>manufacturer</th>\n",
              "        </tr>\n",
              "    </thead>\n",
              "    <tbody>\n",
              "        <tr>\n",
              "            <td>Веб-камера</td>\n",
              "            <td>0</td>\n",
              "            <td>None</td>\n",
              "            <td>Sven</td>\n",
              "        </tr>\n",
              "    </tbody>\n",
              "</table>"
            ]
          },
          "metadata": {},
          "execution_count": 28
        }
      ],
      "source": [
        "%%sql\n",
        "select *-- category, avg(price), min(price), max(price), count(price)\n",
        "from Product\n",
        "group by category\n",
        "having min(price) = 0;"
      ]
    },
    {
      "cell_type": "code",
      "source": [
        "%%sql\n",
        "select category\n",
        "from Product\n",
        "group by category"
      ],
      "metadata": {
        "colab": {
          "base_uri": "https://localhost:8080/",
          "height": 161
        },
        "id": "qxGqm-gNjY5r",
        "outputId": "5cb2ab24-6ee4-4027-f038-60c880c5d197"
      },
      "execution_count": 29,
      "outputs": [
        {
          "output_type": "stream",
          "name": "stdout",
          "text": [
            " * sqlite://\n",
            "Done.\n"
          ]
        },
        {
          "output_type": "execute_result",
          "data": {
            "text/plain": [
              "[(None,), ('Для дома',), ('Канцелярия',), ('Техника',)]"
            ],
            "text/html": [
              "<table>\n",
              "    <thead>\n",
              "        <tr>\n",
              "            <th>category</th>\n",
              "        </tr>\n",
              "    </thead>\n",
              "    <tbody>\n",
              "        <tr>\n",
              "            <td>None</td>\n",
              "        </tr>\n",
              "        <tr>\n",
              "            <td>Для дома</td>\n",
              "        </tr>\n",
              "        <tr>\n",
              "            <td>Канцелярия</td>\n",
              "        </tr>\n",
              "        <tr>\n",
              "            <td>Техника</td>\n",
              "        </tr>\n",
              "    </tbody>\n",
              "</table>"
            ]
          },
          "metadata": {},
          "execution_count": 29
        }
      ]
    },
    {
      "cell_type": "code",
      "execution_count": 30,
      "metadata": {
        "id": "Wq7oN0A23e2Q",
        "colab": {
          "base_uri": "https://localhost:8080/",
          "height": 161
        },
        "outputId": "e404164f-3f55-470c-87ff-3e552afc111a"
      },
      "outputs": [
        {
          "output_type": "stream",
          "name": "stdout",
          "text": [
            " * sqlite://\n",
            "Done.\n"
          ]
        },
        {
          "output_type": "execute_result",
          "data": {
            "text/plain": [
              "[(None, 1, 0, 0),\n",
              " ('Для дома', 2, 2, 1),\n",
              " ('Канцелярия', 2, 2, 1),\n",
              " ('Техника', 1, 1, 1)]"
            ],
            "text/html": [
              "<table>\n",
              "    <thead>\n",
              "        <tr>\n",
              "            <th>category</th>\n",
              "            <th>star</th>\n",
              "            <th>cat</th>\n",
              "            <th>dist</th>\n",
              "        </tr>\n",
              "    </thead>\n",
              "    <tbody>\n",
              "        <tr>\n",
              "            <td>None</td>\n",
              "            <td>1</td>\n",
              "            <td>0</td>\n",
              "            <td>0</td>\n",
              "        </tr>\n",
              "        <tr>\n",
              "            <td>Для дома</td>\n",
              "            <td>2</td>\n",
              "            <td>2</td>\n",
              "            <td>1</td>\n",
              "        </tr>\n",
              "        <tr>\n",
              "            <td>Канцелярия</td>\n",
              "            <td>2</td>\n",
              "            <td>2</td>\n",
              "            <td>1</td>\n",
              "        </tr>\n",
              "        <tr>\n",
              "            <td>Техника</td>\n",
              "            <td>1</td>\n",
              "            <td>1</td>\n",
              "            <td>1</td>\n",
              "        </tr>\n",
              "    </tbody>\n",
              "</table>"
            ]
          },
          "metadata": {},
          "execution_count": 30
        }
      ],
      "source": [
        "%%sql\n",
        "select category, count(*) as star, count(category) as cat, count(distinct category) as dist\n",
        "from Product\n",
        "group by category;"
      ]
    },
    {
      "cell_type": "markdown",
      "metadata": {
        "id": "Zqq-dhafgkWj"
      },
      "source": [
        "count(*) - кол-во строк\n",
        "\n",
        "count(<поле>) - кол-во непустых строк\n",
        "\n",
        "count(distinct <поле>) - кол-во уникальных непустых строк"
      ]
    },
    {
      "cell_type": "markdown",
      "source": [
        "## Работа с NULL"
      ],
      "metadata": {
        "id": "-mXimd6e6uOd"
      }
    },
    {
      "cell_type": "code",
      "execution_count": null,
      "metadata": {
        "id": "Bj91sOAcgTcq"
      },
      "outputs": [],
      "source": [
        "%%sql\n",
        "drop table if exists numbers;\n",
        "\n",
        "create table numbers(a int, b int);\n",
        "\n",
        "insert into numbers\n",
        "  values (1,2), (2,3), (4,null), (null,null), (null,5);"
      ]
    },
    {
      "cell_type": "code",
      "execution_count": 32,
      "metadata": {
        "id": "XFnqSi2KmpMx",
        "colab": {
          "base_uri": "https://localhost:8080/",
          "height": 182
        },
        "outputId": "8eb870ad-4d0c-4cb2-df4f-1d7554706bef"
      },
      "outputs": [
        {
          "output_type": "stream",
          "name": "stdout",
          "text": [
            " * sqlite://\n",
            "Done.\n"
          ]
        },
        {
          "output_type": "execute_result",
          "data": {
            "text/plain": [
              "[(1, 2), (2, 3), (4, None), (None, None), (None, 5)]"
            ],
            "text/html": [
              "<table>\n",
              "    <thead>\n",
              "        <tr>\n",
              "            <th>a</th>\n",
              "            <th>b</th>\n",
              "        </tr>\n",
              "    </thead>\n",
              "    <tbody>\n",
              "        <tr>\n",
              "            <td>1</td>\n",
              "            <td>2</td>\n",
              "        </tr>\n",
              "        <tr>\n",
              "            <td>2</td>\n",
              "            <td>3</td>\n",
              "        </tr>\n",
              "        <tr>\n",
              "            <td>4</td>\n",
              "            <td>None</td>\n",
              "        </tr>\n",
              "        <tr>\n",
              "            <td>None</td>\n",
              "            <td>None</td>\n",
              "        </tr>\n",
              "        <tr>\n",
              "            <td>None</td>\n",
              "            <td>5</td>\n",
              "        </tr>\n",
              "    </tbody>\n",
              "</table>"
            ]
          },
          "metadata": {},
          "execution_count": 32
        }
      ],
      "source": [
        "%%sql\n",
        "select * from numbers;"
      ]
    },
    {
      "cell_type": "code",
      "execution_count": 33,
      "metadata": {
        "id": "mKfRbzinmt3V",
        "colab": {
          "base_uri": "https://localhost:8080/",
          "height": 96
        },
        "outputId": "2572a1ac-4437-42ff-db29-77efe389ef20"
      },
      "outputs": [
        {
          "output_type": "stream",
          "name": "stdout",
          "text": [
            " * sqlite://\n",
            "Done.\n"
          ]
        },
        {
          "output_type": "execute_result",
          "data": {
            "text/plain": [
              "[(8, 17)]"
            ],
            "text/html": [
              "<table>\n",
              "    <thead>\n",
              "        <tr>\n",
              "            <th>sum1</th>\n",
              "            <th>sum2</th>\n",
              "        </tr>\n",
              "    </thead>\n",
              "    <tbody>\n",
              "        <tr>\n",
              "            <td>8</td>\n",
              "            <td>17</td>\n",
              "        </tr>\n",
              "    </tbody>\n",
              "</table>"
            ]
          },
          "metadata": {},
          "execution_count": 33
        }
      ],
      "source": [
        "%%sql\n",
        "select sum(a+b) as sum1,\n",
        "       sum(a) + sum(b) as sum2\n",
        "       from numbers;"
      ]
    },
    {
      "cell_type": "code",
      "execution_count": 34,
      "metadata": {
        "id": "eZx31GTmng_N",
        "colab": {
          "base_uri": "https://localhost:8080/",
          "height": 182
        },
        "outputId": "b345a688-4d2c-4857-8b40-ca075b24a398"
      },
      "outputs": [
        {
          "output_type": "stream",
          "name": "stdout",
          "text": [
            " * sqlite://\n",
            "Done.\n"
          ]
        },
        {
          "output_type": "execute_result",
          "data": {
            "text/plain": [
              "[('1+2',), ('2+3',), (None,), (None,), (None,)]"
            ],
            "text/html": [
              "<table>\n",
              "    <thead>\n",
              "        <tr>\n",
              "            <th>concat</th>\n",
              "        </tr>\n",
              "    </thead>\n",
              "    <tbody>\n",
              "        <tr>\n",
              "            <td>1+2</td>\n",
              "        </tr>\n",
              "        <tr>\n",
              "            <td>2+3</td>\n",
              "        </tr>\n",
              "        <tr>\n",
              "            <td>None</td>\n",
              "        </tr>\n",
              "        <tr>\n",
              "            <td>None</td>\n",
              "        </tr>\n",
              "        <tr>\n",
              "            <td>None</td>\n",
              "        </tr>\n",
              "    </tbody>\n",
              "</table>"
            ]
          },
          "metadata": {},
          "execution_count": 34
        }
      ],
      "source": [
        "%%sql\n",
        "select a || '+' || b as concat\n",
        "       from numbers;"
      ]
    },
    {
      "cell_type": "code",
      "execution_count": 35,
      "metadata": {
        "id": "2sD3v94un7_m",
        "colab": {
          "base_uri": "https://localhost:8080/",
          "height": 139
        },
        "outputId": "86bfe33d-3cd1-44a7-e9cd-fe8176cb48ba"
      },
      "outputs": [
        {
          "output_type": "stream",
          "name": "stdout",
          "text": [
            " * sqlite://\n",
            "Done.\n"
          ]
        },
        {
          "output_type": "execute_result",
          "data": {
            "text/plain": [
              "[(1, 2), (2, 3), (4, None)]"
            ],
            "text/html": [
              "<table>\n",
              "    <thead>\n",
              "        <tr>\n",
              "            <th>a</th>\n",
              "            <th>b</th>\n",
              "        </tr>\n",
              "    </thead>\n",
              "    <tbody>\n",
              "        <tr>\n",
              "            <td>1</td>\n",
              "            <td>2</td>\n",
              "        </tr>\n",
              "        <tr>\n",
              "            <td>2</td>\n",
              "            <td>3</td>\n",
              "        </tr>\n",
              "        <tr>\n",
              "            <td>4</td>\n",
              "            <td>None</td>\n",
              "        </tr>\n",
              "    </tbody>\n",
              "</table>"
            ]
          },
          "metadata": {},
          "execution_count": 35
        }
      ],
      "source": [
        "%%sql\n",
        "select *\n",
        "  from numbers\n",
        "where a>0;"
      ]
    }
  ],
  "metadata": {
    "celltoolbar": "Slideshow",
    "colab": {
      "provenance": []
    },
    "kernelspec": {
      "display_name": "Python 3",
      "language": "python",
      "name": "python3"
    },
    "language_info": {
      "codemirror_mode": {
        "name": "ipython",
        "version": 3
      },
      "file_extension": ".py",
      "mimetype": "text/x-python",
      "name": "python",
      "nbconvert_exporter": "python",
      "pygments_lexer": "ipython3",
      "version": "3.8.8"
    }
  },
  "nbformat": 4,
  "nbformat_minor": 0
}