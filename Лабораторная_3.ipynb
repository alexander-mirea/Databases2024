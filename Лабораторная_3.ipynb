{
  "nbformat": 4,
  "nbformat_minor": 0,
  "metadata": {
    "kernelspec": {
      "display_name": "Python 3",
      "language": "python",
      "name": "python3"
    },
    "language_info": {
      "codemirror_mode": {
        "name": "ipython",
        "version": 3
      },
      "file_extension": ".py",
      "mimetype": "text/x-python",
      "name": "python",
      "nbconvert_exporter": "python",
      "pygments_lexer": "ipython3",
      "version": "3.7.6"
    },
    "colab": {
      "provenance": []
    }
  },
  "cells": [
    {
      "cell_type": "code",
      "metadata": {
        "id": "exFkotWz7Lk_"
      },
      "source": [
        "%load_ext sql\n",
        "%sql sqlite:///store.db"
      ],
      "execution_count": null,
      "outputs": []
    },
    {
      "cell_type": "markdown",
      "metadata": {
        "id": "8Nwojma57LlH"
      },
      "source": [
        "## Задание 1\n",
        "Вывести страну, где популярнее всего группа Iron Maiden (т.е. треков куплено больше, чем в других странах). Также вывести кол-во купленных треков."
      ]
    },
    {
      "cell_type": "code",
      "source": [],
      "metadata": {
        "id": "8CRlncp2EfD1"
      },
      "execution_count": null,
      "outputs": []
    },
    {
      "cell_type": "markdown",
      "metadata": {
        "id": "nLIbkB-w_aD6"
      },
      "source": [
        "## Задание 2\n",
        "Вывести \"средний по длине\" трек, среди приобретённых компаниями (только клиентами из конкретных компаний) после 22 апреля 2023 года.\n",
        "\"Средний по длине\" = максимально близкий к среднему значению множества треков по длине (не медиана!). Если таких треков несколько, вывести первый по алфавиту."
      ]
    },
    {
      "cell_type": "code",
      "source": [],
      "metadata": {
        "id": "HyW9LeYPDBnN"
      },
      "execution_count": null,
      "outputs": []
    },
    {
      "cell_type": "markdown",
      "source": [
        "## Задание 3\n",
        "\n",
        "Вывести треки, встречающихся и в нескольких плейлистах, и в нескольких заказах одновременно."
      ],
      "metadata": {
        "id": "Wc2ruoHvkovl"
      }
    },
    {
      "cell_type": "code",
      "source": [],
      "metadata": {
        "id": "2Mautq6ExOFt"
      },
      "execution_count": null,
      "outputs": []
    },
    {
      "cell_type": "markdown",
      "metadata": {
        "id": "epfFVrwEAQzY"
      },
      "source": [
        "## Задание 4\n",
        "Вывести альбом, который является максимальным по продолжительности среди альбомов со стоимостью, большей средней цены за альбом *(цена альбома - сумма цен треков)*."
      ]
    },
    {
      "cell_type": "code",
      "source": [],
      "metadata": {
        "id": "2mgltSeo8QYv"
      },
      "execution_count": null,
      "outputs": []
    },
    {
      "cell_type": "markdown",
      "metadata": {
        "id": "Bu60tw0tADem"
      },
      "source": [
        "## Задание 5\n",
        "Для каждого исполнителя, у которого есть песни нескольких жанров, найти жанр, по которому он заработал наибольшее количество денег, а также вывести процентное соотношение суммы, заработанной исполнителем по этому жанру к общей сумме заработанных денег. Формат вывода: имя исполнителя, жанр, соотношение."
      ]
    },
    {
      "cell_type": "code",
      "source": [],
      "metadata": {
        "id": "R4-0ISBy3eiI"
      },
      "execution_count": null,
      "outputs": []
    }
  ]
}