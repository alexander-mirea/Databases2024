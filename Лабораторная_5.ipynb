{
  "nbformat": 4,
  "nbformat_minor": 0,
  "metadata": {
    "kernelspec": {
      "display_name": "Python 3",
      "language": "python",
      "name": "python3"
    },
    "language_info": {
      "codemirror_mode": {
        "name": "ipython",
        "version": 3
      },
      "file_extension": ".py",
      "mimetype": "text/x-python",
      "name": "python",
      "nbconvert_exporter": "python",
      "pygments_lexer": "ipython3",
      "version": "3.6.7"
    },
    "colab": {
      "provenance": []
    }
  },
  "cells": [
    {
      "cell_type": "code",
      "metadata": {
        "id": "EsmeDNR0Yquo"
      },
      "source": [
        "%load_ext sql\n",
        "%sql sqlite:///store.db"
      ],
      "execution_count": 1,
      "outputs": []
    },
    {
      "cell_type": "code",
      "source": [
        "%config SqlMagic.style = '_DEPRECATED_DEFAULT'"
      ],
      "metadata": {
        "id": "VKTXaq5RtRHP"
      },
      "execution_count": 4,
      "outputs": []
    },
    {
      "cell_type": "markdown",
      "metadata": {
        "id": "h4NKYVlrYquv"
      },
      "source": [
        "## Задание 1\n",
        "Для каждого артиста вывести все жанры, которые есть в его песнях, и для каждого жанра вывести наиболее продолжительную песню этого артиста."
      ]
    },
    {
      "cell_type": "code",
      "source": [],
      "metadata": {
        "id": "vvC2Lg9lrmiM"
      },
      "execution_count": null,
      "outputs": []
    },
    {
      "cell_type": "markdown",
      "metadata": {
        "id": "kr-Kefu7Yqux"
      },
      "source": [
        "## Задание 2\n",
        "Посчитать скользящее среднее выручки по годам.\n"
      ]
    },
    {
      "cell_type": "code",
      "metadata": {
        "collapsed": true,
        "id": "ZqoqfFMKYqux"
      },
      "source": [],
      "execution_count": null,
      "outputs": []
    },
    {
      "cell_type": "markdown",
      "metadata": {
        "id": "q6LXx7sNYquy"
      },
      "source": [
        "## Задание 3\n",
        "\n",
        "Для каждого плейлиста вывести трек с наибольшей продолжительностью, трек с наименьшей стоимостью (если у треков одинаковая стоимость, то вывести тот, который весит меньше всех), и жанр данного плейлиста (жанром плейлиста будет называться тот жанр, треков которого больше всех в плейлисте)."
      ]
    },
    {
      "cell_type": "code",
      "metadata": {
        "collapsed": true,
        "id": "MoRCzfMBYquy"
      },
      "source": [],
      "execution_count": null,
      "outputs": []
    },
    {
      "cell_type": "markdown",
      "source": [
        "## Задание 4\n",
        "\n",
        "Для каждого жанра вывести треки, которые встречались в большем числе заказов,\n",
        "сумму, потраченную на данные треки, количество купленных треков и компанию, которая больше всех приобрела данную композицию."
      ],
      "metadata": {
        "id": "9eewjtXjOZW-"
      }
    },
    {
      "cell_type": "code",
      "source": [],
      "metadata": {
        "id": "_5LhheUtNVWW"
      },
      "execution_count": null,
      "outputs": []
    },
    {
      "cell_type": "markdown",
      "source": [
        "## Задание 5\n",
        "Составить рейтинг клиентов по количеству потраченных ими денег."
      ],
      "metadata": {
        "id": "JJghiYbyNVA-"
      }
    },
    {
      "cell_type": "code",
      "source": [],
      "metadata": {
        "id": "UnEQFSmMOcM-"
      },
      "execution_count": null,
      "outputs": []
    }
  ]
}