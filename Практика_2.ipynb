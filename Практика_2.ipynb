{
  "nbformat": 4,
  "nbformat_minor": 0,
  "metadata": {
    "kernelspec": {
      "display_name": "Python 3",
      "language": "python",
      "name": "python3"
    },
    "language_info": {
      "codemirror_mode": {
        "name": "ipython",
        "version": 3
      },
      "file_extension": ".py",
      "mimetype": "text/x-python",
      "name": "python",
      "nbconvert_exporter": "python",
      "pygments_lexer": "ipython3",
      "version": "3.7.6"
    },
    "colab": {
      "provenance": [],
      "collapsed_sections": [
        "-7KTPuOdolVV",
        "7dh5D6kbolVZ",
        "KT0TbNeZolVb",
        "qm_Vtt5IolVc"
      ]
    }
  },
  "cells": [
    {
      "cell_type": "code",
      "metadata": {
        "id": "DnsaiuQxolVN"
      },
      "source": [
        "%load_ext sql\n",
        "%sql sqlite://"
      ],
      "execution_count": 1,
      "outputs": []
    },
    {
      "cell_type": "markdown",
      "source": [
        "# Работа с несколькими таблицами"
      ],
      "metadata": {
        "id": "-7AjtSXYfIDQ"
      }
    },
    {
      "cell_type": "code",
      "metadata": {
        "id": "q-qgKqbvolVR",
        "colab": {
          "base_uri": "https://localhost:8080/"
        },
        "outputId": "6e3fbfc1-dc45-408f-ed0c-4f884006b88b"
      },
      "source": [
        "%%sql\n",
        "\n",
        "DROP TABLE IF EXISTS Employees;\n",
        "DROP TABLE IF EXISTS Students;\n",
        "DROP TABLE IF EXISTS Faculties;\n",
        "\n",
        "PRAGMA foreign_keys = ON; --по умолчанию выкл\n",
        "\n",
        "CREATE TABLE Faculties(\n",
        "    id integer PRIMARY KEY,\n",
        "    name varchar(50) NOT NULL,\n",
        "    UNIQUE (name) -- уникальные значения\n",
        ");\n",
        "\n",
        "CREATE TABLE Students(\n",
        "    id integer PRIMARY KEY,\n",
        "    name varchar(50) NOT NULL,\n",
        "    gpa decimal(2,2),\n",
        "    faculty_id integer,\n",
        "    FOREIGN KEY (faculty_id) REFERENCES Faculties(id)\n",
        ");\n",
        "\n",
        "CREATE TABLE Employees(\n",
        "    id int PRIMARY KEY,\n",
        "    name varchar(20) NOT NULL,\n",
        "    phone varchar(20),\n",
        "    title varchar(20) NOT NULL,\n",
        "    manager_id integer,\n",
        "    FOREIGN KEY (manager_id) REFERENCES Employees(id)\n",
        ");"
      ],
      "execution_count": 9,
      "outputs": [
        {
          "output_type": "stream",
          "name": "stdout",
          "text": [
            " * sqlite://\n",
            "Done.\n",
            "Done.\n",
            "Done.\n",
            "Done.\n",
            "Done.\n",
            "Done.\n",
            "Done.\n"
          ]
        },
        {
          "output_type": "execute_result",
          "data": {
            "text/plain": [
              "[]"
            ]
          },
          "metadata": {},
          "execution_count": 9
        }
      ]
    },
    {
      "cell_type": "code",
      "metadata": {
        "id": "d-VfAs2JolVS"
      },
      "source": [
        "%%sql\n",
        "INSERT INTO Faculties values (1, 'IT');\n",
        "INSERT INTO Faculties values (2, 'KIB');\n",
        "\n",
        "INSERT INTO Students values (1, 'Sidorov', 3.0, 1);\n",
        "INSERT INTO Students values (2, 'Petrov', 3.5, 2);\n",
        "INSERT INTO Students values (3, 'Verikov', 4.0, 1);\n",
        "INSERT INTO Students values (4, 'Smith', 4.2, 2);\n",
        "INSERT INTO Students values (5, 'Lee', 4.5, 1);\n",
        "INSERT INTO Students values (6, 'Vorontsov', 3.2, NULL);\n",
        "\n",
        "--insert into Employees values  (2, 'James', '+112', 'Vice President', 1);\n",
        "INSERT INTO Employees values  (1, 'Vasyugin', '+111', 'Director', NULL);\n",
        "INSERT INTO Employees values  (2, 'Jones', '+112', 'Vice President', 1);\n",
        "INSERT INTO Employees values  (3, 'Smith', '+113', 'Vice President', 1);\n",
        "INSERT INTO Employees values (4, 'Velaskes', '+114', 'Developer', 2);\n",
        "INSERT INTO Employees values (5, 'Simon', '+115', 'Analyst', 2);\n",
        "INSERT INTO Employees values (6, 'Johnson', '+116', 'Engineer', 3);\n",
        "INSERT INTO Employees values (7, 'Lee', '+117', 'Engineer', 3);"
      ],
      "execution_count": null,
      "outputs": []
    },
    {
      "cell_type": "markdown",
      "metadata": {
        "id": "1WEEoeeholVT"
      },
      "source": [
        "# Работа с множествами\n"
      ]
    },
    {
      "cell_type": "markdown",
      "metadata": {
        "id": "-7KTPuOdolVV"
      },
      "source": [
        "## Операция объединения"
      ]
    },
    {
      "cell_type": "markdown",
      "metadata": {
        "id": "6_KLJ1X2olVV"
      },
      "source": [
        "Вывести имена студентов со средним баллом, большим 3, или с именем, начинающимся с S."
      ]
    },
    {
      "cell_type": "code",
      "metadata": {
        "id": "BXgoQRAeolVW",
        "colab": {
          "base_uri": "https://localhost:8080/",
          "height": 203
        },
        "outputId": "b9389042-8d70-45e0-9a89-4468369da44d"
      },
      "source": [
        "%%sql\n",
        "SELECT * FROM Students;"
      ],
      "execution_count": 11,
      "outputs": [
        {
          "output_type": "stream",
          "name": "stdout",
          "text": [
            " * sqlite://\n",
            "Done.\n"
          ]
        },
        {
          "output_type": "execute_result",
          "data": {
            "text/plain": [
              "[(1, 'Sidorov', 3, 1),\n",
              " (2, 'Petrov', 3.5, 2),\n",
              " (3, 'Verikov', 4, 1),\n",
              " (4, 'Smith', 4.2, 2),\n",
              " (5, 'Lee', 4.5, 1),\n",
              " (6, 'Vorontsov', 3.2, None)]"
            ],
            "text/html": [
              "<table>\n",
              "    <thead>\n",
              "        <tr>\n",
              "            <th>id</th>\n",
              "            <th>name</th>\n",
              "            <th>gpa</th>\n",
              "            <th>faculty_id</th>\n",
              "        </tr>\n",
              "    </thead>\n",
              "    <tbody>\n",
              "        <tr>\n",
              "            <td>1</td>\n",
              "            <td>Sidorov</td>\n",
              "            <td>3</td>\n",
              "            <td>1</td>\n",
              "        </tr>\n",
              "        <tr>\n",
              "            <td>2</td>\n",
              "            <td>Petrov</td>\n",
              "            <td>3.5</td>\n",
              "            <td>2</td>\n",
              "        </tr>\n",
              "        <tr>\n",
              "            <td>3</td>\n",
              "            <td>Verikov</td>\n",
              "            <td>4</td>\n",
              "            <td>1</td>\n",
              "        </tr>\n",
              "        <tr>\n",
              "            <td>4</td>\n",
              "            <td>Smith</td>\n",
              "            <td>4.2</td>\n",
              "            <td>2</td>\n",
              "        </tr>\n",
              "        <tr>\n",
              "            <td>5</td>\n",
              "            <td>Lee</td>\n",
              "            <td>4.5</td>\n",
              "            <td>1</td>\n",
              "        </tr>\n",
              "        <tr>\n",
              "            <td>6</td>\n",
              "            <td>Vorontsov</td>\n",
              "            <td>3.2</td>\n",
              "            <td>None</td>\n",
              "        </tr>\n",
              "    </tbody>\n",
              "</table>"
            ]
          },
          "metadata": {},
          "execution_count": 11
        }
      ]
    },
    {
      "cell_type": "code",
      "metadata": {
        "id": "My6EArJsolVX",
        "colab": {
          "base_uri": "https://localhost:8080/",
          "height": 203
        },
        "outputId": "1d58c02e-2015-40aa-db53-111445b00be3"
      },
      "source": [
        "%%sql\n",
        "SELECT name\n",
        "    FROM Students\n",
        "WHERE name like 'S%'\n",
        "\n",
        "UNION\n",
        "\n",
        "SELECT name\n",
        "    FROM Students\n",
        "WHERE gpa > 3;"
      ],
      "execution_count": 12,
      "outputs": [
        {
          "output_type": "stream",
          "name": "stdout",
          "text": [
            " * sqlite://\n",
            "Done.\n"
          ]
        },
        {
          "output_type": "execute_result",
          "data": {
            "text/plain": [
              "[('Lee',), ('Petrov',), ('Sidorov',), ('Smith',), ('Verikov',), ('Vorontsov',)]"
            ],
            "text/html": [
              "<table>\n",
              "    <thead>\n",
              "        <tr>\n",
              "            <th>name</th>\n",
              "        </tr>\n",
              "    </thead>\n",
              "    <tbody>\n",
              "        <tr>\n",
              "            <td>Lee</td>\n",
              "        </tr>\n",
              "        <tr>\n",
              "            <td>Petrov</td>\n",
              "        </tr>\n",
              "        <tr>\n",
              "            <td>Sidorov</td>\n",
              "        </tr>\n",
              "        <tr>\n",
              "            <td>Smith</td>\n",
              "        </tr>\n",
              "        <tr>\n",
              "            <td>Verikov</td>\n",
              "        </tr>\n",
              "        <tr>\n",
              "            <td>Vorontsov</td>\n",
              "        </tr>\n",
              "    </tbody>\n",
              "</table>"
            ]
          },
          "metadata": {},
          "execution_count": 12
        }
      ]
    },
    {
      "cell_type": "code",
      "metadata": {
        "id": "2bt_M0jBolVX",
        "colab": {
          "base_uri": "https://localhost:8080/",
          "height": 225
        },
        "outputId": "832e3a8a-6eee-4d55-a423-a835723512e8"
      },
      "source": [
        "%%sql\n",
        "SELECT name\n",
        "    FROM Students\n",
        "WHERE name like 'S%'\n",
        "\n",
        "UNION ALL\n",
        "\n",
        "SELECT name\n",
        "    FROM Students\n",
        "WHERE gpa > 3;"
      ],
      "execution_count": 13,
      "outputs": [
        {
          "output_type": "stream",
          "name": "stdout",
          "text": [
            " * sqlite://\n",
            "Done.\n"
          ]
        },
        {
          "output_type": "execute_result",
          "data": {
            "text/plain": [
              "[('Sidorov',),\n",
              " ('Smith',),\n",
              " ('Petrov',),\n",
              " ('Verikov',),\n",
              " ('Smith',),\n",
              " ('Lee',),\n",
              " ('Vorontsov',)]"
            ],
            "text/html": [
              "<table>\n",
              "    <thead>\n",
              "        <tr>\n",
              "            <th>name</th>\n",
              "        </tr>\n",
              "    </thead>\n",
              "    <tbody>\n",
              "        <tr>\n",
              "            <td>Sidorov</td>\n",
              "        </tr>\n",
              "        <tr>\n",
              "            <td>Smith</td>\n",
              "        </tr>\n",
              "        <tr>\n",
              "            <td>Petrov</td>\n",
              "        </tr>\n",
              "        <tr>\n",
              "            <td>Verikov</td>\n",
              "        </tr>\n",
              "        <tr>\n",
              "            <td>Smith</td>\n",
              "        </tr>\n",
              "        <tr>\n",
              "            <td>Lee</td>\n",
              "        </tr>\n",
              "        <tr>\n",
              "            <td>Vorontsov</td>\n",
              "        </tr>\n",
              "    </tbody>\n",
              "</table>"
            ]
          },
          "metadata": {},
          "execution_count": 13
        }
      ]
    },
    {
      "cell_type": "markdown",
      "metadata": {
        "id": "NZcgQJLdolVY"
      },
      "source": [
        "Вывести имена студентов и имена сотрудников, и указать 1, если студент, 0, если сотрудник"
      ]
    },
    {
      "cell_type": "code",
      "metadata": {
        "id": "ZteASZSKolVZ",
        "colab": {
          "base_uri": "https://localhost:8080/",
          "height": 353
        },
        "outputId": "0c4eaabd-d137-400f-9c47-d3318040506f"
      },
      "source": [
        "%%sql\n",
        "SELECT name, 1 as person_type\n",
        "    FROM Students\n",
        "\n",
        "UNION ALL\n",
        "\n",
        "SELECT name as name_new, 0\n",
        "    FROM Employees;"
      ],
      "execution_count": 15,
      "outputs": [
        {
          "output_type": "stream",
          "name": "stdout",
          "text": [
            " * sqlite://\n",
            "Done.\n"
          ]
        },
        {
          "output_type": "execute_result",
          "data": {
            "text/plain": [
              "[('Sidorov', 1),\n",
              " ('Petrov', 1),\n",
              " ('Verikov', 1),\n",
              " ('Smith', 1),\n",
              " ('Lee', 1),\n",
              " ('Vorontsov', 1),\n",
              " ('Vasyugin', 0),\n",
              " ('Jones', 0),\n",
              " ('Smith', 0),\n",
              " ('Velaskes', 0),\n",
              " ('Simon', 0),\n",
              " ('Johnson', 0),\n",
              " ('Lee', 0)]"
            ],
            "text/html": [
              "<table>\n",
              "    <thead>\n",
              "        <tr>\n",
              "            <th>name</th>\n",
              "            <th>person_type</th>\n",
              "        </tr>\n",
              "    </thead>\n",
              "    <tbody>\n",
              "        <tr>\n",
              "            <td>Sidorov</td>\n",
              "            <td>1</td>\n",
              "        </tr>\n",
              "        <tr>\n",
              "            <td>Petrov</td>\n",
              "            <td>1</td>\n",
              "        </tr>\n",
              "        <tr>\n",
              "            <td>Verikov</td>\n",
              "            <td>1</td>\n",
              "        </tr>\n",
              "        <tr>\n",
              "            <td>Smith</td>\n",
              "            <td>1</td>\n",
              "        </tr>\n",
              "        <tr>\n",
              "            <td>Lee</td>\n",
              "            <td>1</td>\n",
              "        </tr>\n",
              "        <tr>\n",
              "            <td>Vorontsov</td>\n",
              "            <td>1</td>\n",
              "        </tr>\n",
              "        <tr>\n",
              "            <td>Vasyugin</td>\n",
              "            <td>0</td>\n",
              "        </tr>\n",
              "        <tr>\n",
              "            <td>Jones</td>\n",
              "            <td>0</td>\n",
              "        </tr>\n",
              "        <tr>\n",
              "            <td>Smith</td>\n",
              "            <td>0</td>\n",
              "        </tr>\n",
              "        <tr>\n",
              "            <td>Velaskes</td>\n",
              "            <td>0</td>\n",
              "        </tr>\n",
              "        <tr>\n",
              "            <td>Simon</td>\n",
              "            <td>0</td>\n",
              "        </tr>\n",
              "        <tr>\n",
              "            <td>Johnson</td>\n",
              "            <td>0</td>\n",
              "        </tr>\n",
              "        <tr>\n",
              "            <td>Lee</td>\n",
              "            <td>0</td>\n",
              "        </tr>\n",
              "    </tbody>\n",
              "</table>"
            ]
          },
          "metadata": {},
          "execution_count": 15
        }
      ]
    },
    {
      "cell_type": "markdown",
      "metadata": {
        "id": "7dh5D6kbolVZ"
      },
      "source": [
        "## Операция пересечения"
      ]
    },
    {
      "cell_type": "markdown",
      "metadata": {
        "id": "vQjEnN2UolVa"
      },
      "source": [
        "Вывести такие имена, которые есть одновременно у сотрудников и студентов"
      ]
    },
    {
      "cell_type": "code",
      "metadata": {
        "id": "IvlTBqneolVa",
        "colab": {
          "base_uri": "https://localhost:8080/",
          "height": 118
        },
        "outputId": "ac0aba47-c675-487c-804e-172bd30289f4"
      },
      "source": [
        "%%sql\n",
        "SELECT name\n",
        "    FROM Students\n",
        "\n",
        "INTERSECT\n",
        "\n",
        "SELECT name\n",
        "    FROM Employees;"
      ],
      "execution_count": 17,
      "outputs": [
        {
          "output_type": "stream",
          "name": "stdout",
          "text": [
            " * sqlite://\n",
            "Done.\n"
          ]
        },
        {
          "output_type": "execute_result",
          "data": {
            "text/plain": [
              "[('Lee',), ('Smith',)]"
            ],
            "text/html": [
              "<table>\n",
              "    <thead>\n",
              "        <tr>\n",
              "            <th>name</th>\n",
              "        </tr>\n",
              "    </thead>\n",
              "    <tbody>\n",
              "        <tr>\n",
              "            <td>Lee</td>\n",
              "        </tr>\n",
              "        <tr>\n",
              "            <td>Smith</td>\n",
              "        </tr>\n",
              "    </tbody>\n",
              "</table>"
            ]
          },
          "metadata": {},
          "execution_count": 17
        }
      ]
    },
    {
      "cell_type": "markdown",
      "metadata": {
        "id": "KT0TbNeZolVb"
      },
      "source": [
        "## Операция разности"
      ]
    },
    {
      "cell_type": "markdown",
      "metadata": {
        "id": "W8_0atbaolVb"
      },
      "source": [
        "Вывести имена, которые встречаются среди студентов, но которых нет у сотрудников"
      ]
    },
    {
      "cell_type": "code",
      "metadata": {
        "id": "n89VNPYZolVc",
        "colab": {
          "base_uri": "https://localhost:8080/",
          "height": 161
        },
        "outputId": "9e687c0e-e87d-499b-adcc-8cccddda108d"
      },
      "source": [
        "%%sql\n",
        "SELECT name\n",
        "    FROM Students\n",
        "\n",
        "EXCEPT\n",
        "\n",
        "SELECT name\n",
        "    FROM Employees;"
      ],
      "execution_count": 18,
      "outputs": [
        {
          "output_type": "stream",
          "name": "stdout",
          "text": [
            " * sqlite://\n",
            "Done.\n"
          ]
        },
        {
          "output_type": "execute_result",
          "data": {
            "text/plain": [
              "[('Petrov',), ('Sidorov',), ('Verikov',), ('Vorontsov',)]"
            ],
            "text/html": [
              "<table>\n",
              "    <thead>\n",
              "        <tr>\n",
              "            <th>name</th>\n",
              "        </tr>\n",
              "    </thead>\n",
              "    <tbody>\n",
              "        <tr>\n",
              "            <td>Petrov</td>\n",
              "        </tr>\n",
              "        <tr>\n",
              "            <td>Sidorov</td>\n",
              "        </tr>\n",
              "        <tr>\n",
              "            <td>Verikov</td>\n",
              "        </tr>\n",
              "        <tr>\n",
              "            <td>Vorontsov</td>\n",
              "        </tr>\n",
              "    </tbody>\n",
              "</table>"
            ]
          },
          "metadata": {},
          "execution_count": 18
        }
      ]
    },
    {
      "cell_type": "markdown",
      "metadata": {
        "id": "qm_Vtt5IolVc"
      },
      "source": [
        "## Работа с NULL"
      ]
    },
    {
      "cell_type": "markdown",
      "metadata": {
        "id": "schsGyRTolVd"
      },
      "source": [
        "Вывести студентов, у которых не задан факультет"
      ]
    },
    {
      "cell_type": "markdown",
      "metadata": {
        "id": "RcbShQedolVd"
      },
      "source": [
        "Неправильно:"
      ]
    },
    {
      "cell_type": "code",
      "metadata": {
        "id": "Q9Ojq-6RolVd",
        "colab": {
          "base_uri": "https://localhost:8080/",
          "height": 203
        },
        "outputId": "511b294c-31ef-47dd-c213-ca832f8b4a1f"
      },
      "source": [
        "%%sql\n",
        "SELECT * FROM Students;"
      ],
      "execution_count": null,
      "outputs": [
        {
          "output_type": "stream",
          "name": "stdout",
          "text": [
            " * sqlite://\n",
            "Done.\n"
          ]
        },
        {
          "output_type": "execute_result",
          "data": {
            "text/plain": [
              "[(1, 'Sidorov', 3, 1),\n",
              " (2, 'Petrov', 3.5, 2),\n",
              " (3, 'Verikov', 4, 1),\n",
              " (4, 'Smith', 4.2, 2),\n",
              " (5, 'Lee', 4.5, 1),\n",
              " (6, 'Vorontsov', 3.2, None)]"
            ],
            "text/html": [
              "<table>\n",
              "    <thead>\n",
              "        <tr>\n",
              "            <th>id</th>\n",
              "            <th>name</th>\n",
              "            <th>gpa</th>\n",
              "            <th>faculty_id</th>\n",
              "        </tr>\n",
              "    </thead>\n",
              "    <tbody>\n",
              "        <tr>\n",
              "            <td>1</td>\n",
              "            <td>Sidorov</td>\n",
              "            <td>3</td>\n",
              "            <td>1</td>\n",
              "        </tr>\n",
              "        <tr>\n",
              "            <td>2</td>\n",
              "            <td>Petrov</td>\n",
              "            <td>3.5</td>\n",
              "            <td>2</td>\n",
              "        </tr>\n",
              "        <tr>\n",
              "            <td>3</td>\n",
              "            <td>Verikov</td>\n",
              "            <td>4</td>\n",
              "            <td>1</td>\n",
              "        </tr>\n",
              "        <tr>\n",
              "            <td>4</td>\n",
              "            <td>Smith</td>\n",
              "            <td>4.2</td>\n",
              "            <td>2</td>\n",
              "        </tr>\n",
              "        <tr>\n",
              "            <td>5</td>\n",
              "            <td>Lee</td>\n",
              "            <td>4.5</td>\n",
              "            <td>1</td>\n",
              "        </tr>\n",
              "        <tr>\n",
              "            <td>6</td>\n",
              "            <td>Vorontsov</td>\n",
              "            <td>3.2</td>\n",
              "            <td>None</td>\n",
              "        </tr>\n",
              "    </tbody>\n",
              "</table>"
            ]
          },
          "metadata": {},
          "execution_count": 10
        }
      ]
    },
    {
      "cell_type": "code",
      "metadata": {
        "id": "z5xOdEl3olVe",
        "colab": {
          "base_uri": "https://localhost:8080/",
          "height": 77
        },
        "outputId": "d62cf61e-6db2-4d06-96df-a7568fd18fce"
      },
      "source": [
        "%%sql\n",
        "SELECT *\n",
        "    FROM Students\n",
        "WHERE faculty_id = NULL;"
      ],
      "execution_count": null,
      "outputs": [
        {
          "output_type": "stream",
          "name": "stdout",
          "text": [
            " * sqlite://\n",
            "Done.\n"
          ]
        },
        {
          "output_type": "execute_result",
          "data": {
            "text/plain": [
              "[]"
            ],
            "text/html": [
              "<table>\n",
              "    <thead>\n",
              "        <tr>\n",
              "            <th>id</th>\n",
              "            <th>name</th>\n",
              "            <th>gpa</th>\n",
              "            <th>faculty_id</th>\n",
              "        </tr>\n",
              "    </thead>\n",
              "    <tbody>\n",
              "    </tbody>\n",
              "</table>"
            ]
          },
          "metadata": {},
          "execution_count": 11
        }
      ]
    },
    {
      "cell_type": "code",
      "metadata": {
        "id": "237O8C-BolVe",
        "colab": {
          "base_uri": "https://localhost:8080/",
          "height": 77
        },
        "outputId": "2f37a082-37b9-489a-96a5-334cf1371a67"
      },
      "source": [
        "%%sql\n",
        "SELECT *\n",
        "    FROM Students\n",
        "WHERE faculty_id != NULL;"
      ],
      "execution_count": null,
      "outputs": [
        {
          "output_type": "stream",
          "name": "stdout",
          "text": [
            " * sqlite://\n",
            "Done.\n"
          ]
        },
        {
          "output_type": "execute_result",
          "data": {
            "text/plain": [
              "[]"
            ],
            "text/html": [
              "<table>\n",
              "    <thead>\n",
              "        <tr>\n",
              "            <th>id</th>\n",
              "            <th>name</th>\n",
              "            <th>gpa</th>\n",
              "            <th>faculty_id</th>\n",
              "        </tr>\n",
              "    </thead>\n",
              "    <tbody>\n",
              "    </tbody>\n",
              "</table>"
            ]
          },
          "metadata": {},
          "execution_count": 12
        }
      ]
    },
    {
      "cell_type": "markdown",
      "metadata": {
        "id": "Xp2u9mQYolVf"
      },
      "source": [
        "Правильно:"
      ]
    },
    {
      "cell_type": "code",
      "metadata": {
        "id": "Sfn5RFFxolVf",
        "colab": {
          "base_uri": "https://localhost:8080/",
          "height": 96
        },
        "outputId": "5da004ac-46d8-45a6-86c3-0e1bcaf141d4"
      },
      "source": [
        "%%sql\n",
        "SELECT *\n",
        "    FROM Students\n",
        "WHERE faculty_id IS NULL;"
      ],
      "execution_count": 19,
      "outputs": [
        {
          "output_type": "stream",
          "name": "stdout",
          "text": [
            " * sqlite://\n",
            "Done.\n"
          ]
        },
        {
          "output_type": "execute_result",
          "data": {
            "text/plain": [
              "[(6, 'Vorontsov', 3.2, None)]"
            ],
            "text/html": [
              "<table>\n",
              "    <thead>\n",
              "        <tr>\n",
              "            <th>id</th>\n",
              "            <th>name</th>\n",
              "            <th>gpa</th>\n",
              "            <th>faculty_id</th>\n",
              "        </tr>\n",
              "    </thead>\n",
              "    <tbody>\n",
              "        <tr>\n",
              "            <td>6</td>\n",
              "            <td>Vorontsov</td>\n",
              "            <td>3.2</td>\n",
              "            <td>None</td>\n",
              "        </tr>\n",
              "    </tbody>\n",
              "</table>"
            ]
          },
          "metadata": {},
          "execution_count": 19
        }
      ]
    },
    {
      "cell_type": "markdown",
      "metadata": {
        "id": "Qu_48zdIolVg"
      },
      "source": [
        "Вывести сотрудников, у которых нет вышестоящего менеджера"
      ]
    },
    {
      "cell_type": "code",
      "metadata": {
        "id": "aM0ZI7sdolVg",
        "colab": {
          "base_uri": "https://localhost:8080/",
          "height": 96
        },
        "outputId": "3c3772bb-0c73-407a-c60c-ec51860d22a5"
      },
      "source": [
        "%%sql\n",
        "SELECT *\n",
        "    FROM Employees\n",
        "WHERE manager_id IS NULL;"
      ],
      "execution_count": 21,
      "outputs": [
        {
          "output_type": "stream",
          "name": "stdout",
          "text": [
            " * sqlite://\n",
            "Done.\n"
          ]
        },
        {
          "output_type": "execute_result",
          "data": {
            "text/plain": [
              "[(1, 'Vasyugin', '+111', 'Director', None)]"
            ],
            "text/html": [
              "<table>\n",
              "    <thead>\n",
              "        <tr>\n",
              "            <th>id</th>\n",
              "            <th>name</th>\n",
              "            <th>phone</th>\n",
              "            <th>title</th>\n",
              "            <th>manager_id</th>\n",
              "        </tr>\n",
              "    </thead>\n",
              "    <tbody>\n",
              "        <tr>\n",
              "            <td>1</td>\n",
              "            <td>Vasyugin</td>\n",
              "            <td>+111</td>\n",
              "            <td>Director</td>\n",
              "            <td>None</td>\n",
              "        </tr>\n",
              "    </tbody>\n",
              "</table>"
            ]
          },
          "metadata": {},
          "execution_count": 21
        }
      ]
    },
    {
      "cell_type": "markdown",
      "metadata": {
        "id": "xqNPKWcvolVg"
      },
      "source": [
        "Вывести сотрудников, у которых есть вышестоящий менеджер"
      ]
    },
    {
      "cell_type": "code",
      "metadata": {
        "id": "OQyu2DksolVh",
        "colab": {
          "base_uri": "https://localhost:8080/",
          "height": 203
        },
        "outputId": "2635b8d9-d907-4833-a9fa-c87671ae27bf"
      },
      "source": [
        "%%sql\n",
        "SELECT *\n",
        "    FROM Employees\n",
        "WHERE manager_id IS NOT NULL;"
      ],
      "execution_count": 23,
      "outputs": [
        {
          "output_type": "stream",
          "name": "stdout",
          "text": [
            " * sqlite://\n",
            "Done.\n"
          ]
        },
        {
          "output_type": "execute_result",
          "data": {
            "text/plain": [
              "[(2, 'Jones', '+112', 'Vice President', 1),\n",
              " (3, 'Smith', '+113', 'Vice President', 1),\n",
              " (4, 'Velaskes', '+114', 'Developer', 2),\n",
              " (5, 'Simon', '+115', 'Analyst', 2),\n",
              " (6, 'Johnson', '+116', 'Engineer', 3),\n",
              " (7, 'Lee', '+117', 'Engineer', 3)]"
            ],
            "text/html": [
              "<table>\n",
              "    <thead>\n",
              "        <tr>\n",
              "            <th>id</th>\n",
              "            <th>name</th>\n",
              "            <th>phone</th>\n",
              "            <th>title</th>\n",
              "            <th>manager_id</th>\n",
              "        </tr>\n",
              "    </thead>\n",
              "    <tbody>\n",
              "        <tr>\n",
              "            <td>2</td>\n",
              "            <td>Jones</td>\n",
              "            <td>+112</td>\n",
              "            <td>Vice President</td>\n",
              "            <td>1</td>\n",
              "        </tr>\n",
              "        <tr>\n",
              "            <td>3</td>\n",
              "            <td>Smith</td>\n",
              "            <td>+113</td>\n",
              "            <td>Vice President</td>\n",
              "            <td>1</td>\n",
              "        </tr>\n",
              "        <tr>\n",
              "            <td>4</td>\n",
              "            <td>Velaskes</td>\n",
              "            <td>+114</td>\n",
              "            <td>Developer</td>\n",
              "            <td>2</td>\n",
              "        </tr>\n",
              "        <tr>\n",
              "            <td>5</td>\n",
              "            <td>Simon</td>\n",
              "            <td>+115</td>\n",
              "            <td>Analyst</td>\n",
              "            <td>2</td>\n",
              "        </tr>\n",
              "        <tr>\n",
              "            <td>6</td>\n",
              "            <td>Johnson</td>\n",
              "            <td>+116</td>\n",
              "            <td>Engineer</td>\n",
              "            <td>3</td>\n",
              "        </tr>\n",
              "        <tr>\n",
              "            <td>7</td>\n",
              "            <td>Lee</td>\n",
              "            <td>+117</td>\n",
              "            <td>Engineer</td>\n",
              "            <td>3</td>\n",
              "        </tr>\n",
              "    </tbody>\n",
              "</table>"
            ]
          },
          "metadata": {},
          "execution_count": 23
        }
      ]
    },
    {
      "cell_type": "markdown",
      "metadata": {
        "id": "oDiLQbowolVi"
      },
      "source": [
        "## Вложенные подзапросы"
      ]
    },
    {
      "cell_type": "markdown",
      "metadata": {
        "id": "TYYr0k-HolVi"
      },
      "source": [
        "### Поиск по множеству"
      ]
    },
    {
      "cell_type": "markdown",
      "metadata": {
        "id": "nNyPPgoUolVi"
      },
      "source": [
        "Вывести студентов с факультета ИТ"
      ]
    },
    {
      "cell_type": "code",
      "source": [
        "%%sql\n",
        "SELECT *\n",
        "    FROM Students\n",
        "WHERE faculty_id = 1; -- откуда мы знаем id?"
      ],
      "metadata": {
        "colab": {
          "base_uri": "https://localhost:8080/",
          "height": 139
        },
        "id": "AW3K7s8mC_FB",
        "outputId": "37e9919d-b1c4-4da5-fb5f-5d2692fcdf62"
      },
      "execution_count": 27,
      "outputs": [
        {
          "output_type": "stream",
          "name": "stdout",
          "text": [
            " * sqlite://\n",
            "Done.\n"
          ]
        },
        {
          "output_type": "execute_result",
          "data": {
            "text/plain": [
              "[(1, 'Sidorov', 3, 1), (3, 'Verikov', 4, 1), (5, 'Lee', 4.5, 1)]"
            ],
            "text/html": [
              "<table>\n",
              "    <thead>\n",
              "        <tr>\n",
              "            <th>id</th>\n",
              "            <th>name</th>\n",
              "            <th>gpa</th>\n",
              "            <th>faculty_id</th>\n",
              "        </tr>\n",
              "    </thead>\n",
              "    <tbody>\n",
              "        <tr>\n",
              "            <td>1</td>\n",
              "            <td>Sidorov</td>\n",
              "            <td>3</td>\n",
              "            <td>1</td>\n",
              "        </tr>\n",
              "        <tr>\n",
              "            <td>3</td>\n",
              "            <td>Verikov</td>\n",
              "            <td>4</td>\n",
              "            <td>1</td>\n",
              "        </tr>\n",
              "        <tr>\n",
              "            <td>5</td>\n",
              "            <td>Lee</td>\n",
              "            <td>4.5</td>\n",
              "            <td>1</td>\n",
              "        </tr>\n",
              "    </tbody>\n",
              "</table>"
            ]
          },
          "metadata": {},
          "execution_count": 27
        }
      ]
    },
    {
      "cell_type": "code",
      "metadata": {
        "id": "QpZwUj_holVi",
        "colab": {
          "base_uri": "https://localhost:8080/",
          "height": 139
        },
        "outputId": "64a3111a-cd0d-48ae-8ded-902171e1baf9"
      },
      "source": [
        "%%sql\n",
        "SELECT *\n",
        "    FROM Students\n",
        "WHERE faculty_id IN (SELECT id FROM Faculties WHERE name = 'IT');"
      ],
      "execution_count": 28,
      "outputs": [
        {
          "output_type": "stream",
          "name": "stdout",
          "text": [
            " * sqlite://\n",
            "Done.\n"
          ]
        },
        {
          "output_type": "execute_result",
          "data": {
            "text/plain": [
              "[(1, 'Sidorov', 3, 1), (3, 'Verikov', 4, 1), (5, 'Lee', 4.5, 1)]"
            ],
            "text/html": [
              "<table>\n",
              "    <thead>\n",
              "        <tr>\n",
              "            <th>id</th>\n",
              "            <th>name</th>\n",
              "            <th>gpa</th>\n",
              "            <th>faculty_id</th>\n",
              "        </tr>\n",
              "    </thead>\n",
              "    <tbody>\n",
              "        <tr>\n",
              "            <td>1</td>\n",
              "            <td>Sidorov</td>\n",
              "            <td>3</td>\n",
              "            <td>1</td>\n",
              "        </tr>\n",
              "        <tr>\n",
              "            <td>3</td>\n",
              "            <td>Verikov</td>\n",
              "            <td>4</td>\n",
              "            <td>1</td>\n",
              "        </tr>\n",
              "        <tr>\n",
              "            <td>5</td>\n",
              "            <td>Lee</td>\n",
              "            <td>4.5</td>\n",
              "            <td>1</td>\n",
              "        </tr>\n",
              "    </tbody>\n",
              "</table>"
            ]
          },
          "metadata": {},
          "execution_count": 28
        }
      ]
    },
    {
      "cell_type": "markdown",
      "metadata": {
        "id": "jYOhRavHolVj"
      },
      "source": [
        "Вывести студентов, которые не учатся на факультете ИТ"
      ]
    },
    {
      "cell_type": "code",
      "metadata": {
        "id": "JPZw2f5HolVk",
        "colab": {
          "base_uri": "https://localhost:8080/",
          "height": 203
        },
        "outputId": "c4d92297-b43e-41cc-ad80-2c275c531903"
      },
      "source": [
        "%%sql\n",
        "SELECT * FROM Students;"
      ],
      "execution_count": null,
      "outputs": [
        {
          "output_type": "stream",
          "name": "stdout",
          "text": [
            " * sqlite://\n",
            "Done.\n"
          ]
        },
        {
          "output_type": "execute_result",
          "data": {
            "text/plain": [
              "[(1, 'Sidorov', 3, 1),\n",
              " (2, 'Petrov', 3.5, 2),\n",
              " (3, 'Verikov', 4, 1),\n",
              " (4, 'Smith', 4.2, 2),\n",
              " (5, 'Lee', 4.5, 1),\n",
              " (6, 'Vorontsov', 3.2, None)]"
            ],
            "text/html": [
              "<table>\n",
              "    <thead>\n",
              "        <tr>\n",
              "            <th>id</th>\n",
              "            <th>name</th>\n",
              "            <th>gpa</th>\n",
              "            <th>faculty_id</th>\n",
              "        </tr>\n",
              "    </thead>\n",
              "    <tbody>\n",
              "        <tr>\n",
              "            <td>1</td>\n",
              "            <td>Sidorov</td>\n",
              "            <td>3</td>\n",
              "            <td>1</td>\n",
              "        </tr>\n",
              "        <tr>\n",
              "            <td>2</td>\n",
              "            <td>Petrov</td>\n",
              "            <td>3.5</td>\n",
              "            <td>2</td>\n",
              "        </tr>\n",
              "        <tr>\n",
              "            <td>3</td>\n",
              "            <td>Verikov</td>\n",
              "            <td>4</td>\n",
              "            <td>1</td>\n",
              "        </tr>\n",
              "        <tr>\n",
              "            <td>4</td>\n",
              "            <td>Smith</td>\n",
              "            <td>4.2</td>\n",
              "            <td>2</td>\n",
              "        </tr>\n",
              "        <tr>\n",
              "            <td>5</td>\n",
              "            <td>Lee</td>\n",
              "            <td>4.5</td>\n",
              "            <td>1</td>\n",
              "        </tr>\n",
              "        <tr>\n",
              "            <td>6</td>\n",
              "            <td>Vorontsov</td>\n",
              "            <td>3.2</td>\n",
              "            <td>None</td>\n",
              "        </tr>\n",
              "    </tbody>\n",
              "</table>"
            ]
          },
          "metadata": {},
          "execution_count": 17
        }
      ]
    },
    {
      "cell_type": "code",
      "metadata": {
        "id": "4qEIVbQWolVk",
        "colab": {
          "base_uri": "https://localhost:8080/",
          "height": 118
        },
        "outputId": "52b359c3-6148-43aa-a16f-2d2ece2734a4"
      },
      "source": [
        "%%sql\n",
        "SELECT *\n",
        "    FROM Students\n",
        "WHERE faculty_id NOT IN (SELECT id FROM Faculties WHERE name = 'IT');"
      ],
      "execution_count": null,
      "outputs": [
        {
          "output_type": "stream",
          "name": "stdout",
          "text": [
            " * sqlite://\n",
            "Done.\n"
          ]
        },
        {
          "output_type": "execute_result",
          "data": {
            "text/plain": [
              "[(2, 'Petrov', 3.5, 2), (4, 'Smith', 4.2, 2)]"
            ],
            "text/html": [
              "<table>\n",
              "    <thead>\n",
              "        <tr>\n",
              "            <th>id</th>\n",
              "            <th>name</th>\n",
              "            <th>gpa</th>\n",
              "            <th>faculty_id</th>\n",
              "        </tr>\n",
              "    </thead>\n",
              "    <tbody>\n",
              "        <tr>\n",
              "            <td>2</td>\n",
              "            <td>Petrov</td>\n",
              "            <td>3.5</td>\n",
              "            <td>2</td>\n",
              "        </tr>\n",
              "        <tr>\n",
              "            <td>4</td>\n",
              "            <td>Smith</td>\n",
              "            <td>4.2</td>\n",
              "            <td>2</td>\n",
              "        </tr>\n",
              "    </tbody>\n",
              "</table>"
            ]
          },
          "metadata": {},
          "execution_count": 18
        }
      ]
    },
    {
      "cell_type": "markdown",
      "metadata": {
        "id": "W6Bp_HlHolVl"
      },
      "source": [
        "Заметьте, что есть еще один студент не с факультета ИТ"
      ]
    },
    {
      "cell_type": "code",
      "metadata": {
        "id": "Plsfh3YbolVl",
        "colab": {
          "base_uri": "https://localhost:8080/",
          "height": 139
        },
        "outputId": "39c421a5-e5ba-4af6-a9d2-180b95b066a5"
      },
      "source": [
        "%%sql\n",
        "SELECT *\n",
        "    FROM Students\n",
        "WHERE faculty_id NOT IN (SELECT id FROM Faculties WHERE name = 'IT')\n",
        "    OR faculty_id IS NULL;"
      ],
      "execution_count": 29,
      "outputs": [
        {
          "output_type": "stream",
          "name": "stdout",
          "text": [
            " * sqlite://\n",
            "Done.\n"
          ]
        },
        {
          "output_type": "execute_result",
          "data": {
            "text/plain": [
              "[(2, 'Petrov', 3.5, 2), (4, 'Smith', 4.2, 2), (6, 'Vorontsov', 3.2, None)]"
            ],
            "text/html": [
              "<table>\n",
              "    <thead>\n",
              "        <tr>\n",
              "            <th>id</th>\n",
              "            <th>name</th>\n",
              "            <th>gpa</th>\n",
              "            <th>faculty_id</th>\n",
              "        </tr>\n",
              "    </thead>\n",
              "    <tbody>\n",
              "        <tr>\n",
              "            <td>2</td>\n",
              "            <td>Petrov</td>\n",
              "            <td>3.5</td>\n",
              "            <td>2</td>\n",
              "        </tr>\n",
              "        <tr>\n",
              "            <td>4</td>\n",
              "            <td>Smith</td>\n",
              "            <td>4.2</td>\n",
              "            <td>2</td>\n",
              "        </tr>\n",
              "        <tr>\n",
              "            <td>6</td>\n",
              "            <td>Vorontsov</td>\n",
              "            <td>3.2</td>\n",
              "            <td>None</td>\n",
              "        </tr>\n",
              "    </tbody>\n",
              "</table>"
            ]
          },
          "metadata": {},
          "execution_count": 29
        }
      ]
    },
    {
      "cell_type": "code",
      "metadata": {
        "id": "P-h8fu9LolVl",
        "colab": {
          "base_uri": "https://localhost:8080/",
          "height": 139
        },
        "outputId": "0a5506da-5e57-4a28-eca4-d5ff7212f6fa"
      },
      "source": [
        "%%sql\n",
        "SELECT *\n",
        "    FROM Students\n",
        "WHERE coalesce(faculty_id, -1) NOT IN (SELECT id FROM Faculties WHERE name = 'IT');"
      ],
      "execution_count": 30,
      "outputs": [
        {
          "output_type": "stream",
          "name": "stdout",
          "text": [
            " * sqlite://\n",
            "Done.\n"
          ]
        },
        {
          "output_type": "execute_result",
          "data": {
            "text/plain": [
              "[(2, 'Petrov', 3.5, 2), (4, 'Smith', 4.2, 2), (6, 'Vorontsov', 3.2, None)]"
            ],
            "text/html": [
              "<table>\n",
              "    <thead>\n",
              "        <tr>\n",
              "            <th>id</th>\n",
              "            <th>name</th>\n",
              "            <th>gpa</th>\n",
              "            <th>faculty_id</th>\n",
              "        </tr>\n",
              "    </thead>\n",
              "    <tbody>\n",
              "        <tr>\n",
              "            <td>2</td>\n",
              "            <td>Petrov</td>\n",
              "            <td>3.5</td>\n",
              "            <td>2</td>\n",
              "        </tr>\n",
              "        <tr>\n",
              "            <td>4</td>\n",
              "            <td>Smith</td>\n",
              "            <td>4.2</td>\n",
              "            <td>2</td>\n",
              "        </tr>\n",
              "        <tr>\n",
              "            <td>6</td>\n",
              "            <td>Vorontsov</td>\n",
              "            <td>3.2</td>\n",
              "            <td>None</td>\n",
              "        </tr>\n",
              "    </tbody>\n",
              "</table>"
            ]
          },
          "metadata": {},
          "execution_count": 30
        }
      ]
    },
    {
      "cell_type": "code",
      "source": [
        "%%sql\n",
        "SELECT coalesce(NULL, NULL, 0, 5, NULL, 1);"
      ],
      "metadata": {
        "colab": {
          "base_uri": "https://localhost:8080/",
          "height": 96
        },
        "id": "wDM1RGJSDvC6",
        "outputId": "0f06f6e3-4068-4b0d-9711-daee8214addd"
      },
      "execution_count": 33,
      "outputs": [
        {
          "output_type": "stream",
          "name": "stdout",
          "text": [
            " * sqlite://\n",
            "Done.\n"
          ]
        },
        {
          "output_type": "execute_result",
          "data": {
            "text/plain": [
              "[(0,)]"
            ],
            "text/html": [
              "<table>\n",
              "    <thead>\n",
              "        <tr>\n",
              "            <th>coalesce(NULL, NULL, 0, 5, NULL, 1)</th>\n",
              "        </tr>\n",
              "    </thead>\n",
              "    <tbody>\n",
              "        <tr>\n",
              "            <td>0</td>\n",
              "        </tr>\n",
              "    </tbody>\n",
              "</table>"
            ]
          },
          "metadata": {},
          "execution_count": 33
        }
      ]
    },
    {
      "cell_type": "markdown",
      "metadata": {
        "id": "34uj1ENsolVm"
      },
      "source": [
        "Вывести студентов со средним баллом, большим чем средний балл у худшего студента с факультета Кибернетики"
      ]
    },
    {
      "cell_type": "code",
      "metadata": {
        "id": "X5kM2UQTolVn",
        "colab": {
          "base_uri": "https://localhost:8080/",
          "height": 139
        },
        "outputId": "ae737d1a-fca9-4c64-bf9b-111f9866b3f0"
      },
      "source": [
        "%%sql\n",
        "SELECT *\n",
        "    FROM Students\n",
        "WHERE gpa > (\n",
        "    SELECT MIN(gpa)\n",
        "        FROM Students\n",
        "    WHERE faculty_id = (select id FROM Faculties WHERE name = 'KIB')\n",
        "    );"
      ],
      "execution_count": 34,
      "outputs": [
        {
          "output_type": "stream",
          "name": "stdout",
          "text": [
            " * sqlite://\n",
            "Done.\n"
          ]
        },
        {
          "output_type": "execute_result",
          "data": {
            "text/plain": [
              "[(3, 'Verikov', 4, 1), (4, 'Smith', 4.2, 2), (5, 'Lee', 4.5, 1)]"
            ],
            "text/html": [
              "<table>\n",
              "    <thead>\n",
              "        <tr>\n",
              "            <th>id</th>\n",
              "            <th>name</th>\n",
              "            <th>gpa</th>\n",
              "            <th>faculty_id</th>\n",
              "        </tr>\n",
              "    </thead>\n",
              "    <tbody>\n",
              "        <tr>\n",
              "            <td>3</td>\n",
              "            <td>Verikov</td>\n",
              "            <td>4</td>\n",
              "            <td>1</td>\n",
              "        </tr>\n",
              "        <tr>\n",
              "            <td>4</td>\n",
              "            <td>Smith</td>\n",
              "            <td>4.2</td>\n",
              "            <td>2</td>\n",
              "        </tr>\n",
              "        <tr>\n",
              "            <td>5</td>\n",
              "            <td>Lee</td>\n",
              "            <td>4.5</td>\n",
              "            <td>1</td>\n",
              "        </tr>\n",
              "    </tbody>\n",
              "</table>"
            ]
          },
          "metadata": {},
          "execution_count": 34
        }
      ]
    },
    {
      "cell_type": "markdown",
      "metadata": {
        "id": "X_S0VVzqolVn"
      },
      "source": [
        "Вывести студентов со средним баллом, большего чем средний балл у лучшего из худших студентов по факультету"
      ]
    },
    {
      "cell_type": "markdown",
      "metadata": {
        "id": "g-7AZZPBolVn"
      },
      "source": [
        "Как не стоит писать:"
      ]
    },
    {
      "cell_type": "code",
      "metadata": {
        "id": "KQ6nnbbeolVo",
        "colab": {
          "base_uri": "https://localhost:8080/",
          "height": 139
        },
        "outputId": "66cd124d-eaad-43d0-d00c-536f57cbc554"
      },
      "source": [
        "%%sql\n",
        "SELECT faculty_id, MIN(gpa)\n",
        "    FROM Students\n",
        "GROUP BY faculty_id;"
      ],
      "execution_count": 35,
      "outputs": [
        {
          "output_type": "stream",
          "name": "stdout",
          "text": [
            " * sqlite://\n",
            "Done.\n"
          ]
        },
        {
          "output_type": "execute_result",
          "data": {
            "text/plain": [
              "[(None, 3.2), (1, 3), (2, 3.5)]"
            ],
            "text/html": [
              "<table>\n",
              "    <thead>\n",
              "        <tr>\n",
              "            <th>faculty_id</th>\n",
              "            <th>MIN(gpa)</th>\n",
              "        </tr>\n",
              "    </thead>\n",
              "    <tbody>\n",
              "        <tr>\n",
              "            <td>None</td>\n",
              "            <td>3.2</td>\n",
              "        </tr>\n",
              "        <tr>\n",
              "            <td>1</td>\n",
              "            <td>3</td>\n",
              "        </tr>\n",
              "        <tr>\n",
              "            <td>2</td>\n",
              "            <td>3.5</td>\n",
              "        </tr>\n",
              "    </tbody>\n",
              "</table>"
            ]
          },
          "metadata": {},
          "execution_count": 35
        }
      ]
    },
    {
      "cell_type": "code",
      "metadata": {
        "id": "TEtOvG1bolVo",
        "colab": {
          "base_uri": "https://localhost:8080/",
          "height": 161
        },
        "outputId": "b70b071d-26c6-4699-9068-784065418610"
      },
      "source": [
        "%%sql\n",
        "SELECT *\n",
        "FROM Students\n",
        "WHERE gpa > (\n",
        "    SELECT MIN(gpa)\n",
        "        FROM Students\n",
        "    GROUP BY faculty_id\n",
        "    );"
      ],
      "execution_count": null,
      "outputs": [
        {
          "output_type": "stream",
          "name": "stdout",
          "text": [
            " * sqlite://\n",
            "Done.\n"
          ]
        },
        {
          "output_type": "execute_result",
          "data": {
            "text/plain": [
              "[(2, 'Petrov', 3.5, 2),\n",
              " (3, 'Verikov', 4, 1),\n",
              " (4, 'Smith', 4.2, 2),\n",
              " (5, 'Lee', 4.5, 1)]"
            ],
            "text/html": [
              "<table>\n",
              "    <thead>\n",
              "        <tr>\n",
              "            <th>id</th>\n",
              "            <th>name</th>\n",
              "            <th>gpa</th>\n",
              "            <th>faculty_id</th>\n",
              "        </tr>\n",
              "    </thead>\n",
              "    <tbody>\n",
              "        <tr>\n",
              "            <td>2</td>\n",
              "            <td>Petrov</td>\n",
              "            <td>3.5</td>\n",
              "            <td>2</td>\n",
              "        </tr>\n",
              "        <tr>\n",
              "            <td>3</td>\n",
              "            <td>Verikov</td>\n",
              "            <td>4</td>\n",
              "            <td>1</td>\n",
              "        </tr>\n",
              "        <tr>\n",
              "            <td>4</td>\n",
              "            <td>Smith</td>\n",
              "            <td>4.2</td>\n",
              "            <td>2</td>\n",
              "        </tr>\n",
              "        <tr>\n",
              "            <td>5</td>\n",
              "            <td>Lee</td>\n",
              "            <td>4.5</td>\n",
              "            <td>1</td>\n",
              "        </tr>\n",
              "    </tbody>\n",
              "</table>"
            ]
          },
          "metadata": {},
          "execution_count": 23
        }
      ]
    },
    {
      "cell_type": "code",
      "metadata": {
        "id": "jvdU1MNcolVp",
        "colab": {
          "base_uri": "https://localhost:8080/",
          "height": 139
        },
        "outputId": "dcba357c-92c4-40a6-c22e-c348cec58247"
      },
      "source": [
        "%%sql\n",
        "SELECT *\n",
        "    FROM Students\n",
        "WHERE gpa > (\n",
        "    SELECT MIN(gpa)\n",
        "        FROM Students\n",
        "    GROUP BY faculty_id\n",
        "    ORDER BY min(gpa) desc\n",
        "    );"
      ],
      "execution_count": null,
      "outputs": [
        {
          "output_type": "stream",
          "name": "stdout",
          "text": [
            " * sqlite://\n",
            "Done.\n"
          ]
        },
        {
          "output_type": "execute_result",
          "data": {
            "text/plain": [
              "[(3, 'Verikov', 4, 1), (4, 'Smith', 4.2, 2), (5, 'Lee', 4.5, 1)]"
            ],
            "text/html": [
              "<table>\n",
              "    <thead>\n",
              "        <tr>\n",
              "            <th>id</th>\n",
              "            <th>name</th>\n",
              "            <th>gpa</th>\n",
              "            <th>faculty_id</th>\n",
              "        </tr>\n",
              "    </thead>\n",
              "    <tbody>\n",
              "        <tr>\n",
              "            <td>3</td>\n",
              "            <td>Verikov</td>\n",
              "            <td>4</td>\n",
              "            <td>1</td>\n",
              "        </tr>\n",
              "        <tr>\n",
              "            <td>4</td>\n",
              "            <td>Smith</td>\n",
              "            <td>4.2</td>\n",
              "            <td>2</td>\n",
              "        </tr>\n",
              "        <tr>\n",
              "            <td>5</td>\n",
              "            <td>Lee</td>\n",
              "            <td>4.5</td>\n",
              "            <td>1</td>\n",
              "        </tr>\n",
              "    </tbody>\n",
              "</table>"
            ]
          },
          "metadata": {},
          "execution_count": 24
        }
      ]
    },
    {
      "cell_type": "markdown",
      "metadata": {
        "id": "gCOWUbHColVp"
      },
      "source": [
        "Правильные варианты:"
      ]
    },
    {
      "cell_type": "code",
      "metadata": {
        "id": "QQ1A5YSUolVq",
        "colab": {
          "base_uri": "https://localhost:8080/",
          "height": 139
        },
        "outputId": "27010318-2f91-46f1-eda3-c1917851870d"
      },
      "source": [
        "%%sql\n",
        "SELECT *\n",
        "    FROM Students\n",
        "WHERE gpa > (\n",
        "    SELECT max(gpa)\n",
        "        FROM (\n",
        "            SELECT MIN(gpa) as gpa\n",
        "                FROM Students\n",
        "            GROUP BY faculty_id)\n",
        "            );"
      ],
      "execution_count": null,
      "outputs": [
        {
          "output_type": "stream",
          "name": "stdout",
          "text": [
            " * sqlite://\n",
            "Done.\n"
          ]
        },
        {
          "output_type": "execute_result",
          "data": {
            "text/plain": [
              "[(3, 'Verikov', 4, 1), (4, 'Smith', 4.2, 2), (5, 'Lee', 4.5, 1)]"
            ],
            "text/html": [
              "<table>\n",
              "    <thead>\n",
              "        <tr>\n",
              "            <th>id</th>\n",
              "            <th>name</th>\n",
              "            <th>gpa</th>\n",
              "            <th>faculty_id</th>\n",
              "        </tr>\n",
              "    </thead>\n",
              "    <tbody>\n",
              "        <tr>\n",
              "            <td>3</td>\n",
              "            <td>Verikov</td>\n",
              "            <td>4</td>\n",
              "            <td>1</td>\n",
              "        </tr>\n",
              "        <tr>\n",
              "            <td>4</td>\n",
              "            <td>Smith</td>\n",
              "            <td>4.2</td>\n",
              "            <td>2</td>\n",
              "        </tr>\n",
              "        <tr>\n",
              "            <td>5</td>\n",
              "            <td>Lee</td>\n",
              "            <td>4.5</td>\n",
              "            <td>1</td>\n",
              "        </tr>\n",
              "    </tbody>\n",
              "</table>"
            ]
          },
          "metadata": {},
          "execution_count": 25
        }
      ]
    },
    {
      "cell_type": "code",
      "metadata": {
        "id": "eZtiF62PolVr",
        "colab": {
          "base_uri": "https://localhost:8080/",
          "height": 139
        },
        "outputId": "a79931f7-70e1-4aec-f5c4-98ec18727020"
      },
      "source": [
        "%%sql\n",
        "SELECT s.*\n",
        "    FROM Students s, (\n",
        "    SELECT max(gpa) as m_gpa\n",
        "        FROM (\n",
        "            SELECT MIN(gpa) as gpa\n",
        "                FROM Students\n",
        "            GROUP BY faculty_id)\n",
        "            )\n",
        "WHERE s.gpa > m_gpa;"
      ],
      "execution_count": null,
      "outputs": [
        {
          "output_type": "stream",
          "name": "stdout",
          "text": [
            " * sqlite://\n",
            "Done.\n"
          ]
        },
        {
          "output_type": "execute_result",
          "data": {
            "text/plain": [
              "[(3, 'Verikov', 4, 1), (4, 'Smith', 4.2, 2), (5, 'Lee', 4.5, 1)]"
            ],
            "text/html": [
              "<table>\n",
              "    <thead>\n",
              "        <tr>\n",
              "            <th>id</th>\n",
              "            <th>name</th>\n",
              "            <th>gpa</th>\n",
              "            <th>faculty_id</th>\n",
              "        </tr>\n",
              "    </thead>\n",
              "    <tbody>\n",
              "        <tr>\n",
              "            <td>3</td>\n",
              "            <td>Verikov</td>\n",
              "            <td>4</td>\n",
              "            <td>1</td>\n",
              "        </tr>\n",
              "        <tr>\n",
              "            <td>4</td>\n",
              "            <td>Smith</td>\n",
              "            <td>4.2</td>\n",
              "            <td>2</td>\n",
              "        </tr>\n",
              "        <tr>\n",
              "            <td>5</td>\n",
              "            <td>Lee</td>\n",
              "            <td>4.5</td>\n",
              "            <td>1</td>\n",
              "        </tr>\n",
              "    </tbody>\n",
              "</table>"
            ]
          },
          "metadata": {},
          "execution_count": 26
        }
      ]
    },
    {
      "cell_type": "markdown",
      "metadata": {
        "id": "U9zd2wOjolVs"
      },
      "source": [
        "Вывести студентов со средним баллом, который больше чем минимальный средний балл на их факультете"
      ]
    },
    {
      "cell_type": "code",
      "metadata": {
        "id": "NexHy_T6olVs",
        "colab": {
          "base_uri": "https://localhost:8080/",
          "height": 139
        },
        "outputId": "5e5a19f7-dcd6-4a5f-fb3d-24362c8b5ef8"
      },
      "source": [
        "%%sql\n",
        "SELECT *\n",
        "    FROM Students\n",
        "WHERE faculty_id = 1;"
      ],
      "execution_count": null,
      "outputs": [
        {
          "output_type": "stream",
          "name": "stdout",
          "text": [
            " * sqlite://\n",
            "Done.\n"
          ]
        },
        {
          "output_type": "execute_result",
          "data": {
            "text/plain": [
              "[(1, 'Sidorov', 3, 1), (3, 'Verikov', 4, 1), (5, 'Lee', 4.5, 1)]"
            ],
            "text/html": [
              "<table>\n",
              "    <thead>\n",
              "        <tr>\n",
              "            <th>id</th>\n",
              "            <th>name</th>\n",
              "            <th>gpa</th>\n",
              "            <th>faculty_id</th>\n",
              "        </tr>\n",
              "    </thead>\n",
              "    <tbody>\n",
              "        <tr>\n",
              "            <td>1</td>\n",
              "            <td>Sidorov</td>\n",
              "            <td>3</td>\n",
              "            <td>1</td>\n",
              "        </tr>\n",
              "        <tr>\n",
              "            <td>3</td>\n",
              "            <td>Verikov</td>\n",
              "            <td>4</td>\n",
              "            <td>1</td>\n",
              "        </tr>\n",
              "        <tr>\n",
              "            <td>5</td>\n",
              "            <td>Lee</td>\n",
              "            <td>4.5</td>\n",
              "            <td>1</td>\n",
              "        </tr>\n",
              "    </tbody>\n",
              "</table>"
            ]
          },
          "metadata": {},
          "execution_count": 27
        }
      ]
    },
    {
      "cell_type": "code",
      "metadata": {
        "id": "K75rbbTgolVt",
        "colab": {
          "base_uri": "https://localhost:8080/",
          "height": 139
        },
        "outputId": "504eba4b-8e7e-4966-8f02-dcf19d4c0f81"
      },
      "source": [
        "%%sql\n",
        "SELECT *\n",
        "    FROM Students s0\n",
        "WHERE EXISTS (\n",
        "    SELECT 1\n",
        "        FROM Students s1\n",
        "    WHERE s0.faculty_id = s1.faculty_id\n",
        "        AND s0.gpa > s1.gpa\n",
        "    );"
      ],
      "execution_count": 36,
      "outputs": [
        {
          "output_type": "stream",
          "name": "stdout",
          "text": [
            " * sqlite://\n",
            "Done.\n"
          ]
        },
        {
          "output_type": "execute_result",
          "data": {
            "text/plain": [
              "[(3, 'Verikov', 4, 1), (4, 'Smith', 4.2, 2), (5, 'Lee', 4.5, 1)]"
            ],
            "text/html": [
              "<table>\n",
              "    <thead>\n",
              "        <tr>\n",
              "            <th>id</th>\n",
              "            <th>name</th>\n",
              "            <th>gpa</th>\n",
              "            <th>faculty_id</th>\n",
              "        </tr>\n",
              "    </thead>\n",
              "    <tbody>\n",
              "        <tr>\n",
              "            <td>3</td>\n",
              "            <td>Verikov</td>\n",
              "            <td>4</td>\n",
              "            <td>1</td>\n",
              "        </tr>\n",
              "        <tr>\n",
              "            <td>4</td>\n",
              "            <td>Smith</td>\n",
              "            <td>4.2</td>\n",
              "            <td>2</td>\n",
              "        </tr>\n",
              "        <tr>\n",
              "            <td>5</td>\n",
              "            <td>Lee</td>\n",
              "            <td>4.5</td>\n",
              "            <td>1</td>\n",
              "        </tr>\n",
              "    </tbody>\n",
              "</table>"
            ]
          },
          "metadata": {},
          "execution_count": 36
        }
      ]
    },
    {
      "cell_type": "markdown",
      "metadata": {
        "id": "vmcN7X2PolVv"
      },
      "source": [
        "## Скалярные подзапросы"
      ]
    },
    {
      "cell_type": "markdown",
      "metadata": {
        "id": "_WEn14X0olVw"
      },
      "source": [
        "Вывести для каждого факультета количество студентов на факультете"
      ]
    },
    {
      "cell_type": "code",
      "metadata": {
        "id": "pGVGFlMLolVw",
        "colab": {
          "base_uri": "https://localhost:8080/",
          "height": 118
        },
        "outputId": "61d66345-4c1c-422b-a2e9-83eedeea17bb"
      },
      "source": [
        "%%sql\n",
        "SELECT id, name, (SELECT count(*) FROM Students s WHERE s.faculty_id = f.id) as cnt\n",
        "    FROM Faculties f;"
      ],
      "execution_count": null,
      "outputs": [
        {
          "output_type": "stream",
          "name": "stdout",
          "text": [
            " * sqlite://\n",
            "Done.\n"
          ]
        },
        {
          "output_type": "execute_result",
          "data": {
            "text/plain": [
              "[(1, 'IT', 3), (2, 'KIB', 2)]"
            ],
            "text/html": [
              "<table>\n",
              "    <thead>\n",
              "        <tr>\n",
              "            <th>id</th>\n",
              "            <th>name</th>\n",
              "            <th>cnt</th>\n",
              "        </tr>\n",
              "    </thead>\n",
              "    <tbody>\n",
              "        <tr>\n",
              "            <td>1</td>\n",
              "            <td>IT</td>\n",
              "            <td>3</td>\n",
              "        </tr>\n",
              "        <tr>\n",
              "            <td>2</td>\n",
              "            <td>KIB</td>\n",
              "            <td>2</td>\n",
              "        </tr>\n",
              "    </tbody>\n",
              "</table>"
            ]
          },
          "metadata": {},
          "execution_count": 33
        }
      ]
    },
    {
      "cell_type": "markdown",
      "metadata": {
        "id": "iiXFMl1SolVw"
      },
      "source": [
        "## Соединения (JOIN)"
      ]
    },
    {
      "cell_type": "code",
      "source": [
        "%%sql\n",
        "SELECT * FROM Students, Faculties;"
      ],
      "metadata": {
        "colab": {
          "base_uri": "https://localhost:8080/",
          "height": 331
        },
        "id": "jQf9GlnfHurr",
        "outputId": "b1338e44-a4c0-4511-8f23-2b631e98e7f0"
      },
      "execution_count": 56,
      "outputs": [
        {
          "output_type": "stream",
          "name": "stdout",
          "text": [
            " * sqlite://\n",
            "Done.\n"
          ]
        },
        {
          "output_type": "execute_result",
          "data": {
            "text/plain": [
              "[(1, 'Sidorov', 3, 1, 1, 'IT'),\n",
              " (1, 'Sidorov', 3, 1, 2, 'KIB'),\n",
              " (2, 'Petrov', 3.5, 2, 1, 'IT'),\n",
              " (2, 'Petrov', 3.5, 2, 2, 'KIB'),\n",
              " (3, 'Verikov', 4, 1, 1, 'IT'),\n",
              " (3, 'Verikov', 4, 1, 2, 'KIB'),\n",
              " (4, 'Smith', 4.2, 2, 1, 'IT'),\n",
              " (4, 'Smith', 4.2, 2, 2, 'KIB'),\n",
              " (5, 'Lee', 4.5, 1, 1, 'IT'),\n",
              " (5, 'Lee', 4.5, 1, 2, 'KIB'),\n",
              " (6, 'Vorontsov', 3.2, None, 1, 'IT'),\n",
              " (6, 'Vorontsov', 3.2, None, 2, 'KIB')]"
            ],
            "text/html": [
              "<table>\n",
              "    <thead>\n",
              "        <tr>\n",
              "            <th>id</th>\n",
              "            <th>name</th>\n",
              "            <th>gpa</th>\n",
              "            <th>faculty_id</th>\n",
              "            <th>id_1</th>\n",
              "            <th>name_1</th>\n",
              "        </tr>\n",
              "    </thead>\n",
              "    <tbody>\n",
              "        <tr>\n",
              "            <td>1</td>\n",
              "            <td>Sidorov</td>\n",
              "            <td>3</td>\n",
              "            <td>1</td>\n",
              "            <td>1</td>\n",
              "            <td>IT</td>\n",
              "        </tr>\n",
              "        <tr>\n",
              "            <td>1</td>\n",
              "            <td>Sidorov</td>\n",
              "            <td>3</td>\n",
              "            <td>1</td>\n",
              "            <td>2</td>\n",
              "            <td>KIB</td>\n",
              "        </tr>\n",
              "        <tr>\n",
              "            <td>2</td>\n",
              "            <td>Petrov</td>\n",
              "            <td>3.5</td>\n",
              "            <td>2</td>\n",
              "            <td>1</td>\n",
              "            <td>IT</td>\n",
              "        </tr>\n",
              "        <tr>\n",
              "            <td>2</td>\n",
              "            <td>Petrov</td>\n",
              "            <td>3.5</td>\n",
              "            <td>2</td>\n",
              "            <td>2</td>\n",
              "            <td>KIB</td>\n",
              "        </tr>\n",
              "        <tr>\n",
              "            <td>3</td>\n",
              "            <td>Verikov</td>\n",
              "            <td>4</td>\n",
              "            <td>1</td>\n",
              "            <td>1</td>\n",
              "            <td>IT</td>\n",
              "        </tr>\n",
              "        <tr>\n",
              "            <td>3</td>\n",
              "            <td>Verikov</td>\n",
              "            <td>4</td>\n",
              "            <td>1</td>\n",
              "            <td>2</td>\n",
              "            <td>KIB</td>\n",
              "        </tr>\n",
              "        <tr>\n",
              "            <td>4</td>\n",
              "            <td>Smith</td>\n",
              "            <td>4.2</td>\n",
              "            <td>2</td>\n",
              "            <td>1</td>\n",
              "            <td>IT</td>\n",
              "        </tr>\n",
              "        <tr>\n",
              "            <td>4</td>\n",
              "            <td>Smith</td>\n",
              "            <td>4.2</td>\n",
              "            <td>2</td>\n",
              "            <td>2</td>\n",
              "            <td>KIB</td>\n",
              "        </tr>\n",
              "        <tr>\n",
              "            <td>5</td>\n",
              "            <td>Lee</td>\n",
              "            <td>4.5</td>\n",
              "            <td>1</td>\n",
              "            <td>1</td>\n",
              "            <td>IT</td>\n",
              "        </tr>\n",
              "        <tr>\n",
              "            <td>5</td>\n",
              "            <td>Lee</td>\n",
              "            <td>4.5</td>\n",
              "            <td>1</td>\n",
              "            <td>2</td>\n",
              "            <td>KIB</td>\n",
              "        </tr>\n",
              "        <tr>\n",
              "            <td>6</td>\n",
              "            <td>Vorontsov</td>\n",
              "            <td>3.2</td>\n",
              "            <td>None</td>\n",
              "            <td>1</td>\n",
              "            <td>IT</td>\n",
              "        </tr>\n",
              "        <tr>\n",
              "            <td>6</td>\n",
              "            <td>Vorontsov</td>\n",
              "            <td>3.2</td>\n",
              "            <td>None</td>\n",
              "            <td>2</td>\n",
              "            <td>KIB</td>\n",
              "        </tr>\n",
              "    </tbody>\n",
              "</table>"
            ]
          },
          "metadata": {},
          "execution_count": 56
        }
      ]
    },
    {
      "cell_type": "code",
      "source": [
        "%%sql\n",
        "SELECT * FROM Students s, Faculties f\n",
        "WHERE s.faculty_id = f.id;"
      ],
      "metadata": {
        "colab": {
          "base_uri": "https://localhost:8080/",
          "height": 182
        },
        "id": "mg2SycZbH6eb",
        "outputId": "55a36273-0495-4267-d9d8-47cd7382964b"
      },
      "execution_count": 58,
      "outputs": [
        {
          "output_type": "stream",
          "name": "stdout",
          "text": [
            " * sqlite://\n",
            "Done.\n"
          ]
        },
        {
          "output_type": "execute_result",
          "data": {
            "text/plain": [
              "[(1, 'Sidorov', 3, 1, 1, 'IT'),\n",
              " (2, 'Petrov', 3.5, 2, 2, 'KIB'),\n",
              " (3, 'Verikov', 4, 1, 1, 'IT'),\n",
              " (4, 'Smith', 4.2, 2, 2, 'KIB'),\n",
              " (5, 'Lee', 4.5, 1, 1, 'IT')]"
            ],
            "text/html": [
              "<table>\n",
              "    <thead>\n",
              "        <tr>\n",
              "            <th>id</th>\n",
              "            <th>name</th>\n",
              "            <th>gpa</th>\n",
              "            <th>faculty_id</th>\n",
              "            <th>id_1</th>\n",
              "            <th>name_1</th>\n",
              "        </tr>\n",
              "    </thead>\n",
              "    <tbody>\n",
              "        <tr>\n",
              "            <td>1</td>\n",
              "            <td>Sidorov</td>\n",
              "            <td>3</td>\n",
              "            <td>1</td>\n",
              "            <td>1</td>\n",
              "            <td>IT</td>\n",
              "        </tr>\n",
              "        <tr>\n",
              "            <td>2</td>\n",
              "            <td>Petrov</td>\n",
              "            <td>3.5</td>\n",
              "            <td>2</td>\n",
              "            <td>2</td>\n",
              "            <td>KIB</td>\n",
              "        </tr>\n",
              "        <tr>\n",
              "            <td>3</td>\n",
              "            <td>Verikov</td>\n",
              "            <td>4</td>\n",
              "            <td>1</td>\n",
              "            <td>1</td>\n",
              "            <td>IT</td>\n",
              "        </tr>\n",
              "        <tr>\n",
              "            <td>4</td>\n",
              "            <td>Smith</td>\n",
              "            <td>4.2</td>\n",
              "            <td>2</td>\n",
              "            <td>2</td>\n",
              "            <td>KIB</td>\n",
              "        </tr>\n",
              "        <tr>\n",
              "            <td>5</td>\n",
              "            <td>Lee</td>\n",
              "            <td>4.5</td>\n",
              "            <td>1</td>\n",
              "            <td>1</td>\n",
              "            <td>IT</td>\n",
              "        </tr>\n",
              "    </tbody>\n",
              "</table>"
            ]
          },
          "metadata": {},
          "execution_count": 58
        }
      ]
    },
    {
      "cell_type": "code",
      "metadata": {
        "id": "LWEETwr1olVx",
        "colab": {
          "base_uri": "https://localhost:8080/",
          "height": 182
        },
        "outputId": "16024212-c631-452b-fb13-a8e26ad67136"
      },
      "source": [
        "%%sql\n",
        "SELECT *\n",
        "    FROM Students s\n",
        "JOIN Faculties f\n",
        "ON s.faculty_id = f.id;"
      ],
      "execution_count": 61,
      "outputs": [
        {
          "output_type": "stream",
          "name": "stdout",
          "text": [
            " * sqlite://\n",
            "Done.\n"
          ]
        },
        {
          "output_type": "execute_result",
          "data": {
            "text/plain": [
              "[(1, 'Sidorov', 3, 1, 1, 'IT'),\n",
              " (2, 'Petrov', 3.5, 2, 2, 'KIB'),\n",
              " (3, 'Verikov', 4, 1, 1, 'IT'),\n",
              " (4, 'Smith', 4.2, 2, 2, 'KIB'),\n",
              " (5, 'Lee', 4.5, 1, 1, 'IT')]"
            ],
            "text/html": [
              "<table>\n",
              "    <thead>\n",
              "        <tr>\n",
              "            <th>id</th>\n",
              "            <th>name</th>\n",
              "            <th>gpa</th>\n",
              "            <th>faculty_id</th>\n",
              "            <th>id_1</th>\n",
              "            <th>name_1</th>\n",
              "        </tr>\n",
              "    </thead>\n",
              "    <tbody>\n",
              "        <tr>\n",
              "            <td>1</td>\n",
              "            <td>Sidorov</td>\n",
              "            <td>3</td>\n",
              "            <td>1</td>\n",
              "            <td>1</td>\n",
              "            <td>IT</td>\n",
              "        </tr>\n",
              "        <tr>\n",
              "            <td>2</td>\n",
              "            <td>Petrov</td>\n",
              "            <td>3.5</td>\n",
              "            <td>2</td>\n",
              "            <td>2</td>\n",
              "            <td>KIB</td>\n",
              "        </tr>\n",
              "        <tr>\n",
              "            <td>3</td>\n",
              "            <td>Verikov</td>\n",
              "            <td>4</td>\n",
              "            <td>1</td>\n",
              "            <td>1</td>\n",
              "            <td>IT</td>\n",
              "        </tr>\n",
              "        <tr>\n",
              "            <td>4</td>\n",
              "            <td>Smith</td>\n",
              "            <td>4.2</td>\n",
              "            <td>2</td>\n",
              "            <td>2</td>\n",
              "            <td>KIB</td>\n",
              "        </tr>\n",
              "        <tr>\n",
              "            <td>5</td>\n",
              "            <td>Lee</td>\n",
              "            <td>4.5</td>\n",
              "            <td>1</td>\n",
              "            <td>1</td>\n",
              "            <td>IT</td>\n",
              "        </tr>\n",
              "    </tbody>\n",
              "</table>"
            ]
          },
          "metadata": {},
          "execution_count": 61
        }
      ]
    },
    {
      "cell_type": "code",
      "source": [
        "%%sql\n",
        "SELECT *\n",
        "    FROM Students s\n",
        "JOIN Faculties f;"
      ],
      "metadata": {
        "colab": {
          "base_uri": "https://localhost:8080/",
          "height": 331
        },
        "id": "3ec3TyAFIUe1",
        "outputId": "5844a6a7-258b-4867-d293-8bb8d6d5f6e6"
      },
      "execution_count": 62,
      "outputs": [
        {
          "output_type": "stream",
          "name": "stdout",
          "text": [
            " * sqlite://\n",
            "Done.\n"
          ]
        },
        {
          "output_type": "execute_result",
          "data": {
            "text/plain": [
              "[(1, 'Sidorov', 3, 1, 1, 'IT'),\n",
              " (1, 'Sidorov', 3, 1, 2, 'KIB'),\n",
              " (2, 'Petrov', 3.5, 2, 1, 'IT'),\n",
              " (2, 'Petrov', 3.5, 2, 2, 'KIB'),\n",
              " (3, 'Verikov', 4, 1, 1, 'IT'),\n",
              " (3, 'Verikov', 4, 1, 2, 'KIB'),\n",
              " (4, 'Smith', 4.2, 2, 1, 'IT'),\n",
              " (4, 'Smith', 4.2, 2, 2, 'KIB'),\n",
              " (5, 'Lee', 4.5, 1, 1, 'IT'),\n",
              " (5, 'Lee', 4.5, 1, 2, 'KIB'),\n",
              " (6, 'Vorontsov', 3.2, None, 1, 'IT'),\n",
              " (6, 'Vorontsov', 3.2, None, 2, 'KIB')]"
            ],
            "text/html": [
              "<table>\n",
              "    <thead>\n",
              "        <tr>\n",
              "            <th>id</th>\n",
              "            <th>name</th>\n",
              "            <th>gpa</th>\n",
              "            <th>faculty_id</th>\n",
              "            <th>id_1</th>\n",
              "            <th>name_1</th>\n",
              "        </tr>\n",
              "    </thead>\n",
              "    <tbody>\n",
              "        <tr>\n",
              "            <td>1</td>\n",
              "            <td>Sidorov</td>\n",
              "            <td>3</td>\n",
              "            <td>1</td>\n",
              "            <td>1</td>\n",
              "            <td>IT</td>\n",
              "        </tr>\n",
              "        <tr>\n",
              "            <td>1</td>\n",
              "            <td>Sidorov</td>\n",
              "            <td>3</td>\n",
              "            <td>1</td>\n",
              "            <td>2</td>\n",
              "            <td>KIB</td>\n",
              "        </tr>\n",
              "        <tr>\n",
              "            <td>2</td>\n",
              "            <td>Petrov</td>\n",
              "            <td>3.5</td>\n",
              "            <td>2</td>\n",
              "            <td>1</td>\n",
              "            <td>IT</td>\n",
              "        </tr>\n",
              "        <tr>\n",
              "            <td>2</td>\n",
              "            <td>Petrov</td>\n",
              "            <td>3.5</td>\n",
              "            <td>2</td>\n",
              "            <td>2</td>\n",
              "            <td>KIB</td>\n",
              "        </tr>\n",
              "        <tr>\n",
              "            <td>3</td>\n",
              "            <td>Verikov</td>\n",
              "            <td>4</td>\n",
              "            <td>1</td>\n",
              "            <td>1</td>\n",
              "            <td>IT</td>\n",
              "        </tr>\n",
              "        <tr>\n",
              "            <td>3</td>\n",
              "            <td>Verikov</td>\n",
              "            <td>4</td>\n",
              "            <td>1</td>\n",
              "            <td>2</td>\n",
              "            <td>KIB</td>\n",
              "        </tr>\n",
              "        <tr>\n",
              "            <td>4</td>\n",
              "            <td>Smith</td>\n",
              "            <td>4.2</td>\n",
              "            <td>2</td>\n",
              "            <td>1</td>\n",
              "            <td>IT</td>\n",
              "        </tr>\n",
              "        <tr>\n",
              "            <td>4</td>\n",
              "            <td>Smith</td>\n",
              "            <td>4.2</td>\n",
              "            <td>2</td>\n",
              "            <td>2</td>\n",
              "            <td>KIB</td>\n",
              "        </tr>\n",
              "        <tr>\n",
              "            <td>5</td>\n",
              "            <td>Lee</td>\n",
              "            <td>4.5</td>\n",
              "            <td>1</td>\n",
              "            <td>1</td>\n",
              "            <td>IT</td>\n",
              "        </tr>\n",
              "        <tr>\n",
              "            <td>5</td>\n",
              "            <td>Lee</td>\n",
              "            <td>4.5</td>\n",
              "            <td>1</td>\n",
              "            <td>2</td>\n",
              "            <td>KIB</td>\n",
              "        </tr>\n",
              "        <tr>\n",
              "            <td>6</td>\n",
              "            <td>Vorontsov</td>\n",
              "            <td>3.2</td>\n",
              "            <td>None</td>\n",
              "            <td>1</td>\n",
              "            <td>IT</td>\n",
              "        </tr>\n",
              "        <tr>\n",
              "            <td>6</td>\n",
              "            <td>Vorontsov</td>\n",
              "            <td>3.2</td>\n",
              "            <td>None</td>\n",
              "            <td>2</td>\n",
              "            <td>KIB</td>\n",
              "        </tr>\n",
              "    </tbody>\n",
              "</table>"
            ]
          },
          "metadata": {},
          "execution_count": 62
        }
      ]
    },
    {
      "cell_type": "code",
      "metadata": {
        "id": "Aj7_vd-LolVx",
        "colab": {
          "base_uri": "https://localhost:8080/",
          "height": 203
        },
        "outputId": "aec4c217-e102-422f-be1a-14d2afc397f2"
      },
      "source": [
        "%%sql\n",
        "SELECT * FROM Students;"
      ],
      "execution_count": 38,
      "outputs": [
        {
          "output_type": "stream",
          "name": "stdout",
          "text": [
            " * sqlite://\n",
            "Done.\n"
          ]
        },
        {
          "output_type": "execute_result",
          "data": {
            "text/plain": [
              "[(1, 'Sidorov', 3, 1),\n",
              " (2, 'Petrov', 3.5, 2),\n",
              " (3, 'Verikov', 4, 1),\n",
              " (4, 'Smith', 4.2, 2),\n",
              " (5, 'Lee', 4.5, 1),\n",
              " (6, 'Vorontsov', 3.2, None)]"
            ],
            "text/html": [
              "<table>\n",
              "    <thead>\n",
              "        <tr>\n",
              "            <th>id</th>\n",
              "            <th>name</th>\n",
              "            <th>gpa</th>\n",
              "            <th>faculty_id</th>\n",
              "        </tr>\n",
              "    </thead>\n",
              "    <tbody>\n",
              "        <tr>\n",
              "            <td>1</td>\n",
              "            <td>Sidorov</td>\n",
              "            <td>3</td>\n",
              "            <td>1</td>\n",
              "        </tr>\n",
              "        <tr>\n",
              "            <td>2</td>\n",
              "            <td>Petrov</td>\n",
              "            <td>3.5</td>\n",
              "            <td>2</td>\n",
              "        </tr>\n",
              "        <tr>\n",
              "            <td>3</td>\n",
              "            <td>Verikov</td>\n",
              "            <td>4</td>\n",
              "            <td>1</td>\n",
              "        </tr>\n",
              "        <tr>\n",
              "            <td>4</td>\n",
              "            <td>Smith</td>\n",
              "            <td>4.2</td>\n",
              "            <td>2</td>\n",
              "        </tr>\n",
              "        <tr>\n",
              "            <td>5</td>\n",
              "            <td>Lee</td>\n",
              "            <td>4.5</td>\n",
              "            <td>1</td>\n",
              "        </tr>\n",
              "        <tr>\n",
              "            <td>6</td>\n",
              "            <td>Vorontsov</td>\n",
              "            <td>3.2</td>\n",
              "            <td>None</td>\n",
              "        </tr>\n",
              "    </tbody>\n",
              "</table>"
            ]
          },
          "metadata": {},
          "execution_count": 38
        }
      ]
    },
    {
      "cell_type": "markdown",
      "source": [
        "![joins.png](data:image/png;base64,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)"
      ],
      "metadata": {
        "id": "7gmXTV9RCJbB"
      }
    },
    {
      "cell_type": "code",
      "source": [
        "%%sql\n",
        "SELECT *\n",
        "    FROM Students s\n",
        "NATURAL JOIN Faculties f;"
      ],
      "metadata": {
        "colab": {
          "base_uri": "https://localhost:8080/",
          "height": 75
        },
        "id": "korDbgSEIJPs",
        "outputId": "97576faf-942d-43de-908c-5d68f8a4e693"
      },
      "execution_count": 60,
      "outputs": [
        {
          "output_type": "stream",
          "name": "stdout",
          "text": [
            " * sqlite://\n",
            "Done.\n"
          ]
        },
        {
          "output_type": "execute_result",
          "data": {
            "text/plain": [
              "[]"
            ],
            "text/html": [
              "<table>\n",
              "    <thead>\n",
              "        <tr>\n",
              "            <th>id</th>\n",
              "            <th>name</th>\n",
              "            <th>gpa</th>\n",
              "            <th>faculty_id</th>\n",
              "        </tr>\n",
              "    </thead>\n",
              "    <tbody>\n",
              "    </tbody>\n",
              "</table>"
            ]
          },
          "metadata": {},
          "execution_count": 60
        }
      ]
    },
    {
      "cell_type": "code",
      "metadata": {
        "id": "tVzbnLgMolVy",
        "colab": {
          "base_uri": "https://localhost:8080/",
          "height": 182
        },
        "outputId": "e1e8ae6a-824a-4c0c-9695-487d31895571"
      },
      "source": [
        "%%sql\n",
        "SELECT *\n",
        "    FROM Students s\n",
        "INNER JOIN Faculties f\n",
        "    ON s.faculty_id = f.id;"
      ],
      "execution_count": null,
      "outputs": [
        {
          "output_type": "stream",
          "name": "stdout",
          "text": [
            " * sqlite://\n",
            "Done.\n"
          ]
        },
        {
          "output_type": "execute_result",
          "data": {
            "text/plain": [
              "[(1, 'Sidorov', 3, 1, 1, 'IT'),\n",
              " (2, 'Petrov', 3.5, 2, 2, 'KIB'),\n",
              " (3, 'Verikov', 4, 1, 1, 'IT'),\n",
              " (4, 'Smith', 4.2, 2, 2, 'KIB'),\n",
              " (5, 'Lee', 4.5, 1, 1, 'IT')]"
            ],
            "text/html": [
              "<table>\n",
              "    <thead>\n",
              "        <tr>\n",
              "            <th>id</th>\n",
              "            <th>name</th>\n",
              "            <th>gpa</th>\n",
              "            <th>faculty_id</th>\n",
              "            <th>id_1</th>\n",
              "            <th>name_1</th>\n",
              "        </tr>\n",
              "    </thead>\n",
              "    <tbody>\n",
              "        <tr>\n",
              "            <td>1</td>\n",
              "            <td>Sidorov</td>\n",
              "            <td>3</td>\n",
              "            <td>1</td>\n",
              "            <td>1</td>\n",
              "            <td>IT</td>\n",
              "        </tr>\n",
              "        <tr>\n",
              "            <td>2</td>\n",
              "            <td>Petrov</td>\n",
              "            <td>3.5</td>\n",
              "            <td>2</td>\n",
              "            <td>2</td>\n",
              "            <td>KIB</td>\n",
              "        </tr>\n",
              "        <tr>\n",
              "            <td>3</td>\n",
              "            <td>Verikov</td>\n",
              "            <td>4</td>\n",
              "            <td>1</td>\n",
              "            <td>1</td>\n",
              "            <td>IT</td>\n",
              "        </tr>\n",
              "        <tr>\n",
              "            <td>4</td>\n",
              "            <td>Smith</td>\n",
              "            <td>4.2</td>\n",
              "            <td>2</td>\n",
              "            <td>2</td>\n",
              "            <td>KIB</td>\n",
              "        </tr>\n",
              "        <tr>\n",
              "            <td>5</td>\n",
              "            <td>Lee</td>\n",
              "            <td>4.5</td>\n",
              "            <td>1</td>\n",
              "            <td>1</td>\n",
              "            <td>IT</td>\n",
              "        </tr>\n",
              "    </tbody>\n",
              "</table>"
            ]
          },
          "metadata": {},
          "execution_count": 36
        }
      ]
    },
    {
      "cell_type": "code",
      "metadata": {
        "id": "zgt_9AjaolVy",
        "colab": {
          "base_uri": "https://localhost:8080/",
          "height": 203
        },
        "outputId": "0c353751-7af9-481a-ba89-560ca0e55fed"
      },
      "source": [
        "%%sql\n",
        "SELECT *\n",
        "    FROM Students s\n",
        "LEFT JOIN Faculties f\n",
        "    ON s.faculty_id = f.id;"
      ],
      "execution_count": 39,
      "outputs": [
        {
          "output_type": "stream",
          "name": "stdout",
          "text": [
            " * sqlite://\n",
            "Done.\n"
          ]
        },
        {
          "output_type": "execute_result",
          "data": {
            "text/plain": [
              "[(1, 'Sidorov', 3, 1, 1, 'IT'),\n",
              " (2, 'Petrov', 3.5, 2, 2, 'KIB'),\n",
              " (3, 'Verikov', 4, 1, 1, 'IT'),\n",
              " (4, 'Smith', 4.2, 2, 2, 'KIB'),\n",
              " (5, 'Lee', 4.5, 1, 1, 'IT'),\n",
              " (6, 'Vorontsov', 3.2, None, None, None)]"
            ],
            "text/html": [
              "<table>\n",
              "    <thead>\n",
              "        <tr>\n",
              "            <th>id</th>\n",
              "            <th>name</th>\n",
              "            <th>gpa</th>\n",
              "            <th>faculty_id</th>\n",
              "            <th>id_1</th>\n",
              "            <th>name_1</th>\n",
              "        </tr>\n",
              "    </thead>\n",
              "    <tbody>\n",
              "        <tr>\n",
              "            <td>1</td>\n",
              "            <td>Sidorov</td>\n",
              "            <td>3</td>\n",
              "            <td>1</td>\n",
              "            <td>1</td>\n",
              "            <td>IT</td>\n",
              "        </tr>\n",
              "        <tr>\n",
              "            <td>2</td>\n",
              "            <td>Petrov</td>\n",
              "            <td>3.5</td>\n",
              "            <td>2</td>\n",
              "            <td>2</td>\n",
              "            <td>KIB</td>\n",
              "        </tr>\n",
              "        <tr>\n",
              "            <td>3</td>\n",
              "            <td>Verikov</td>\n",
              "            <td>4</td>\n",
              "            <td>1</td>\n",
              "            <td>1</td>\n",
              "            <td>IT</td>\n",
              "        </tr>\n",
              "        <tr>\n",
              "            <td>4</td>\n",
              "            <td>Smith</td>\n",
              "            <td>4.2</td>\n",
              "            <td>2</td>\n",
              "            <td>2</td>\n",
              "            <td>KIB</td>\n",
              "        </tr>\n",
              "        <tr>\n",
              "            <td>5</td>\n",
              "            <td>Lee</td>\n",
              "            <td>4.5</td>\n",
              "            <td>1</td>\n",
              "            <td>1</td>\n",
              "            <td>IT</td>\n",
              "        </tr>\n",
              "        <tr>\n",
              "            <td>6</td>\n",
              "            <td>Vorontsov</td>\n",
              "            <td>3.2</td>\n",
              "            <td>None</td>\n",
              "            <td>None</td>\n",
              "            <td>None</td>\n",
              "        </tr>\n",
              "    </tbody>\n",
              "</table>"
            ]
          },
          "metadata": {},
          "execution_count": 39
        }
      ]
    },
    {
      "cell_type": "code",
      "metadata": {
        "id": "xh5kKjjLolVy",
        "colab": {
          "base_uri": "https://localhost:8080/"
        },
        "outputId": "fb239e38-210f-43ca-c8bc-779dd57db6fe"
      },
      "source": [
        "%%sql\n",
        "SELECT *\n",
        "    FROM Students s\n",
        "RIGHT OUTER JOIN Faculties F\n",
        "    ON s.faculty_id = f.id;"
      ],
      "execution_count": 41,
      "outputs": [
        {
          "output_type": "stream",
          "name": "stdout",
          "text": [
            " * sqlite://\n",
            "(sqlite3.OperationalError) RIGHT and FULL OUTER JOINs are not currently supported\n",
            "[SQL: SELECT *\n",
            "    FROM Students s\n",
            "RIGHT OUTER JOIN Faculties F\n",
            "    ON s.faculty_id = f.id;]\n",
            "(Background on this error at: https://sqlalche.me/e/20/e3q8)\n"
          ]
        }
      ]
    },
    {
      "cell_type": "code",
      "source": [
        "%%sql\n",
        "\n",
        "SELECT * FROM Students s\n",
        "LEFT OUTER JOIN Faculties f\n",
        "ON s.faculty_id = f.id\n",
        "\n",
        "UNION\n",
        "\n",
        "SELECT * FROM Faculties f\n",
        "LEFT OUTER JOIN Students s\n",
        "ON s.faculty_id = f.id; -- = FULL OUTER"
      ],
      "metadata": {
        "colab": {
          "base_uri": "https://localhost:8080/",
          "height": 310
        },
        "id": "7eHLhnCAFvNH",
        "outputId": "39ce04f8-0fd6-4fdd-dba1-61fd0357f1cc"
      },
      "execution_count": 48,
      "outputs": [
        {
          "output_type": "stream",
          "name": "stdout",
          "text": [
            " * sqlite://\n",
            "Done.\n"
          ]
        },
        {
          "output_type": "execute_result",
          "data": {
            "text/plain": [
              "[(1, 'IT', 1, 'Sidorov', 3, 1),\n",
              " (1, 'IT', 3, 'Verikov', 4, 1),\n",
              " (1, 'IT', 5, 'Lee', 4.5, 1),\n",
              " (1, 'Sidorov', 3, 1, 1, 'IT'),\n",
              " (2, 'KIB', 2, 'Petrov', 3.5, 2),\n",
              " (2, 'KIB', 4, 'Smith', 4.2, 2),\n",
              " (2, 'Petrov', 3.5, 2, 2, 'KIB'),\n",
              " (3, 'Verikov', 4, 1, 1, 'IT'),\n",
              " (4, 'Smith', 4.2, 2, 2, 'KIB'),\n",
              " (5, 'Lee', 4.5, 1, 1, 'IT'),\n",
              " (6, 'Vorontsov', 3.2, None, None, None)]"
            ],
            "text/html": [
              "<table>\n",
              "    <thead>\n",
              "        <tr>\n",
              "            <th>id</th>\n",
              "            <th>name</th>\n",
              "            <th>gpa</th>\n",
              "            <th>faculty_id</th>\n",
              "            <th>id_1</th>\n",
              "            <th>name_1</th>\n",
              "        </tr>\n",
              "    </thead>\n",
              "    <tbody>\n",
              "        <tr>\n",
              "            <td>1</td>\n",
              "            <td>IT</td>\n",
              "            <td>1</td>\n",
              "            <td>Sidorov</td>\n",
              "            <td>3</td>\n",
              "            <td>1</td>\n",
              "        </tr>\n",
              "        <tr>\n",
              "            <td>1</td>\n",
              "            <td>IT</td>\n",
              "            <td>3</td>\n",
              "            <td>Verikov</td>\n",
              "            <td>4</td>\n",
              "            <td>1</td>\n",
              "        </tr>\n",
              "        <tr>\n",
              "            <td>1</td>\n",
              "            <td>IT</td>\n",
              "            <td>5</td>\n",
              "            <td>Lee</td>\n",
              "            <td>4.5</td>\n",
              "            <td>1</td>\n",
              "        </tr>\n",
              "        <tr>\n",
              "            <td>1</td>\n",
              "            <td>Sidorov</td>\n",
              "            <td>3</td>\n",
              "            <td>1</td>\n",
              "            <td>1</td>\n",
              "            <td>IT</td>\n",
              "        </tr>\n",
              "        <tr>\n",
              "            <td>2</td>\n",
              "            <td>KIB</td>\n",
              "            <td>2</td>\n",
              "            <td>Petrov</td>\n",
              "            <td>3.5</td>\n",
              "            <td>2</td>\n",
              "        </tr>\n",
              "        <tr>\n",
              "            <td>2</td>\n",
              "            <td>KIB</td>\n",
              "            <td>4</td>\n",
              "            <td>Smith</td>\n",
              "            <td>4.2</td>\n",
              "            <td>2</td>\n",
              "        </tr>\n",
              "        <tr>\n",
              "            <td>2</td>\n",
              "            <td>Petrov</td>\n",
              "            <td>3.5</td>\n",
              "            <td>2</td>\n",
              "            <td>2</td>\n",
              "            <td>KIB</td>\n",
              "        </tr>\n",
              "        <tr>\n",
              "            <td>3</td>\n",
              "            <td>Verikov</td>\n",
              "            <td>4</td>\n",
              "            <td>1</td>\n",
              "            <td>1</td>\n",
              "            <td>IT</td>\n",
              "        </tr>\n",
              "        <tr>\n",
              "            <td>4</td>\n",
              "            <td>Smith</td>\n",
              "            <td>4.2</td>\n",
              "            <td>2</td>\n",
              "            <td>2</td>\n",
              "            <td>KIB</td>\n",
              "        </tr>\n",
              "        <tr>\n",
              "            <td>5</td>\n",
              "            <td>Lee</td>\n",
              "            <td>4.5</td>\n",
              "            <td>1</td>\n",
              "            <td>1</td>\n",
              "            <td>IT</td>\n",
              "        </tr>\n",
              "        <tr>\n",
              "            <td>6</td>\n",
              "            <td>Vorontsov</td>\n",
              "            <td>3.2</td>\n",
              "            <td>None</td>\n",
              "            <td>None</td>\n",
              "            <td>None</td>\n",
              "        </tr>\n",
              "    </tbody>\n",
              "</table>"
            ]
          },
          "metadata": {},
          "execution_count": 48
        }
      ]
    },
    {
      "cell_type": "code",
      "metadata": {
        "id": "MYmteCRpolVz",
        "colab": {
          "base_uri": "https://localhost:8080/",
          "height": 331
        },
        "outputId": "0919177b-a24c-4f1a-e921-d9af812528fa"
      },
      "source": [
        "%%sql\n",
        "SELECT *\n",
        "    FROM Students s\n",
        "CROSS JOIN Faculties F;"
      ],
      "execution_count": 42,
      "outputs": [
        {
          "output_type": "stream",
          "name": "stdout",
          "text": [
            " * sqlite://\n",
            "Done.\n"
          ]
        },
        {
          "output_type": "execute_result",
          "data": {
            "text/plain": [
              "[(1, 'Sidorov', 3, 1, 1, 'IT'),\n",
              " (1, 'Sidorov', 3, 1, 2, 'KIB'),\n",
              " (2, 'Petrov', 3.5, 2, 1, 'IT'),\n",
              " (2, 'Petrov', 3.5, 2, 2, 'KIB'),\n",
              " (3, 'Verikov', 4, 1, 1, 'IT'),\n",
              " (3, 'Verikov', 4, 1, 2, 'KIB'),\n",
              " (4, 'Smith', 4.2, 2, 1, 'IT'),\n",
              " (4, 'Smith', 4.2, 2, 2, 'KIB'),\n",
              " (5, 'Lee', 4.5, 1, 1, 'IT'),\n",
              " (5, 'Lee', 4.5, 1, 2, 'KIB'),\n",
              " (6, 'Vorontsov', 3.2, None, 1, 'IT'),\n",
              " (6, 'Vorontsov', 3.2, None, 2, 'KIB')]"
            ],
            "text/html": [
              "<table>\n",
              "    <thead>\n",
              "        <tr>\n",
              "            <th>id</th>\n",
              "            <th>name</th>\n",
              "            <th>gpa</th>\n",
              "            <th>faculty_id</th>\n",
              "            <th>id_1</th>\n",
              "            <th>name_1</th>\n",
              "        </tr>\n",
              "    </thead>\n",
              "    <tbody>\n",
              "        <tr>\n",
              "            <td>1</td>\n",
              "            <td>Sidorov</td>\n",
              "            <td>3</td>\n",
              "            <td>1</td>\n",
              "            <td>1</td>\n",
              "            <td>IT</td>\n",
              "        </tr>\n",
              "        <tr>\n",
              "            <td>1</td>\n",
              "            <td>Sidorov</td>\n",
              "            <td>3</td>\n",
              "            <td>1</td>\n",
              "            <td>2</td>\n",
              "            <td>KIB</td>\n",
              "        </tr>\n",
              "        <tr>\n",
              "            <td>2</td>\n",
              "            <td>Petrov</td>\n",
              "            <td>3.5</td>\n",
              "            <td>2</td>\n",
              "            <td>1</td>\n",
              "            <td>IT</td>\n",
              "        </tr>\n",
              "        <tr>\n",
              "            <td>2</td>\n",
              "            <td>Petrov</td>\n",
              "            <td>3.5</td>\n",
              "            <td>2</td>\n",
              "            <td>2</td>\n",
              "            <td>KIB</td>\n",
              "        </tr>\n",
              "        <tr>\n",
              "            <td>3</td>\n",
              "            <td>Verikov</td>\n",
              "            <td>4</td>\n",
              "            <td>1</td>\n",
              "            <td>1</td>\n",
              "            <td>IT</td>\n",
              "        </tr>\n",
              "        <tr>\n",
              "            <td>3</td>\n",
              "            <td>Verikov</td>\n",
              "            <td>4</td>\n",
              "            <td>1</td>\n",
              "            <td>2</td>\n",
              "            <td>KIB</td>\n",
              "        </tr>\n",
              "        <tr>\n",
              "            <td>4</td>\n",
              "            <td>Smith</td>\n",
              "            <td>4.2</td>\n",
              "            <td>2</td>\n",
              "            <td>1</td>\n",
              "            <td>IT</td>\n",
              "        </tr>\n",
              "        <tr>\n",
              "            <td>4</td>\n",
              "            <td>Smith</td>\n",
              "            <td>4.2</td>\n",
              "            <td>2</td>\n",
              "            <td>2</td>\n",
              "            <td>KIB</td>\n",
              "        </tr>\n",
              "        <tr>\n",
              "            <td>5</td>\n",
              "            <td>Lee</td>\n",
              "            <td>4.5</td>\n",
              "            <td>1</td>\n",
              "            <td>1</td>\n",
              "            <td>IT</td>\n",
              "        </tr>\n",
              "        <tr>\n",
              "            <td>5</td>\n",
              "            <td>Lee</td>\n",
              "            <td>4.5</td>\n",
              "            <td>1</td>\n",
              "            <td>2</td>\n",
              "            <td>KIB</td>\n",
              "        </tr>\n",
              "        <tr>\n",
              "            <td>6</td>\n",
              "            <td>Vorontsov</td>\n",
              "            <td>3.2</td>\n",
              "            <td>None</td>\n",
              "            <td>1</td>\n",
              "            <td>IT</td>\n",
              "        </tr>\n",
              "        <tr>\n",
              "            <td>6</td>\n",
              "            <td>Vorontsov</td>\n",
              "            <td>3.2</td>\n",
              "            <td>None</td>\n",
              "            <td>2</td>\n",
              "            <td>KIB</td>\n",
              "        </tr>\n",
              "    </tbody>\n",
              "</table>"
            ]
          },
          "metadata": {},
          "execution_count": 42
        }
      ]
    },
    {
      "cell_type": "code",
      "metadata": {
        "id": "vz3AlKm8olVz",
        "colab": {
          "base_uri": "https://localhost:8080/",
          "height": 118
        },
        "outputId": "8490b042-98ee-42cf-c78d-24d1fef8e89a"
      },
      "source": [
        "%%sql\n",
        "SELECT *\n",
        "    FROM Students s\n",
        "JOIN Faculties F\n",
        "USING (id);"
      ],
      "execution_count": 55,
      "outputs": [
        {
          "output_type": "stream",
          "name": "stdout",
          "text": [
            " * sqlite://\n",
            "Done.\n"
          ]
        },
        {
          "output_type": "execute_result",
          "data": {
            "text/plain": [
              "[(1, 'Sidorov', 3, 1, 'IT'), (2, 'Petrov', 3.5, 2, 'KIB')]"
            ],
            "text/html": [
              "<table>\n",
              "    <thead>\n",
              "        <tr>\n",
              "            <th>id</th>\n",
              "            <th>name</th>\n",
              "            <th>gpa</th>\n",
              "            <th>faculty_id</th>\n",
              "            <th>name_1</th>\n",
              "        </tr>\n",
              "    </thead>\n",
              "    <tbody>\n",
              "        <tr>\n",
              "            <td>1</td>\n",
              "            <td>Sidorov</td>\n",
              "            <td>3</td>\n",
              "            <td>1</td>\n",
              "            <td>IT</td>\n",
              "        </tr>\n",
              "        <tr>\n",
              "            <td>2</td>\n",
              "            <td>Petrov</td>\n",
              "            <td>3.5</td>\n",
              "            <td>2</td>\n",
              "            <td>KIB</td>\n",
              "        </tr>\n",
              "    </tbody>\n",
              "</table>"
            ]
          },
          "metadata": {},
          "execution_count": 55
        }
      ]
    },
    {
      "cell_type": "code",
      "source": [
        "%%sql\n",
        "SELECT *\n",
        "    FROM Students s JOIN Faculties f\n",
        "    ON s.id = f.id;"
      ],
      "metadata": {
        "colab": {
          "base_uri": "https://localhost:8080/",
          "height": 118
        },
        "id": "E_uJXgauHV6j",
        "outputId": "ecf9d110-bb63-4911-8a98-7dd56c21d0c5"
      },
      "execution_count": 54,
      "outputs": [
        {
          "output_type": "stream",
          "name": "stdout",
          "text": [
            " * sqlite://\n",
            "Done.\n"
          ]
        },
        {
          "output_type": "execute_result",
          "data": {
            "text/plain": [
              "[(1, 'Sidorov', 3, 1, 1, 'IT'), (2, 'Petrov', 3.5, 2, 2, 'KIB')]"
            ],
            "text/html": [
              "<table>\n",
              "    <thead>\n",
              "        <tr>\n",
              "            <th>id</th>\n",
              "            <th>name</th>\n",
              "            <th>gpa</th>\n",
              "            <th>faculty_id</th>\n",
              "            <th>id_1</th>\n",
              "            <th>name_1</th>\n",
              "        </tr>\n",
              "    </thead>\n",
              "    <tbody>\n",
              "        <tr>\n",
              "            <td>1</td>\n",
              "            <td>Sidorov</td>\n",
              "            <td>3</td>\n",
              "            <td>1</td>\n",
              "            <td>1</td>\n",
              "            <td>IT</td>\n",
              "        </tr>\n",
              "        <tr>\n",
              "            <td>2</td>\n",
              "            <td>Petrov</td>\n",
              "            <td>3.5</td>\n",
              "            <td>2</td>\n",
              "            <td>2</td>\n",
              "            <td>KIB</td>\n",
              "        </tr>\n",
              "    </tbody>\n",
              "</table>"
            ]
          },
          "metadata": {},
          "execution_count": 54
        }
      ]
    }
  ]
}