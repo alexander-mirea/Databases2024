{
  "nbformat": 4,
  "nbformat_minor": 0,
  "metadata": {
    "colab": {
      "provenance": []
    },
    "kernelspec": {
      "name": "python3",
      "display_name": "Python 3"
    },
    "language_info": {
      "name": "python"
    }
  },
  "cells": [
    {
      "cell_type": "code",
      "execution_count": 1,
      "metadata": {
        "id": "azsvshFe3RJK"
      },
      "outputs": [],
      "source": [
        "%load_ext sql\n",
        "%sql sqlite:///base.db"
      ]
    },
    {
      "cell_type": "markdown",
      "source": [
        "# DDL и DML"
      ],
      "metadata": {
        "id": "ij0qNojQlr8u"
      }
    },
    {
      "cell_type": "markdown",
      "source": [
        "## Создание таблицы"
      ],
      "metadata": {
        "id": "XFva9eJonsfX"
      }
    },
    {
      "cell_type": "code",
      "source": [
        "%%sql\n",
        "DROP TABLE IF EXISTS Products;\n",
        "DROP TABLE IF EXISTS Items;\n",
        "\n",
        "CREATE TABLE Items (\n",
        "          product_id integer PRIMARY KEY,\n",
        "          product_name varchar(20) NOT NULL,\n",
        "          price integer DEFAULT 0\n",
        "          );"
      ],
      "metadata": {
        "id": "Cwy2UBog3SCa",
        "colab": {
          "base_uri": "https://localhost:8080/"
        },
        "outputId": "26ec230e-5c16-471a-86bf-b020a3594bdf"
      },
      "execution_count": 2,
      "outputs": [
        {
          "output_type": "stream",
          "name": "stdout",
          "text": [
            " * sqlite:///base.db\n",
            "Done.\n",
            "Done.\n",
            "Done.\n"
          ]
        },
        {
          "output_type": "execute_result",
          "data": {
            "text/plain": [
              "[]"
            ]
          },
          "metadata": {},
          "execution_count": 2
        }
      ]
    },
    {
      "cell_type": "code",
      "source": [
        "%%sql\n",
        "\n",
        "INSERT INTO Items VALUES (NULL, 'Ноутбук', 35000);\n",
        "INSERT INTO Items VALUES (NULL, 'Микрофон', 5000);\n",
        "INSERT INTO Items VALUES (NULL, 'Смартфон', 42000);\n",
        "INSERT INTO Items VALUES (NULL, 'Телевизор', 18000);\n",
        "INSERT INTO Items (product_name) VALUES ('Монитор');\n",
        "INSERT INTO Items (product_name, price) VALUES ('Смартфон', 42000);\n",
        "INSERT INTO Items (product_name) VALUES ('Ноутбук');"
      ],
      "metadata": {
        "colab": {
          "base_uri": "https://localhost:8080/"
        },
        "id": "fa8BMhGCue-Q",
        "outputId": "f46f2ac9-2979-4306-eb7d-2f20473a1e84"
      },
      "execution_count": 3,
      "outputs": [
        {
          "output_type": "stream",
          "name": "stdout",
          "text": [
            " * sqlite:///base.db\n",
            "1 rows affected.\n",
            "1 rows affected.\n",
            "1 rows affected.\n",
            "1 rows affected.\n",
            "1 rows affected.\n",
            "1 rows affected.\n",
            "1 rows affected.\n"
          ]
        },
        {
          "output_type": "execute_result",
          "data": {
            "text/plain": [
              "[]"
            ]
          },
          "metadata": {},
          "execution_count": 3
        }
      ]
    },
    {
      "cell_type": "code",
      "source": [
        "%%sql\n",
        "SELECT * FROM Items;"
      ],
      "metadata": {
        "colab": {
          "base_uri": "https://localhost:8080/",
          "height": 225
        },
        "id": "BwFg7c5VvkCP",
        "outputId": "e76c9c58-00f0-4604-ec89-cdf570786e9b"
      },
      "execution_count": 4,
      "outputs": [
        {
          "output_type": "stream",
          "name": "stdout",
          "text": [
            " * sqlite:///base.db\n",
            "Done.\n"
          ]
        },
        {
          "output_type": "execute_result",
          "data": {
            "text/plain": [
              "[(1, 'Ноутбук', 35000),\n",
              " (2, 'Микрофон', 5000),\n",
              " (3, 'Смартфон', 42000),\n",
              " (4, 'Телевизор', 18000),\n",
              " (5, 'Монитор', 0),\n",
              " (6, 'Смартфон', 42000),\n",
              " (7, 'Ноутбук', 0)]"
            ],
            "text/html": [
              "<table>\n",
              "    <thead>\n",
              "        <tr>\n",
              "            <th>product_id</th>\n",
              "            <th>product_name</th>\n",
              "            <th>price</th>\n",
              "        </tr>\n",
              "    </thead>\n",
              "    <tbody>\n",
              "        <tr>\n",
              "            <td>1</td>\n",
              "            <td>Ноутбук</td>\n",
              "            <td>35000</td>\n",
              "        </tr>\n",
              "        <tr>\n",
              "            <td>2</td>\n",
              "            <td>Микрофон</td>\n",
              "            <td>5000</td>\n",
              "        </tr>\n",
              "        <tr>\n",
              "            <td>3</td>\n",
              "            <td>Смартфон</td>\n",
              "            <td>42000</td>\n",
              "        </tr>\n",
              "        <tr>\n",
              "            <td>4</td>\n",
              "            <td>Телевизор</td>\n",
              "            <td>18000</td>\n",
              "        </tr>\n",
              "        <tr>\n",
              "            <td>5</td>\n",
              "            <td>Монитор</td>\n",
              "            <td>0</td>\n",
              "        </tr>\n",
              "        <tr>\n",
              "            <td>6</td>\n",
              "            <td>Смартфон</td>\n",
              "            <td>42000</td>\n",
              "        </tr>\n",
              "        <tr>\n",
              "            <td>7</td>\n",
              "            <td>Ноутбук</td>\n",
              "            <td>0</td>\n",
              "        </tr>\n",
              "    </tbody>\n",
              "</table>"
            ]
          },
          "metadata": {},
          "execution_count": 4
        }
      ]
    },
    {
      "cell_type": "markdown",
      "source": [
        "## Внесение изменений в схему данных"
      ],
      "metadata": {
        "id": "i4fxkcGcm6sf"
      }
    },
    {
      "cell_type": "code",
      "source": [
        "%%sql\n",
        "PRAGMA table_info(Items);"
      ],
      "metadata": {
        "id": "1pbsG1z63rQ0",
        "colab": {
          "base_uri": "https://localhost:8080/",
          "height": 139
        },
        "outputId": "8ceb653f-d249-4556-dd11-c3f283b1fec4"
      },
      "execution_count": 5,
      "outputs": [
        {
          "output_type": "stream",
          "name": "stdout",
          "text": [
            " * sqlite:///base.db\n",
            "Done.\n"
          ]
        },
        {
          "output_type": "execute_result",
          "data": {
            "text/plain": [
              "[(0, 'product_id', 'INTEGER', 0, None, 1),\n",
              " (1, 'product_name', 'varchar(20)', 1, None, 0),\n",
              " (2, 'price', 'INTEGER', 0, '0', 0)]"
            ],
            "text/html": [
              "<table>\n",
              "    <thead>\n",
              "        <tr>\n",
              "            <th>cid</th>\n",
              "            <th>name</th>\n",
              "            <th>type</th>\n",
              "            <th>notnull</th>\n",
              "            <th>dflt_value</th>\n",
              "            <th>pk</th>\n",
              "        </tr>\n",
              "    </thead>\n",
              "    <tbody>\n",
              "        <tr>\n",
              "            <td>0</td>\n",
              "            <td>product_id</td>\n",
              "            <td>INTEGER</td>\n",
              "            <td>0</td>\n",
              "            <td>None</td>\n",
              "            <td>1</td>\n",
              "        </tr>\n",
              "        <tr>\n",
              "            <td>1</td>\n",
              "            <td>product_name</td>\n",
              "            <td>varchar(20)</td>\n",
              "            <td>1</td>\n",
              "            <td>None</td>\n",
              "            <td>0</td>\n",
              "        </tr>\n",
              "        <tr>\n",
              "            <td>2</td>\n",
              "            <td>price</td>\n",
              "            <td>INTEGER</td>\n",
              "            <td>0</td>\n",
              "            <td>0</td>\n",
              "            <td>0</td>\n",
              "        </tr>\n",
              "    </tbody>\n",
              "</table>"
            ]
          },
          "metadata": {},
          "execution_count": 5
        }
      ]
    },
    {
      "cell_type": "markdown",
      "source": [
        "Для изменения описания объектов существует команда ALTER (или delete -> create, но вы теряете данные)"
      ],
      "metadata": {
        "id": "C6kG_eV3nLpp"
      }
    },
    {
      "cell_type": "markdown",
      "source": [
        "ALTER TABLE\n",
        "\n",
        "![image.png](data:image/png;base64,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)"
      ],
      "metadata": {
        "id": "b2VTChlp8ShU"
      }
    },
    {
      "cell_type": "markdown",
      "source": [
        "**Переименование таблицы**"
      ],
      "metadata": {
        "id": "jjfx3MADzCjv"
      }
    },
    {
      "cell_type": "code",
      "source": [
        "%%sql\n",
        "ALTER TABLE Items RENAME TO Products;"
      ],
      "metadata": {
        "colab": {
          "base_uri": "https://localhost:8080/"
        },
        "id": "NBigY4xywKff",
        "outputId": "80af6152-6389-4ce3-8aed-72ed46fc0fbe"
      },
      "execution_count": 6,
      "outputs": [
        {
          "output_type": "stream",
          "name": "stdout",
          "text": [
            " * sqlite:///base.db\n",
            "Done.\n"
          ]
        },
        {
          "output_type": "execute_result",
          "data": {
            "text/plain": [
              "[]"
            ]
          },
          "metadata": {},
          "execution_count": 6
        }
      ]
    },
    {
      "cell_type": "code",
      "source": [
        "%%sql\n",
        "SELECT * FROM Items;"
      ],
      "metadata": {
        "id": "CXEmyKjX9MyT",
        "colab": {
          "base_uri": "https://localhost:8080/"
        },
        "outputId": "d8eb5401-9bcf-49c6-da2e-67c5cb9603b6"
      },
      "execution_count": 7,
      "outputs": [
        {
          "output_type": "stream",
          "name": "stdout",
          "text": [
            " * sqlite:///base.db\n",
            "(sqlite3.OperationalError) no such table: Items\n",
            "[SQL: SELECT * FROM Items;]\n",
            "(Background on this error at: https://sqlalche.me/e/20/e3q8)\n"
          ]
        }
      ]
    },
    {
      "cell_type": "markdown",
      "source": [
        "**Добавление столбца**"
      ],
      "metadata": {
        "id": "toN9PgHYzIGF"
      }
    },
    {
      "cell_type": "code",
      "source": [
        "%%sql\n",
        "ALTER TABLE Products ADD COLUMN manufacturer varchar(20) DEFAULT \"не указан\";"
      ],
      "metadata": {
        "id": "N-7EEY0M8ZeF",
        "colab": {
          "base_uri": "https://localhost:8080/"
        },
        "outputId": "3b5bf207-40fc-4b16-ec21-5a9df138764a"
      },
      "execution_count": 8,
      "outputs": [
        {
          "output_type": "stream",
          "name": "stdout",
          "text": [
            " * sqlite:///base.db\n",
            "Done.\n"
          ]
        },
        {
          "output_type": "execute_result",
          "data": {
            "text/plain": [
              "[]"
            ]
          },
          "metadata": {},
          "execution_count": 8
        }
      ]
    },
    {
      "cell_type": "code",
      "source": [
        "%%sql\n",
        "PRAGMA table_info(Products);"
      ],
      "metadata": {
        "colab": {
          "base_uri": "https://localhost:8080/",
          "height": 161
        },
        "id": "oiQ1_hp3wrB_",
        "outputId": "fdca9790-1502-44a2-b3e4-e1de3778d2b7"
      },
      "execution_count": 9,
      "outputs": [
        {
          "output_type": "stream",
          "name": "stdout",
          "text": [
            " * sqlite:///base.db\n",
            "Done.\n"
          ]
        },
        {
          "output_type": "execute_result",
          "data": {
            "text/plain": [
              "[(0, 'product_id', 'INTEGER', 0, None, 1),\n",
              " (1, 'product_name', 'varchar(20)', 1, None, 0),\n",
              " (2, 'price', 'INTEGER', 0, '0', 0),\n",
              " (3, 'manufacturer', 'varchar(20)', 0, '\"не указан\"', 0)]"
            ],
            "text/html": [
              "<table>\n",
              "    <thead>\n",
              "        <tr>\n",
              "            <th>cid</th>\n",
              "            <th>name</th>\n",
              "            <th>type</th>\n",
              "            <th>notnull</th>\n",
              "            <th>dflt_value</th>\n",
              "            <th>pk</th>\n",
              "        </tr>\n",
              "    </thead>\n",
              "    <tbody>\n",
              "        <tr>\n",
              "            <td>0</td>\n",
              "            <td>product_id</td>\n",
              "            <td>INTEGER</td>\n",
              "            <td>0</td>\n",
              "            <td>None</td>\n",
              "            <td>1</td>\n",
              "        </tr>\n",
              "        <tr>\n",
              "            <td>1</td>\n",
              "            <td>product_name</td>\n",
              "            <td>varchar(20)</td>\n",
              "            <td>1</td>\n",
              "            <td>None</td>\n",
              "            <td>0</td>\n",
              "        </tr>\n",
              "        <tr>\n",
              "            <td>2</td>\n",
              "            <td>price</td>\n",
              "            <td>INTEGER</td>\n",
              "            <td>0</td>\n",
              "            <td>0</td>\n",
              "            <td>0</td>\n",
              "        </tr>\n",
              "        <tr>\n",
              "            <td>3</td>\n",
              "            <td>manufacturer</td>\n",
              "            <td>varchar(20)</td>\n",
              "            <td>0</td>\n",
              "            <td>&quot;не указан&quot;</td>\n",
              "            <td>0</td>\n",
              "        </tr>\n",
              "    </tbody>\n",
              "</table>"
            ]
          },
          "metadata": {},
          "execution_count": 9
        }
      ]
    },
    {
      "cell_type": "code",
      "source": [
        "%%sql\n",
        "SELECT * FROM Products;"
      ],
      "metadata": {
        "id": "sBjcCA4WBLEt",
        "colab": {
          "base_uri": "https://localhost:8080/",
          "height": 225
        },
        "outputId": "5ae197c0-87cc-406c-88b4-6504e528a0f2"
      },
      "execution_count": 10,
      "outputs": [
        {
          "output_type": "stream",
          "name": "stdout",
          "text": [
            " * sqlite:///base.db\n",
            "Done.\n"
          ]
        },
        {
          "output_type": "execute_result",
          "data": {
            "text/plain": [
              "[(1, 'Ноутбук', 35000, 'не указан'),\n",
              " (2, 'Микрофон', 5000, 'не указан'),\n",
              " (3, 'Смартфон', 42000, 'не указан'),\n",
              " (4, 'Телевизор', 18000, 'не указан'),\n",
              " (5, 'Монитор', 0, 'не указан'),\n",
              " (6, 'Смартфон', 42000, 'не указан'),\n",
              " (7, 'Ноутбук', 0, 'не указан')]"
            ],
            "text/html": [
              "<table>\n",
              "    <thead>\n",
              "        <tr>\n",
              "            <th>product_id</th>\n",
              "            <th>product_name</th>\n",
              "            <th>price</th>\n",
              "            <th>manufacturer</th>\n",
              "        </tr>\n",
              "    </thead>\n",
              "    <tbody>\n",
              "        <tr>\n",
              "            <td>1</td>\n",
              "            <td>Ноутбук</td>\n",
              "            <td>35000</td>\n",
              "            <td>не указан</td>\n",
              "        </tr>\n",
              "        <tr>\n",
              "            <td>2</td>\n",
              "            <td>Микрофон</td>\n",
              "            <td>5000</td>\n",
              "            <td>не указан</td>\n",
              "        </tr>\n",
              "        <tr>\n",
              "            <td>3</td>\n",
              "            <td>Смартфон</td>\n",
              "            <td>42000</td>\n",
              "            <td>не указан</td>\n",
              "        </tr>\n",
              "        <tr>\n",
              "            <td>4</td>\n",
              "            <td>Телевизор</td>\n",
              "            <td>18000</td>\n",
              "            <td>не указан</td>\n",
              "        </tr>\n",
              "        <tr>\n",
              "            <td>5</td>\n",
              "            <td>Монитор</td>\n",
              "            <td>0</td>\n",
              "            <td>не указан</td>\n",
              "        </tr>\n",
              "        <tr>\n",
              "            <td>6</td>\n",
              "            <td>Смартфон</td>\n",
              "            <td>42000</td>\n",
              "            <td>не указан</td>\n",
              "        </tr>\n",
              "        <tr>\n",
              "            <td>7</td>\n",
              "            <td>Ноутбук</td>\n",
              "            <td>0</td>\n",
              "            <td>не указан</td>\n",
              "        </tr>\n",
              "    </tbody>\n",
              "</table>"
            ]
          },
          "metadata": {},
          "execution_count": 10
        }
      ]
    },
    {
      "cell_type": "markdown",
      "source": [
        "**Переименовать столбец в таблице**\n",
        "\n",
        "<s>Нельзя использовать оператор ALTER TABLE для переименования столбца в SQLite. Вместо этого нужно переименовать таблицу, создать новую таблицу и скопировать данные в новую таблицу.</s>\n",
        "\n",
        "Теперь можно :)"
      ],
      "metadata": {
        "id": "_teMUG8_B24r"
      }
    },
    {
      "cell_type": "code",
      "source": [
        "%%sql\n",
        "ALTER TABLE Products RENAME COLUMN product_id TO id;\n",
        "ALTER TABLE Products RENAME COLUMN product_name TO pname;"
      ],
      "metadata": {
        "colab": {
          "base_uri": "https://localhost:8080/"
        },
        "id": "g76WQdJZyCcX",
        "outputId": "b409e007-0294-417d-9d35-54254b8bd9d5"
      },
      "execution_count": 11,
      "outputs": [
        {
          "output_type": "stream",
          "name": "stdout",
          "text": [
            " * sqlite:///base.db\n",
            "Done.\n",
            "Done.\n"
          ]
        },
        {
          "output_type": "execute_result",
          "data": {
            "text/plain": [
              "[]"
            ]
          },
          "metadata": {},
          "execution_count": 11
        }
      ]
    },
    {
      "cell_type": "markdown",
      "source": [
        "**Удалить столбец**"
      ],
      "metadata": {
        "id": "LCB7w02K3QPn"
      }
    },
    {
      "cell_type": "code",
      "source": [
        "%%sql\n",
        "ALTER TABLE Products DROP COLUMN manufacturer;"
      ],
      "metadata": {
        "colab": {
          "base_uri": "https://localhost:8080/"
        },
        "id": "4IwqY6V53Iwv",
        "outputId": "6af46d2b-a12b-4cd6-a734-75411782fa36"
      },
      "execution_count": 12,
      "outputs": [
        {
          "output_type": "stream",
          "name": "stdout",
          "text": [
            " * sqlite:///base.db\n",
            "Done.\n"
          ]
        },
        {
          "output_type": "execute_result",
          "data": {
            "text/plain": [
              "[]"
            ]
          },
          "metadata": {},
          "execution_count": 12
        }
      ]
    },
    {
      "cell_type": "code",
      "source": [
        "%%sql\n",
        "ALTER TABLE Products DROP COLUMN id;\n",
        "\n",
        "-- поменять первичный ключ (как и любые свойства таблицы - в SQlite напрямую нельзя)"
      ],
      "metadata": {
        "id": "1DEM-BiacBmd",
        "colab": {
          "base_uri": "https://localhost:8080/"
        },
        "outputId": "58f861d9-1d0c-478b-d4fe-72e0f15da014"
      },
      "execution_count": 13,
      "outputs": [
        {
          "output_type": "stream",
          "name": "stdout",
          "text": [
            " * sqlite:///base.db\n",
            "(sqlite3.OperationalError) cannot drop PRIMARY KEY column: \"id\"\n",
            "[SQL: ALTER TABLE Products DROP COLUMN id;]\n",
            "(Background on this error at: https://sqlalche.me/e/20/e3q8)\n"
          ]
        }
      ]
    },
    {
      "cell_type": "code",
      "source": [
        "%%sql\n",
        "SELECT * FROM Products;"
      ],
      "metadata": {
        "colab": {
          "base_uri": "https://localhost:8080/",
          "height": 225
        },
        "id": "bTfUOnXV5NP2",
        "outputId": "2bea5548-c6ae-4229-d6fc-2823895e589d"
      },
      "execution_count": 14,
      "outputs": [
        {
          "output_type": "stream",
          "name": "stdout",
          "text": [
            " * sqlite:///base.db\n",
            "Done.\n"
          ]
        },
        {
          "output_type": "execute_result",
          "data": {
            "text/plain": [
              "[(1, 'Ноутбук', 35000),\n",
              " (2, 'Микрофон', 5000),\n",
              " (3, 'Смартфон', 42000),\n",
              " (4, 'Телевизор', 18000),\n",
              " (5, 'Монитор', 0),\n",
              " (6, 'Смартфон', 42000),\n",
              " (7, 'Ноутбук', 0)]"
            ],
            "text/html": [
              "<table>\n",
              "    <thead>\n",
              "        <tr>\n",
              "            <th>id</th>\n",
              "            <th>pname</th>\n",
              "            <th>price</th>\n",
              "        </tr>\n",
              "    </thead>\n",
              "    <tbody>\n",
              "        <tr>\n",
              "            <td>1</td>\n",
              "            <td>Ноутбук</td>\n",
              "            <td>35000</td>\n",
              "        </tr>\n",
              "        <tr>\n",
              "            <td>2</td>\n",
              "            <td>Микрофон</td>\n",
              "            <td>5000</td>\n",
              "        </tr>\n",
              "        <tr>\n",
              "            <td>3</td>\n",
              "            <td>Смартфон</td>\n",
              "            <td>42000</td>\n",
              "        </tr>\n",
              "        <tr>\n",
              "            <td>4</td>\n",
              "            <td>Телевизор</td>\n",
              "            <td>18000</td>\n",
              "        </tr>\n",
              "        <tr>\n",
              "            <td>5</td>\n",
              "            <td>Монитор</td>\n",
              "            <td>0</td>\n",
              "        </tr>\n",
              "        <tr>\n",
              "            <td>6</td>\n",
              "            <td>Смартфон</td>\n",
              "            <td>42000</td>\n",
              "        </tr>\n",
              "        <tr>\n",
              "            <td>7</td>\n",
              "            <td>Ноутбук</td>\n",
              "            <td>0</td>\n",
              "        </tr>\n",
              "    </tbody>\n",
              "</table>"
            ]
          },
          "metadata": {},
          "execution_count": 14
        }
      ]
    },
    {
      "cell_type": "markdown",
      "source": [
        "**Поменять свойства или тип данных столбца**"
      ],
      "metadata": {
        "id": "2PPvTDbb5ccX"
      }
    },
    {
      "cell_type": "code",
      "source": [
        "%%sql\n",
        "SELECT * FROM sqlite_master;"
      ],
      "metadata": {
        "colab": {
          "base_uri": "https://localhost:8080/",
          "height": 166
        },
        "id": "onC11TCX52g-",
        "outputId": "fd191f15-32d3-4470-c4e0-a4611bb00217"
      },
      "execution_count": 15,
      "outputs": [
        {
          "output_type": "stream",
          "name": "stdout",
          "text": [
            " * sqlite:///base.db\n",
            "Done.\n"
          ]
        },
        {
          "output_type": "execute_result",
          "data": {
            "text/plain": [
              "[('table', 'Products', 'Products', 2, 'CREATE TABLE \"Products\" (\\n          id integer PRIMARY KEY,\\n          pname varchar(20) NOT NULL,\\n          price integer DEFAULT 0\\n          )')]"
            ],
            "text/html": [
              "<table>\n",
              "    <thead>\n",
              "        <tr>\n",
              "            <th>type</th>\n",
              "            <th>name</th>\n",
              "            <th>tbl_name</th>\n",
              "            <th>rootpage</th>\n",
              "            <th>sql</th>\n",
              "        </tr>\n",
              "    </thead>\n",
              "    <tbody>\n",
              "        <tr>\n",
              "            <td>table</td>\n",
              "            <td>Products</td>\n",
              "            <td>Products</td>\n",
              "            <td>2</td>\n",
              "            <td>CREATE TABLE &quot;Products&quot; (<br>          id integer PRIMARY KEY,<br>          pname varchar(20) NOT NULL,<br>          price integer DEFAULT 0<br>          )</td>\n",
              "        </tr>\n",
              "    </tbody>\n",
              "</table>"
            ]
          },
          "metadata": {},
          "execution_count": 15
        }
      ]
    },
    {
      "cell_type": "code",
      "source": [
        "%%sql\n",
        "SELECT MIN(price) FROM Products;"
      ],
      "metadata": {
        "colab": {
          "base_uri": "https://localhost:8080/",
          "height": 96
        },
        "id": "_QS4AqlP81uY",
        "outputId": "8dda5a27-2002-4a66-acf2-51a8a87eea19"
      },
      "execution_count": 16,
      "outputs": [
        {
          "output_type": "stream",
          "name": "stdout",
          "text": [
            " * sqlite:///base.db\n",
            "Done.\n"
          ]
        },
        {
          "output_type": "execute_result",
          "data": {
            "text/plain": [
              "[(0,)]"
            ],
            "text/html": [
              "<table>\n",
              "    <thead>\n",
              "        <tr>\n",
              "            <th>MIN(price)</th>\n",
              "        </tr>\n",
              "    </thead>\n",
              "    <tbody>\n",
              "        <tr>\n",
              "            <td>0</td>\n",
              "        </tr>\n",
              "    </tbody>\n",
              "</table>"
            ]
          },
          "metadata": {},
          "execution_count": 16
        }
      ]
    },
    {
      "cell_type": "markdown",
      "source": [
        "Нельзя использовать оператор ALTER TABLE для изменения свойств столбца в SQLite. Вместо этого нужно переименовать таблицу, создать новую таблицу и скопировать данные в новую таблицу."
      ],
      "metadata": {
        "id": "62qhzI4Z7CJH"
      }
    },
    {
      "cell_type": "code",
      "source": [
        "%%sql\n",
        "\n",
        "PRAGMA foreign_keys=off; -- Первый этап - отключение внешних ключей\n",
        "\n",
        "CREATE TABLE _Products_new (\n",
        "  id integer PRIMARY KEY,\n",
        "  pname varchar(20) NOT NULL,\n",
        "  price decimal(10,2) --NOT NULL\n",
        "  );\n",
        "\n",
        "INSERT INTO _Products_new\n",
        "  SELECT *\n",
        "  FROM Products;\n",
        "\n",
        "DROP TABLE Products;\n",
        "\n",
        "ALTER TABLE _Products_new RENAME TO Products;\n",
        "\n",
        "PRAGMA foreign_keys=on;"
      ],
      "metadata": {
        "colab": {
          "base_uri": "https://localhost:8080/"
        },
        "id": "TeHJCq1x5i1P",
        "outputId": "d458474c-d4a5-4114-a590-761d218b64a3"
      },
      "execution_count": 17,
      "outputs": [
        {
          "output_type": "stream",
          "name": "stdout",
          "text": [
            " * sqlite:///base.db\n",
            "Done.\n",
            "Done.\n",
            "7 rows affected.\n",
            "Done.\n",
            "Done.\n",
            "Done.\n"
          ]
        },
        {
          "output_type": "execute_result",
          "data": {
            "text/plain": [
              "[]"
            ]
          },
          "metadata": {},
          "execution_count": 17
        }
      ]
    },
    {
      "cell_type": "code",
      "source": [
        "%%sql\n",
        "INSERT INTO Products (pname) VALUES ('Монитор');\n",
        "SELECT * FROM Products;"
      ],
      "metadata": {
        "colab": {
          "base_uri": "https://localhost:8080/",
          "height": 263
        },
        "id": "0dgDZ7eX8sSB",
        "outputId": "ab6ed240-3006-4816-f83c-baa9918248e6"
      },
      "execution_count": 18,
      "outputs": [
        {
          "output_type": "stream",
          "name": "stdout",
          "text": [
            " * sqlite:///base.db\n",
            "1 rows affected.\n",
            "Done.\n"
          ]
        },
        {
          "output_type": "execute_result",
          "data": {
            "text/plain": [
              "[(1, 'Ноутбук', 35000),\n",
              " (2, 'Микрофон', 5000),\n",
              " (3, 'Смартфон', 42000),\n",
              " (4, 'Телевизор', 18000),\n",
              " (5, 'Монитор', 0),\n",
              " (6, 'Смартфон', 42000),\n",
              " (7, 'Ноутбук', 0),\n",
              " (8, 'Монитор', None)]"
            ],
            "text/html": [
              "<table>\n",
              "    <thead>\n",
              "        <tr>\n",
              "            <th>id</th>\n",
              "            <th>pname</th>\n",
              "            <th>price</th>\n",
              "        </tr>\n",
              "    </thead>\n",
              "    <tbody>\n",
              "        <tr>\n",
              "            <td>1</td>\n",
              "            <td>Ноутбук</td>\n",
              "            <td>35000</td>\n",
              "        </tr>\n",
              "        <tr>\n",
              "            <td>2</td>\n",
              "            <td>Микрофон</td>\n",
              "            <td>5000</td>\n",
              "        </tr>\n",
              "        <tr>\n",
              "            <td>3</td>\n",
              "            <td>Смартфон</td>\n",
              "            <td>42000</td>\n",
              "        </tr>\n",
              "        <tr>\n",
              "            <td>4</td>\n",
              "            <td>Телевизор</td>\n",
              "            <td>18000</td>\n",
              "        </tr>\n",
              "        <tr>\n",
              "            <td>5</td>\n",
              "            <td>Монитор</td>\n",
              "            <td>0</td>\n",
              "        </tr>\n",
              "        <tr>\n",
              "            <td>6</td>\n",
              "            <td>Смартфон</td>\n",
              "            <td>42000</td>\n",
              "        </tr>\n",
              "        <tr>\n",
              "            <td>7</td>\n",
              "            <td>Ноутбук</td>\n",
              "            <td>0</td>\n",
              "        </tr>\n",
              "        <tr>\n",
              "            <td>8</td>\n",
              "            <td>Монитор</td>\n",
              "            <td>None</td>\n",
              "        </tr>\n",
              "    </tbody>\n",
              "</table>"
            ]
          },
          "metadata": {},
          "execution_count": 18
        }
      ]
    },
    {
      "cell_type": "markdown",
      "source": [
        "## Изменение данных в таблице (DML)"
      ],
      "metadata": {
        "id": "WW2aWUGS_bSy"
      }
    },
    {
      "cell_type": "markdown",
      "source": [
        "UPDATE & DELETE"
      ],
      "metadata": {
        "id": "jdgvG1CG90QJ"
      }
    },
    {
      "cell_type": "code",
      "source": [
        "%%sql\n",
        "UPDATE Products SET price = 37999, pname = 'Телевизор' WHERE id = 5;"
      ],
      "metadata": {
        "id": "AUtrZnhSjrT6",
        "colab": {
          "base_uri": "https://localhost:8080/"
        },
        "outputId": "7db4b86c-5c48-4d00-e6ff-19a94679dac4"
      },
      "execution_count": 19,
      "outputs": [
        {
          "output_type": "stream",
          "name": "stdout",
          "text": [
            " * sqlite:///base.db\n",
            "1 rows affected.\n"
          ]
        },
        {
          "output_type": "execute_result",
          "data": {
            "text/plain": [
              "[]"
            ]
          },
          "metadata": {},
          "execution_count": 19
        }
      ]
    },
    {
      "cell_type": "code",
      "source": [
        "%%sql\n",
        "UPDATE Products SET (price, pname) = (40000, 'Ноутбук') WHERE id = 8;\n",
        "-- не рекомендуется"
      ],
      "metadata": {
        "colab": {
          "base_uri": "https://localhost:8080/"
        },
        "id": "Eb1LjMu5KZmB",
        "outputId": "88d01519-8679-4c26-c2ac-4694ab4e8e26"
      },
      "execution_count": 20,
      "outputs": [
        {
          "output_type": "stream",
          "name": "stdout",
          "text": [
            " * sqlite:///base.db\n",
            "1 rows affected.\n",
            "Done.\n"
          ]
        },
        {
          "output_type": "execute_result",
          "data": {
            "text/plain": [
              "[]"
            ]
          },
          "metadata": {},
          "execution_count": 20
        }
      ]
    },
    {
      "cell_type": "code",
      "source": [
        "%%sql\n",
        "UPDATE Products SET price = price + 24000 WHERE pname = 'Ноутбук';"
      ],
      "metadata": {
        "id": "yjTNwPvT_a76",
        "colab": {
          "base_uri": "https://localhost:8080/"
        },
        "outputId": "ea3039df-2579-401d-8875-6ecb81f8b2d8"
      },
      "execution_count": 22,
      "outputs": [
        {
          "output_type": "stream",
          "name": "stdout",
          "text": [
            " * sqlite:///base.db\n",
            "3 rows affected.\n"
          ]
        },
        {
          "output_type": "execute_result",
          "data": {
            "text/plain": [
              "[]"
            ]
          },
          "metadata": {},
          "execution_count": 22
        }
      ]
    },
    {
      "cell_type": "code",
      "source": [
        "%%sql\n",
        "SELECT * FROM Products;"
      ],
      "metadata": {
        "id": "HROlmqfIAdJ5",
        "colab": {
          "base_uri": "https://localhost:8080/",
          "height": 246
        },
        "outputId": "a6474876-6d8a-4f34-de82-c3c61cd27798"
      },
      "execution_count": 23,
      "outputs": [
        {
          "output_type": "stream",
          "name": "stdout",
          "text": [
            " * sqlite:///base.db\n",
            "Done.\n"
          ]
        },
        {
          "output_type": "execute_result",
          "data": {
            "text/plain": [
              "[(1, 'Ноутбук', 59000),\n",
              " (2, 'Микрофон', 5000),\n",
              " (3, 'Смартфон', 42000),\n",
              " (4, 'Телевизор', 18000),\n",
              " (5, 'Телевизор', 37999),\n",
              " (6, 'Смартфон', 42000),\n",
              " (7, 'Ноутбук', 24000),\n",
              " (8, 'Ноутбук', 64000)]"
            ],
            "text/html": [
              "<table>\n",
              "    <thead>\n",
              "        <tr>\n",
              "            <th>id</th>\n",
              "            <th>pname</th>\n",
              "            <th>price</th>\n",
              "        </tr>\n",
              "    </thead>\n",
              "    <tbody>\n",
              "        <tr>\n",
              "            <td>1</td>\n",
              "            <td>Ноутбук</td>\n",
              "            <td>59000</td>\n",
              "        </tr>\n",
              "        <tr>\n",
              "            <td>2</td>\n",
              "            <td>Микрофон</td>\n",
              "            <td>5000</td>\n",
              "        </tr>\n",
              "        <tr>\n",
              "            <td>3</td>\n",
              "            <td>Смартфон</td>\n",
              "            <td>42000</td>\n",
              "        </tr>\n",
              "        <tr>\n",
              "            <td>4</td>\n",
              "            <td>Телевизор</td>\n",
              "            <td>18000</td>\n",
              "        </tr>\n",
              "        <tr>\n",
              "            <td>5</td>\n",
              "            <td>Телевизор</td>\n",
              "            <td>37999</td>\n",
              "        </tr>\n",
              "        <tr>\n",
              "            <td>6</td>\n",
              "            <td>Смартфон</td>\n",
              "            <td>42000</td>\n",
              "        </tr>\n",
              "        <tr>\n",
              "            <td>7</td>\n",
              "            <td>Ноутбук</td>\n",
              "            <td>24000</td>\n",
              "        </tr>\n",
              "        <tr>\n",
              "            <td>8</td>\n",
              "            <td>Ноутбук</td>\n",
              "            <td>64000</td>\n",
              "        </tr>\n",
              "    </tbody>\n",
              "</table>"
            ]
          },
          "metadata": {},
          "execution_count": 23
        }
      ]
    },
    {
      "cell_type": "code",
      "source": [
        "%%sql\n",
        "DELETE FROM Products WHERE price < 1000;"
      ],
      "metadata": {
        "id": "oGWm0h9nAh25",
        "colab": {
          "base_uri": "https://localhost:8080/"
        },
        "outputId": "0dc964ff-1698-4148-9ac1-ea622a8f9085"
      },
      "execution_count": 24,
      "outputs": [
        {
          "output_type": "stream",
          "name": "stdout",
          "text": [
            " * sqlite:///base.db\n",
            "0 rows affected.\n"
          ]
        },
        {
          "output_type": "execute_result",
          "data": {
            "text/plain": [
              "[]"
            ]
          },
          "metadata": {},
          "execution_count": 24
        }
      ]
    },
    {
      "cell_type": "code",
      "source": [
        "%%sql\n",
        "SELECT MIN(price) FROM Products;"
      ],
      "metadata": {
        "colab": {
          "base_uri": "https://localhost:8080/",
          "height": 96
        },
        "id": "4CthtEGk_HHy",
        "outputId": "d2864f01-d083-4599-b860-c62ccc1d81dd"
      },
      "execution_count": 25,
      "outputs": [
        {
          "output_type": "stream",
          "name": "stdout",
          "text": [
            " * sqlite:///base.db\n",
            "Done.\n"
          ]
        },
        {
          "output_type": "execute_result",
          "data": {
            "text/plain": [
              "[(5000,)]"
            ],
            "text/html": [
              "<table>\n",
              "    <thead>\n",
              "        <tr>\n",
              "            <th>MIN(price)</th>\n",
              "        </tr>\n",
              "    </thead>\n",
              "    <tbody>\n",
              "        <tr>\n",
              "            <td>5000</td>\n",
              "        </tr>\n",
              "    </tbody>\n",
              "</table>"
            ]
          },
          "metadata": {},
          "execution_count": 25
        }
      ]
    },
    {
      "cell_type": "markdown",
      "source": [
        "Не забывайте про WHERE (иначе будет больно)"
      ],
      "metadata": {
        "id": "lHhXbwz5Kwr9"
      }
    },
    {
      "cell_type": "code",
      "source": [
        "%%sql\n",
        "UPDATE Products SET price = 37999;"
      ],
      "metadata": {
        "colab": {
          "base_uri": "https://localhost:8080/"
        },
        "id": "3LBC_09IMyAd",
        "outputId": "f004f942-5771-478c-92fb-ac2a081d6b05"
      },
      "execution_count": 26,
      "outputs": [
        {
          "output_type": "stream",
          "name": "stdout",
          "text": [
            " * sqlite:///base.db\n",
            "8 rows affected.\n"
          ]
        },
        {
          "output_type": "execute_result",
          "data": {
            "text/plain": [
              "[]"
            ]
          },
          "metadata": {},
          "execution_count": 26
        }
      ]
    },
    {
      "cell_type": "code",
      "source": [
        "%%sql\n",
        "SELECT * FROM Products;"
      ],
      "metadata": {
        "colab": {
          "base_uri": "https://localhost:8080/",
          "height": 246
        },
        "id": "IPlvUBzMM2QV",
        "outputId": "73f0c723-6450-43c7-aca5-340aae57473d"
      },
      "execution_count": 27,
      "outputs": [
        {
          "output_type": "stream",
          "name": "stdout",
          "text": [
            " * sqlite:///base.db\n",
            "Done.\n"
          ]
        },
        {
          "output_type": "execute_result",
          "data": {
            "text/plain": [
              "[(1, 'Ноутбук', 37999),\n",
              " (2, 'Микрофон', 37999),\n",
              " (3, 'Смартфон', 37999),\n",
              " (4, 'Телевизор', 37999),\n",
              " (5, 'Телевизор', 37999),\n",
              " (6, 'Смартфон', 37999),\n",
              " (7, 'Ноутбук', 37999),\n",
              " (8, 'Ноутбук', 37999)]"
            ],
            "text/html": [
              "<table>\n",
              "    <thead>\n",
              "        <tr>\n",
              "            <th>id</th>\n",
              "            <th>pname</th>\n",
              "            <th>price</th>\n",
              "        </tr>\n",
              "    </thead>\n",
              "    <tbody>\n",
              "        <tr>\n",
              "            <td>1</td>\n",
              "            <td>Ноутбук</td>\n",
              "            <td>37999</td>\n",
              "        </tr>\n",
              "        <tr>\n",
              "            <td>2</td>\n",
              "            <td>Микрофон</td>\n",
              "            <td>37999</td>\n",
              "        </tr>\n",
              "        <tr>\n",
              "            <td>3</td>\n",
              "            <td>Смартфон</td>\n",
              "            <td>37999</td>\n",
              "        </tr>\n",
              "        <tr>\n",
              "            <td>4</td>\n",
              "            <td>Телевизор</td>\n",
              "            <td>37999</td>\n",
              "        </tr>\n",
              "        <tr>\n",
              "            <td>5</td>\n",
              "            <td>Телевизор</td>\n",
              "            <td>37999</td>\n",
              "        </tr>\n",
              "        <tr>\n",
              "            <td>6</td>\n",
              "            <td>Смартфон</td>\n",
              "            <td>37999</td>\n",
              "        </tr>\n",
              "        <tr>\n",
              "            <td>7</td>\n",
              "            <td>Ноутбук</td>\n",
              "            <td>37999</td>\n",
              "        </tr>\n",
              "        <tr>\n",
              "            <td>8</td>\n",
              "            <td>Ноутбук</td>\n",
              "            <td>37999</td>\n",
              "        </tr>\n",
              "    </tbody>\n",
              "</table>"
            ]
          },
          "metadata": {},
          "execution_count": 27
        }
      ]
    },
    {
      "cell_type": "code",
      "source": [
        "%%sql\n",
        "DELETE FROM Products;"
      ],
      "metadata": {
        "colab": {
          "base_uri": "https://localhost:8080/"
        },
        "id": "tmHAL-A_M34g",
        "outputId": "cbdf5199-b76c-4090-90cc-e05731ac7dca"
      },
      "execution_count": 28,
      "outputs": [
        {
          "output_type": "stream",
          "name": "stdout",
          "text": [
            " * sqlite:///base.db\n",
            "8 rows affected.\n"
          ]
        },
        {
          "output_type": "execute_result",
          "data": {
            "text/plain": [
              "[]"
            ]
          },
          "metadata": {},
          "execution_count": 28
        }
      ]
    },
    {
      "cell_type": "markdown",
      "source": [
        "## Удаление таблицы и внешние ключи"
      ],
      "metadata": {
        "id": "Vw6t-ckD49hn"
      }
    },
    {
      "cell_type": "markdown",
      "source": [
        "DROP TABLE\n",
        "\n",
        "Необратимая процедура - применять очень осторожно!"
      ],
      "metadata": {
        "id": "OHi9P3gO_Y7i"
      }
    },
    {
      "cell_type": "markdown",
      "source": [
        "Ограничения внешних ключей делятся на 2 операции:\n",
        "\n",
        "ON DELETE и ON UPDATE:\n",
        "\n",
        "* RESTRICT - запрет удаления/изменения\n",
        "* CASCADE - автоматически удаляет/изменяет строки из дочерней таблицы при удалении или изменении связанных строк во внешней таблице\n",
        "* SET NULL - устанавливает значение NULL в связанных строках при удалении/изменении\n",
        "* SET DEFAULT - значение по умолчанию (только на update)\n",
        "* NO ACTION - то же, что и RESTRICT"
      ],
      "metadata": {
        "id": "tqcZ-NqgJ0A0"
      }
    },
    {
      "cell_type": "code",
      "source": [
        "%%sql\n",
        "\n",
        "PRAGMA foreign_keys=on;\n",
        "\n",
        "DROP TABLE IF EXISTS Invoices;\n",
        "DROP TABLE IF EXISTS Products;\n",
        "DROP TABLE IF EXISTS Brands;\n",
        "\n",
        "CREATE TABLE Brands (\n",
        "          id integer PRIMARY KEY,\n",
        "          bname varchar(20) NOT NULL,\n",
        "          country varchar(20) NOT NULL\n",
        "          );\n",
        "\n",
        "CREATE TABLE Products (\n",
        "          id integer PRIMARY KEY,\n",
        "          pname varchar(20) NOT NULL,\n",
        "          brand_id integer NOT NULL,\n",
        "          price decimal(10,2) NOT NULL,\n",
        "          FOREIGN KEY (brand_id) REFERENCES Brands\n",
        "          ON DELETE NO ACTION ON UPDATE NO ACTION\n",
        "          );\n",
        "\n",
        "CREATE TABLE Invoices (\n",
        "          id integer PRIMARY KEY,\n",
        "          prod_id integer NOT NULL,\n",
        "          date datetime NOT NULL,\n",
        "          FOREIGN KEY (prod_id) REFERENCES Products(id)\n",
        "          ON DELETE RESTRICT ON UPDATE RESTRICT\n",
        "          );"
      ],
      "metadata": {
        "id": "_8srdCbajr6S",
        "colab": {
          "base_uri": "https://localhost:8080/"
        },
        "outputId": "c606f66a-02a5-450b-db08-3c79325800b7"
      },
      "execution_count": 29,
      "outputs": [
        {
          "output_type": "stream",
          "name": "stdout",
          "text": [
            " * sqlite:///base.db\n",
            "Done.\n",
            "Done.\n",
            "Done.\n",
            "Done.\n",
            "Done.\n",
            "Done.\n",
            "Done.\n"
          ]
        },
        {
          "output_type": "execute_result",
          "data": {
            "text/plain": [
              "[]"
            ]
          },
          "metadata": {},
          "execution_count": 29
        }
      ]
    },
    {
      "cell_type": "code",
      "source": [
        "%%sql\n",
        "\n",
        "INSERT INTO Brands VALUES (1, 'LG', 'Южная Корея');\n",
        "INSERT INTO Brands VALUES (2, 'Xiaomi', 'Китай');\n",
        "INSERT INTO Brands VALUES (3, 'Fifine', 'Китай');\n",
        "INSERT INTO Brands VALUES (4, 'Apple', 'США');\n",
        "\n",
        "INSERT INTO Products VALUES (1, 'Ноутбук', 1, 45000);\n",
        "INSERT INTO Products VALUES (2, 'Микрофон', 3, 5200);\n",
        "INSERT INTO Products VALUES (3, 'Смартфон', 2, 22000);\n",
        "INSERT INTO Products VALUES (4, 'Телевизор', 1, 28999);\n",
        "INSERT INTO Products VALUES (5, 'Телевизор', 2, 21000);\n",
        "INSERT INTO Products VALUES (6, 'Смартфон', 4, 74999);\n",
        "INSERT INTO Products VALUES (7, 'Ноутбук', 4, 135000);\n",
        "\n",
        "INSERT INTO Invoices VALUES (NULL, 1, date('now', '-8 day'));\n",
        "INSERT INTO Invoices VALUES (NULL, 3, date('now', '-6 day'));\n",
        "INSERT INTO Invoices VALUES (NULL, 4, date('now', '-4 day'));\n",
        "INSERT INTO Invoices VALUES (NULL, 1, date('now', '-3 day'));\n",
        "INSERT INTO Invoices VALUES (NULL, 2, date('now', '-2 day'));\n",
        "INSERT INTO Invoices VALUES (NULL, 7, date('now'));"
      ],
      "metadata": {
        "colab": {
          "base_uri": "https://localhost:8080/"
        },
        "id": "AJ3sMBaAPib8",
        "outputId": "108cf574-db6f-4a92-b66c-5674dfd8ef09"
      },
      "execution_count": 41,
      "outputs": [
        {
          "output_type": "stream",
          "name": "stdout",
          "text": [
            " * sqlite:///base.db\n",
            "1 rows affected.\n",
            "1 rows affected.\n",
            "1 rows affected.\n",
            "1 rows affected.\n",
            "1 rows affected.\n",
            "1 rows affected.\n",
            "1 rows affected.\n",
            "1 rows affected.\n",
            "1 rows affected.\n",
            "1 rows affected.\n",
            "1 rows affected.\n",
            "1 rows affected.\n",
            "1 rows affected.\n",
            "1 rows affected.\n",
            "1 rows affected.\n",
            "1 rows affected.\n",
            "1 rows affected.\n"
          ]
        },
        {
          "output_type": "execute_result",
          "data": {
            "text/plain": [
              "[]"
            ]
          },
          "metadata": {},
          "execution_count": 41
        }
      ]
    },
    {
      "cell_type": "code",
      "source": [
        "%%sql\n",
        "SELECT Invoices.id, pname, price, bname, country, date FROM Invoices\n",
        "    JOIN Products ON Invoices.prod_id = Products.id\n",
        "    JOIN Brands ON Products.brand_id = Brands.id;"
      ],
      "metadata": {
        "colab": {
          "base_uri": "https://localhost:8080/",
          "height": 203
        },
        "id": "Sp2GCW9_R4Zv",
        "outputId": "77e3004a-89e2-4de1-f5a9-cfc01f9266bf"
      },
      "execution_count": 31,
      "outputs": [
        {
          "output_type": "stream",
          "name": "stdout",
          "text": [
            " * sqlite:///base.db\n",
            "Done.\n"
          ]
        },
        {
          "output_type": "execute_result",
          "data": {
            "text/plain": [
              "[(1, 'Ноутбук', 45000, 'LG', 'Южная Корея', '2024-10-21'),\n",
              " (2, 'Смартфон', 22000, 'Xiaomi', 'Китай', '2024-10-23'),\n",
              " (3, 'Телевизор', 28999, 'LG', 'Южная Корея', '2024-10-25'),\n",
              " (4, 'Ноутбук', 45000, 'LG', 'Южная Корея', '2024-10-26'),\n",
              " (5, 'Микрофон', 5200, 'Fifine', 'Китай', '2024-10-27'),\n",
              " (6, 'Ноутбук', 135000, 'Apple', 'США', '2024-10-29')]"
            ],
            "text/html": [
              "<table>\n",
              "    <thead>\n",
              "        <tr>\n",
              "            <th>id</th>\n",
              "            <th>pname</th>\n",
              "            <th>price</th>\n",
              "            <th>bname</th>\n",
              "            <th>country</th>\n",
              "            <th>date</th>\n",
              "        </tr>\n",
              "    </thead>\n",
              "    <tbody>\n",
              "        <tr>\n",
              "            <td>1</td>\n",
              "            <td>Ноутбук</td>\n",
              "            <td>45000</td>\n",
              "            <td>LG</td>\n",
              "            <td>Южная Корея</td>\n",
              "            <td>2024-10-21</td>\n",
              "        </tr>\n",
              "        <tr>\n",
              "            <td>2</td>\n",
              "            <td>Смартфон</td>\n",
              "            <td>22000</td>\n",
              "            <td>Xiaomi</td>\n",
              "            <td>Китай</td>\n",
              "            <td>2024-10-23</td>\n",
              "        </tr>\n",
              "        <tr>\n",
              "            <td>3</td>\n",
              "            <td>Телевизор</td>\n",
              "            <td>28999</td>\n",
              "            <td>LG</td>\n",
              "            <td>Южная Корея</td>\n",
              "            <td>2024-10-25</td>\n",
              "        </tr>\n",
              "        <tr>\n",
              "            <td>4</td>\n",
              "            <td>Ноутбук</td>\n",
              "            <td>45000</td>\n",
              "            <td>LG</td>\n",
              "            <td>Южная Корея</td>\n",
              "            <td>2024-10-26</td>\n",
              "        </tr>\n",
              "        <tr>\n",
              "            <td>5</td>\n",
              "            <td>Микрофон</td>\n",
              "            <td>5200</td>\n",
              "            <td>Fifine</td>\n",
              "            <td>Китай</td>\n",
              "            <td>2024-10-27</td>\n",
              "        </tr>\n",
              "        <tr>\n",
              "            <td>6</td>\n",
              "            <td>Ноутбук</td>\n",
              "            <td>135000</td>\n",
              "            <td>Apple</td>\n",
              "            <td>США</td>\n",
              "            <td>2024-10-29</td>\n",
              "        </tr>\n",
              "    </tbody>\n",
              "</table>"
            ]
          },
          "metadata": {},
          "execution_count": 31
        }
      ]
    },
    {
      "cell_type": "code",
      "source": [
        "%%sql\n",
        "ALTER TABLE Invoices DROP FOREIGN KEY prod_id;"
      ],
      "metadata": {
        "colab": {
          "base_uri": "https://localhost:8080/"
        },
        "id": "azNytNNtErmD",
        "outputId": "6a045c21-80a1-4f8d-d991-2d269a4e2902"
      },
      "execution_count": 32,
      "outputs": [
        {
          "output_type": "stream",
          "name": "stdout",
          "text": [
            " * sqlite:///base.db\n",
            "(sqlite3.OperationalError) near \"FOREIGN\": syntax error\n",
            "[SQL: ALTER TABLE Invoices DROP FOREIGN KEY prod_id;]\n",
            "(Background on this error at: https://sqlalche.me/e/20/e3q8)\n"
          ]
        }
      ]
    },
    {
      "cell_type": "code",
      "source": [
        "%%sql\n",
        "DROP TABLE Brands;"
      ],
      "metadata": {
        "colab": {
          "base_uri": "https://localhost:8080/"
        },
        "id": "dUgXePbzTLyt",
        "outputId": "2ffc6f04-d7ea-4dab-ea56-92f5dff642aa"
      },
      "execution_count": 33,
      "outputs": [
        {
          "output_type": "stream",
          "name": "stdout",
          "text": [
            " * sqlite:///base.db\n",
            "(sqlite3.IntegrityError) FOREIGN KEY constraint failed\n",
            "[SQL: DROP TABLE Brands;]\n",
            "(Background on this error at: https://sqlalche.me/e/20/gkpj)\n"
          ]
        }
      ]
    },
    {
      "cell_type": "code",
      "source": [
        "%%sql\n",
        "DELETE FROM Products WHERE price > 100000;"
      ],
      "metadata": {
        "colab": {
          "base_uri": "https://localhost:8080/"
        },
        "id": "2CoPrmKcTUzP",
        "outputId": "f135e231-b189-4d78-b6cc-065572970524"
      },
      "execution_count": 34,
      "outputs": [
        {
          "output_type": "stream",
          "name": "stdout",
          "text": [
            " * sqlite:///base.db\n",
            "(sqlite3.IntegrityError) FOREIGN KEY constraint failed\n",
            "[SQL: DELETE FROM Products WHERE price > 100000;]\n",
            "(Background on this error at: https://sqlalche.me/e/20/gkpj)\n"
          ]
        }
      ]
    },
    {
      "cell_type": "code",
      "source": [
        "%%sql\n",
        "UPDATE Brands SET id = 9 where id = 1;"
      ],
      "metadata": {
        "colab": {
          "base_uri": "https://localhost:8080/"
        },
        "id": "du65i10FTd8X",
        "outputId": "cdb6bdab-abc1-4018-dc9e-f79ba4d5d01d"
      },
      "execution_count": 36,
      "outputs": [
        {
          "output_type": "stream",
          "name": "stdout",
          "text": [
            " * sqlite:///base.db\n",
            "(sqlite3.IntegrityError) FOREIGN KEY constraint failed\n",
            "[SQL: UPDATE Brands SET id = 9 where id = 1;]\n",
            "(Background on this error at: https://sqlalche.me/e/20/gkpj)\n"
          ]
        }
      ]
    },
    {
      "cell_type": "code",
      "source": [
        "%%sql\n",
        "DELETE FROM Products WHERE id = 5; -- этого товара не было в заказах"
      ],
      "metadata": {
        "colab": {
          "base_uri": "https://localhost:8080/"
        },
        "id": "WEZhffxhd2jt",
        "outputId": "dddfbc3c-4ebe-47f5-9d01-4cb5b56e1bdc"
      },
      "execution_count": 37,
      "outputs": [
        {
          "output_type": "stream",
          "name": "stdout",
          "text": [
            " * sqlite:///base.db\n",
            "1 rows affected.\n"
          ]
        },
        {
          "output_type": "execute_result",
          "data": {
            "text/plain": [
              "[]"
            ]
          },
          "metadata": {},
          "execution_count": 37
        }
      ]
    },
    {
      "cell_type": "code",
      "source": [
        "%%sql\n",
        "\n",
        "PRAGMA foreign_keys=on;\n",
        "\n",
        "DROP TABLE IF EXISTS Invoices;\n",
        "DROP TABLE IF EXISTS Products;\n",
        "DROP TABLE IF EXISTS Brands;\n",
        "\n",
        "CREATE TABLE Brands (\n",
        "          id integer PRIMARY KEY,\n",
        "          bname varchar(20) NOT NULL,\n",
        "          country varchar(20) NOT NULL\n",
        "          );\n",
        "\n",
        "CREATE TABLE Products (\n",
        "          id integer PRIMARY KEY,\n",
        "          pname varchar(20) NOT NULL,\n",
        "          brand_id integer,                       --нельзя not null\n",
        "          price decimal(10,2) NOT NULL,\n",
        "          FOREIGN KEY (brand_id) REFERENCES Brands\n",
        "          ON DELETE SET NULL ON UPDATE SET NULL   --меняем свойства\n",
        "          );\n",
        "\n",
        "CREATE TABLE Invoices (\n",
        "          id integer PRIMARY KEY,\n",
        "          prod_id integer NOT NULL,\n",
        "          date datetime NOT NULL,\n",
        "          FOREIGN KEY (prod_id) REFERENCES Products(id)\n",
        "          ON DELETE CASCADE ON UPDATE CASCADE   --меняем свойства\n",
        "          );"
      ],
      "metadata": {
        "colab": {
          "base_uri": "https://localhost:8080/"
        },
        "id": "5RbLC9cvWnuu",
        "outputId": "0bcfa499-8d32-403a-f824-7a43f09d301b"
      },
      "execution_count": 40,
      "outputs": [
        {
          "output_type": "stream",
          "name": "stdout",
          "text": [
            " * sqlite:///base.db\n",
            "Done.\n",
            "Done.\n",
            "Done.\n",
            "Done.\n",
            "Done.\n",
            "Done.\n",
            "Done.\n"
          ]
        },
        {
          "output_type": "execute_result",
          "data": {
            "text/plain": [
              "[]"
            ]
          },
          "metadata": {},
          "execution_count": 40
        }
      ]
    },
    {
      "cell_type": "code",
      "source": [
        "%%sql\n",
        "SELECT * FROM Brands;"
      ],
      "metadata": {
        "colab": {
          "base_uri": "https://localhost:8080/",
          "height": 161
        },
        "id": "HcqNBIbuYBhT",
        "outputId": "378e3626-bb16-457d-bfc1-f49dc0a7faa2"
      },
      "execution_count": 42,
      "outputs": [
        {
          "output_type": "stream",
          "name": "stdout",
          "text": [
            " * sqlite:///base.db\n",
            "Done.\n"
          ]
        },
        {
          "output_type": "execute_result",
          "data": {
            "text/plain": [
              "[(1, 'LG', 'Южная Корея'),\n",
              " (2, 'Xiaomi', 'Китай'),\n",
              " (3, 'Fifine', 'Китай'),\n",
              " (4, 'Apple', 'США')]"
            ],
            "text/html": [
              "<table>\n",
              "    <thead>\n",
              "        <tr>\n",
              "            <th>id</th>\n",
              "            <th>bname</th>\n",
              "            <th>country</th>\n",
              "        </tr>\n",
              "    </thead>\n",
              "    <tbody>\n",
              "        <tr>\n",
              "            <td>1</td>\n",
              "            <td>LG</td>\n",
              "            <td>Южная Корея</td>\n",
              "        </tr>\n",
              "        <tr>\n",
              "            <td>2</td>\n",
              "            <td>Xiaomi</td>\n",
              "            <td>Китай</td>\n",
              "        </tr>\n",
              "        <tr>\n",
              "            <td>3</td>\n",
              "            <td>Fifine</td>\n",
              "            <td>Китай</td>\n",
              "        </tr>\n",
              "        <tr>\n",
              "            <td>4</td>\n",
              "            <td>Apple</td>\n",
              "            <td>США</td>\n",
              "        </tr>\n",
              "    </tbody>\n",
              "</table>"
            ]
          },
          "metadata": {},
          "execution_count": 42
        }
      ]
    },
    {
      "cell_type": "code",
      "source": [
        "%%sql\n",
        "DELETE FROM Brands WHERE id = 3;"
      ],
      "metadata": {
        "colab": {
          "base_uri": "https://localhost:8080/"
        },
        "id": "RJ039UDSW542",
        "outputId": "a5aa139a-ca02-4631-c6be-39ad662bbb45"
      },
      "execution_count": 43,
      "outputs": [
        {
          "output_type": "stream",
          "name": "stdout",
          "text": [
            " * sqlite:///base.db\n",
            "1 rows affected.\n"
          ]
        },
        {
          "output_type": "execute_result",
          "data": {
            "text/plain": [
              "[]"
            ]
          },
          "metadata": {},
          "execution_count": 43
        }
      ]
    },
    {
      "cell_type": "code",
      "source": [
        "%%sql\n",
        "UPDATE Brands SET id = 6 where id = 1;"
      ],
      "metadata": {
        "colab": {
          "base_uri": "https://localhost:8080/"
        },
        "id": "M1CfVd_QXvoD",
        "outputId": "4395f254-09c6-4bd1-84ec-72be588912b4"
      },
      "execution_count": 44,
      "outputs": [
        {
          "output_type": "stream",
          "name": "stdout",
          "text": [
            " * sqlite:///base.db\n",
            "1 rows affected.\n"
          ]
        },
        {
          "output_type": "execute_result",
          "data": {
            "text/plain": [
              "[]"
            ]
          },
          "metadata": {},
          "execution_count": 44
        }
      ]
    },
    {
      "cell_type": "code",
      "source": [
        "%%sql\n",
        "SELECT * FROM Products;"
      ],
      "metadata": {
        "colab": {
          "base_uri": "https://localhost:8080/",
          "height": 225
        },
        "id": "zemwCP07XlGC",
        "outputId": "725eee7c-200b-44a3-d256-8c736a107c91"
      },
      "execution_count": 45,
      "outputs": [
        {
          "output_type": "stream",
          "name": "stdout",
          "text": [
            " * sqlite:///base.db\n",
            "Done.\n"
          ]
        },
        {
          "output_type": "execute_result",
          "data": {
            "text/plain": [
              "[(1, 'Ноутбук', None, 45000),\n",
              " (2, 'Микрофон', None, 5200),\n",
              " (3, 'Смартфон', 2, 22000),\n",
              " (4, 'Телевизор', None, 28999),\n",
              " (5, 'Телевизор', 2, 21000),\n",
              " (6, 'Смартфон', 4, 74999),\n",
              " (7, 'Ноутбук', 4, 135000)]"
            ],
            "text/html": [
              "<table>\n",
              "    <thead>\n",
              "        <tr>\n",
              "            <th>id</th>\n",
              "            <th>pname</th>\n",
              "            <th>brand_id</th>\n",
              "            <th>price</th>\n",
              "        </tr>\n",
              "    </thead>\n",
              "    <tbody>\n",
              "        <tr>\n",
              "            <td>1</td>\n",
              "            <td>Ноутбук</td>\n",
              "            <td>None</td>\n",
              "            <td>45000</td>\n",
              "        </tr>\n",
              "        <tr>\n",
              "            <td>2</td>\n",
              "            <td>Микрофон</td>\n",
              "            <td>None</td>\n",
              "            <td>5200</td>\n",
              "        </tr>\n",
              "        <tr>\n",
              "            <td>3</td>\n",
              "            <td>Смартфон</td>\n",
              "            <td>2</td>\n",
              "            <td>22000</td>\n",
              "        </tr>\n",
              "        <tr>\n",
              "            <td>4</td>\n",
              "            <td>Телевизор</td>\n",
              "            <td>None</td>\n",
              "            <td>28999</td>\n",
              "        </tr>\n",
              "        <tr>\n",
              "            <td>5</td>\n",
              "            <td>Телевизор</td>\n",
              "            <td>2</td>\n",
              "            <td>21000</td>\n",
              "        </tr>\n",
              "        <tr>\n",
              "            <td>6</td>\n",
              "            <td>Смартфон</td>\n",
              "            <td>4</td>\n",
              "            <td>74999</td>\n",
              "        </tr>\n",
              "        <tr>\n",
              "            <td>7</td>\n",
              "            <td>Ноутбук</td>\n",
              "            <td>4</td>\n",
              "            <td>135000</td>\n",
              "        </tr>\n",
              "    </tbody>\n",
              "</table>"
            ]
          },
          "metadata": {},
          "execution_count": 45
        }
      ]
    },
    {
      "cell_type": "code",
      "source": [
        "%%sql\n",
        "DELETE FROM Products WHERE id = 1;"
      ],
      "metadata": {
        "colab": {
          "base_uri": "https://localhost:8080/"
        },
        "id": "cPXkuyv7XsoJ",
        "outputId": "b94232a1-1914-45b1-f120-19bf2b2f2a49"
      },
      "execution_count": 46,
      "outputs": [
        {
          "output_type": "stream",
          "name": "stdout",
          "text": [
            " * sqlite:///base.db\n",
            "1 rows affected.\n"
          ]
        },
        {
          "output_type": "execute_result",
          "data": {
            "text/plain": [
              "[]"
            ]
          },
          "metadata": {},
          "execution_count": 46
        }
      ]
    },
    {
      "cell_type": "code",
      "source": [
        "%%sql\n",
        "SELECT * FROM Invoices;"
      ],
      "metadata": {
        "colab": {
          "base_uri": "https://localhost:8080/",
          "height": 161
        },
        "id": "4i51JWkjYgFp",
        "outputId": "a9295762-c29f-43b6-ebd0-121d64ea08d9"
      },
      "execution_count": 49,
      "outputs": [
        {
          "output_type": "stream",
          "name": "stdout",
          "text": [
            " * sqlite:///base.db\n",
            "Done.\n"
          ]
        },
        {
          "output_type": "execute_result",
          "data": {
            "text/plain": [
              "[(2, 10, '2024-10-23'),\n",
              " (3, 4, '2024-10-25'),\n",
              " (5, 2, '2024-10-27'),\n",
              " (6, 7, '2024-10-29')]"
            ],
            "text/html": [
              "<table>\n",
              "    <thead>\n",
              "        <tr>\n",
              "            <th>id</th>\n",
              "            <th>prod_id</th>\n",
              "            <th>date</th>\n",
              "        </tr>\n",
              "    </thead>\n",
              "    <tbody>\n",
              "        <tr>\n",
              "            <td>2</td>\n",
              "            <td>10</td>\n",
              "            <td>2024-10-23</td>\n",
              "        </tr>\n",
              "        <tr>\n",
              "            <td>3</td>\n",
              "            <td>4</td>\n",
              "            <td>2024-10-25</td>\n",
              "        </tr>\n",
              "        <tr>\n",
              "            <td>5</td>\n",
              "            <td>2</td>\n",
              "            <td>2024-10-27</td>\n",
              "        </tr>\n",
              "        <tr>\n",
              "            <td>6</td>\n",
              "            <td>7</td>\n",
              "            <td>2024-10-29</td>\n",
              "        </tr>\n",
              "    </tbody>\n",
              "</table>"
            ]
          },
          "metadata": {},
          "execution_count": 49
        }
      ]
    },
    {
      "cell_type": "code",
      "source": [
        "%%sql\n",
        "UPDATE Products SET id = 10 where id = 3;"
      ],
      "metadata": {
        "colab": {
          "base_uri": "https://localhost:8080/"
        },
        "id": "sWOaMWZYYeMZ",
        "outputId": "ba46cfa2-bdea-4ce4-afa2-ab91bc8df52c"
      },
      "execution_count": 48,
      "outputs": [
        {
          "output_type": "stream",
          "name": "stdout",
          "text": [
            " * sqlite:///base.db\n",
            "1 rows affected.\n"
          ]
        },
        {
          "output_type": "execute_result",
          "data": {
            "text/plain": [
              "[]"
            ]
          },
          "metadata": {},
          "execution_count": 48
        }
      ]
    }
  ]
}