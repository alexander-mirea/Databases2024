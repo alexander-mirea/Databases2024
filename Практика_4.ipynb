{
  "nbformat": 4,
  "nbformat_minor": 0,
  "metadata": {
    "kernelspec": {
      "display_name": "Python 3",
      "language": "python",
      "name": "python3"
    },
    "language_info": {
      "codemirror_mode": {
        "name": "ipython",
        "version": 3
      },
      "file_extension": ".py",
      "mimetype": "text/x-python",
      "name": "python",
      "nbconvert_exporter": "python",
      "pygments_lexer": "ipython3",
      "version": "3.7.6"
    },
    "colab": {
      "provenance": [],
      "collapsed_sections": [
        "66iXdvzAwQre",
        "p1ftwyl_aCX0",
        "dIhbXBRmzxS_",
        "8TJ5yO_UJEJ-",
        "wTV9TjYt2zs6",
        "Fz_XsnRhDrWV"
      ]
    }
  },
  "cells": [
    {
      "cell_type": "code",
      "metadata": {
        "id": "DnsaiuQxolVN"
      },
      "source": [
        "%load_ext sql\n",
        "%sql sqlite:///store.db"
      ],
      "execution_count": null,
      "outputs": []
    },
    {
      "cell_type": "markdown",
      "source": [
        "### Про автоинкрементацию"
      ],
      "metadata": {
        "id": "66iXdvzAwQre"
      }
    },
    {
      "cell_type": "code",
      "source": [
        "%%sql\n",
        "DROP TABLE IF EXISTS Numbers;\n",
        "\n",
        "CREATE TABLE Numbers(\n",
        "    id integer PRIMARY KEY,\n",
        "    val integer NOT NULL\n",
        ");\n",
        "\n",
        "INSERT INTO Numbers values (1,1), (2,2), (NULL,3);\n",
        "\n",
        "SELECT * FROM Numbers;"
      ],
      "metadata": {
        "id": "8ZLTyTugsugo"
      },
      "execution_count": null,
      "outputs": []
    },
    {
      "cell_type": "code",
      "source": [
        "%%sql\n",
        "INSERT INTO Numbers values (10,4), (NULL,5);\n",
        "\n",
        "SELECT * FROM Numbers;"
      ],
      "metadata": {
        "id": "QEIY6X-htGAP"
      },
      "execution_count": null,
      "outputs": []
    },
    {
      "cell_type": "code",
      "source": [
        "2**63-1"
      ],
      "metadata": {
        "id": "o9udyWf0wOq2"
      },
      "execution_count": null,
      "outputs": []
    },
    {
      "cell_type": "code",
      "source": [
        "%%sql\n",
        "INSERT INTO Numbers values (9223372036854775806,6), (NULL,7), (NULL,8), (NULL,9);\n",
        "SELECT * FROM Numbers;"
      ],
      "metadata": {
        "id": "Z4y4-_rCtP22"
      },
      "execution_count": null,
      "outputs": []
    },
    {
      "cell_type": "code",
      "source": [],
      "metadata": {
        "id": "iUmWDQyfaBs0"
      },
      "execution_count": null,
      "outputs": []
    },
    {
      "cell_type": "markdown",
      "source": [
        "### SUBSTRING"
      ],
      "metadata": {
        "id": "p1ftwyl_aCX0"
      }
    },
    {
      "cell_type": "code",
      "source": [
        "%%sql\n",
        "SELECT * FROM Invoices\n",
        "LIMIT 5;"
      ],
      "metadata": {
        "id": "JB0yjCtOaCvs"
      },
      "execution_count": null,
      "outputs": []
    },
    {
      "cell_type": "code",
      "source": [
        "%%sql\n",
        "SELECT SUBSTRING(InvoiceDate, 12) as time FROM Invoices\n",
        "LIMIT 5;"
      ],
      "metadata": {
        "id": "xx-tQk80ardd"
      },
      "execution_count": null,
      "outputs": []
    },
    {
      "cell_type": "code",
      "source": [
        "%%sql\n",
        "SELECT SUBSTRING(InvoiceDate, 1, 10) as date FROM Invoices\n",
        "LIMIT 5;"
      ],
      "metadata": {
        "id": "ZnRjtuVXa7xF"
      },
      "execution_count": null,
      "outputs": []
    },
    {
      "cell_type": "code",
      "source": [
        "%%sql\n",
        "SELECT * FROM Invoices\n",
        "WHERE SUBSTRING(BillingPostalCode, 1, 2) = '70';"
      ],
      "metadata": {
        "id": "mzwj3bbKbTJ9"
      },
      "execution_count": null,
      "outputs": []
    },
    {
      "cell_type": "code",
      "source": [
        "%%sql\n",
        "SELECT BillingPostalCode, LENGTH(BillingPostalCode) as Codelength\n",
        "FROM Invoices\n",
        "LIMIT 5;"
      ],
      "metadata": {
        "id": "VP3Ly8Esb171"
      },
      "execution_count": null,
      "outputs": []
    },
    {
      "cell_type": "code",
      "source": [
        "%%sql\n",
        "SELECT BillingPostalCode, REPLACE(BillingPostalCode, \" \", '-') as PostalCode -- не меняет данные таблицы\n",
        "FROM Invoices\n",
        "LIMIT 5;"
      ],
      "metadata": {
        "id": "rps9CXagclbu"
      },
      "execution_count": null,
      "outputs": []
    },
    {
      "cell_type": "markdown",
      "source": [
        "## Работа с TIMEDATE"
      ],
      "metadata": {
        "id": "dIhbXBRmzxS_"
      }
    },
    {
      "cell_type": "code",
      "source": [
        "%%sql\n",
        "SELECT * FROM Invoices LIMIT 5;"
      ],
      "metadata": {
        "id": "cR2_302lz4Dn"
      },
      "execution_count": null,
      "outputs": []
    },
    {
      "cell_type": "code",
      "source": [
        "%%sql\n",
        "SELECT * FROM Invoices\n",
        "WHERE InvoiceDate < '2023-01-08 12:00:00';"
      ],
      "metadata": {
        "id": "f5CUIkFP8Q5N"
      },
      "execution_count": null,
      "outputs": []
    },
    {
      "cell_type": "code",
      "source": [
        "%%sql\n",
        "SELECT * FROM Invoices\n",
        "WHERE InvoiceDate BETWEEN '2023-07-08' AND '2023-07-16';"
      ],
      "metadata": {
        "id": "2nBVEnmw7rYX"
      },
      "execution_count": null,
      "outputs": []
    },
    {
      "cell_type": "code",
      "source": [
        "%%sql\n",
        "SELECT date(InvoiceDate), time(InvoiceDate) FROM Invoices\n",
        "WHERE InvoiceDate BETWEEN '2023-07-08' AND '2023-07-16';"
      ],
      "metadata": {
        "id": "xwhMMW0M8I0C"
      },
      "execution_count": null,
      "outputs": []
    },
    {
      "cell_type": "markdown",
      "source": [
        "### strftime()"
      ],
      "metadata": {
        "id": "bf4h6qXR9Ges"
      }
    },
    {
      "cell_type": "markdown",
      "source": [
        "Основные форматы\n",
        "\n",
        "%d\t\tday of month: 01-31\n",
        "\n",
        "%m\t\tmonth: 01-12\n",
        "\n",
        "%Y\t\tyear: 0000-9999\n",
        "\n",
        "%H\t\thour: 00-24\n",
        "\n",
        "%M\t\tminute: 00-59\n",
        "\n",
        "%S\t\tseconds: 00-59\n",
        "\n",
        "%w\t\tday of week 0-6 with Sunday==0\n",
        "\n",
        "%j\t\tday of year: 001-366\n",
        "\n",
        "%W\t\tweek of year (00-53) - week 01 starts on the first Monday\n",
        "\n",
        "https://www.sqlite.org/lang_datefunc.html"
      ],
      "metadata": {
        "id": "XxsHLGYtWZvx"
      }
    },
    {
      "cell_type": "code",
      "source": [
        "%%sql\n",
        "SELECT InvoiceDate, strftime('  %d day, %m month  ', InvoiceDate) as date, strftime('  %Hh %Mm', InvoiceDate) as time, strftime('  %w', InvoiceDate) as week FROM Invoices\n",
        "\n",
        "LIMIT 5;"
      ],
      "metadata": {
        "id": "4cNG0gv89Fk7"
      },
      "execution_count": null,
      "outputs": []
    },
    {
      "cell_type": "code",
      "source": [
        "%%sql\n",
        "SELECT datetime('now');"
      ],
      "metadata": {
        "id": "Ru4fk7XpBsPd"
      },
      "execution_count": null,
      "outputs": []
    },
    {
      "cell_type": "markdown",
      "source": [
        "julianday() function returns the Julian day - the fractional number of days since November 24, 4714 B.C."
      ],
      "metadata": {
        "id": "7kz6nzCWIPE9"
      }
    },
    {
      "cell_type": "code",
      "source": [
        "%%sql\n",
        "SELECT julianday(datetime('now'));"
      ],
      "metadata": {
        "id": "p57ZrDWLHsua"
      },
      "execution_count": null,
      "outputs": []
    },
    {
      "cell_type": "code",
      "source": [
        "%%sql\n",
        "SELECT floor(julianday(datetime('now')) - julianday(datetime('2023-09-01'))) as numdays;"
      ],
      "metadata": {
        "id": "ctD5l0OcKV_D"
      },
      "execution_count": null,
      "outputs": []
    },
    {
      "cell_type": "markdown",
      "source": [
        "### Модификаторы"
      ],
      "metadata": {
        "id": "8TJ5yO_UJEJ-"
      }
    },
    {
      "cell_type": "code",
      "source": [
        "%%sql\n",
        "SELECT datetime('now', 'localtime');"
      ],
      "metadata": {
        "id": "fh28ADDNLk_G"
      },
      "execution_count": null,
      "outputs": []
    },
    {
      "cell_type": "code",
      "source": [
        "%%sql\n",
        "SELECT datetime('now', '+3 hours');"
      ],
      "metadata": {
        "id": "-gDkeg6sLpou"
      },
      "execution_count": null,
      "outputs": []
    },
    {
      "cell_type": "code",
      "source": [
        "%%sql\n",
        "SELECT * FROM Invoices\n",
        "WHERE date(InvoiceDate) = date('now', '-1 years')\n",
        "LIMIT 5;"
      ],
      "metadata": {
        "id": "6ITo7bLuC31U"
      },
      "execution_count": null,
      "outputs": []
    },
    {
      "cell_type": "code",
      "source": [
        "%%sql\n",
        "SELECT datetime('now','start of day');"
      ],
      "metadata": {
        "id": "vUK-fhUpXHh4"
      },
      "execution_count": null,
      "outputs": []
    },
    {
      "cell_type": "code",
      "source": [
        "%%sql\n",
        "SELECT date('now','start of month','+1 month','-1 day');"
      ],
      "metadata": {
        "id": "1TCsyVkfEaEE"
      },
      "execution_count": null,
      "outputs": []
    },
    {
      "cell_type": "code",
      "source": [
        "%%sql\n",
        "\n",
        "--Compute the date of the first Tuesday in October for the current year.\n",
        "\n",
        "SELECT date('now','start of year','+9 months','weekday 2');"
      ],
      "metadata": {
        "id": "f85KDMvNElVV"
      },
      "execution_count": null,
      "outputs": []
    },
    {
      "cell_type": "code",
      "source": [
        "%%sql\n",
        "SELECT * FROM Invoices\n",
        "WHERE date(invoicedate) = date('now','-18 months');"
      ],
      "metadata": {
        "id": "HrVI6_ZaXTHo"
      },
      "execution_count": null,
      "outputs": []
    },
    {
      "cell_type": "code",
      "source": [
        "%%sql\n",
        "SELECT * FROM Invoices\n",
        "WHERE date(invoicedate) BETWEEN '2024-02-01' and '2024-03-01';"
      ],
      "metadata": {
        "id": "2IejNLgZYm2K"
      },
      "execution_count": null,
      "outputs": []
    },
    {
      "cell_type": "code",
      "source": [
        "%%sql\n",
        "SELECT * FROM Invoices\n",
        "WHERE date(invoicedate, 'start of month') = date('2024-02-01');"
      ],
      "metadata": {
        "id": "8iXce-kbYKvS"
      },
      "execution_count": null,
      "outputs": []
    },
    {
      "cell_type": "markdown",
      "source": [
        "## Вывести клиентов из одного города"
      ],
      "metadata": {
        "id": "wTV9TjYt2zs6"
      }
    },
    {
      "cell_type": "code",
      "source": [
        "%%sql\n",
        "SELECT * FROM Customers LIMIT 10;"
      ],
      "metadata": {
        "id": "7UxzlMje2wm6"
      },
      "execution_count": null,
      "outputs": []
    },
    {
      "cell_type": "code",
      "source": [
        "%%sql\n",
        "SELECT City FROM Customers\n",
        "GROUP BY City HAVING count(*)>1; -- Вывести города, в которых есть несколько клиентов"
      ],
      "metadata": {
        "id": "zz5cUI3m1ybP"
      },
      "execution_count": null,
      "outputs": []
    },
    {
      "cell_type": "code",
      "source": [
        "%%sql\n",
        "SELECT FirstName, LastName, City--, Country\n",
        "    FROM Customers\n",
        "    WHERE City IN (SELECT City FROM Customers\n",
        "                  GROUP BY City HAVING count(*)>1);"
      ],
      "metadata": {
        "id": "jDwnMQmQ2OH2"
      },
      "execution_count": null,
      "outputs": []
    },
    {
      "cell_type": "code",
      "source": [
        "%%sql\n",
        "SELECT City, Country FROM Customers\n",
        "                  GROUP BY City, Country HAVING count(*)>1;"
      ],
      "metadata": {
        "id": "OTtdFwRJ5_uN"
      },
      "execution_count": null,
      "outputs": []
    },
    {
      "cell_type": "code",
      "source": [
        "%%sql\n",
        "\n",
        "WITH RepeatCity as (SELECT City, Country FROM Customers\n",
        "                    GROUP BY City, Country HAVING count(*)>1)\n",
        "\n",
        "SELECT FirstName, LastName, City, Country\n",
        "    FROM Customers\n",
        "    JOIN RepeatCity using(City, Country);"
      ],
      "metadata": {
        "id": "-dzPQGJt6R3P"
      },
      "execution_count": null,
      "outputs": []
    },
    {
      "cell_type": "markdown",
      "source": [
        "## Посчитать медиану цен треков"
      ],
      "metadata": {
        "id": "Fz_XsnRhDrWV"
      }
    },
    {
      "cell_type": "code",
      "source": [
        "%%sql\n",
        "\n",
        "SELECT * FROM tracks LIMIT 5;"
      ],
      "metadata": {
        "id": "o78eC-_5orJz"
      },
      "execution_count": null,
      "outputs": []
    },
    {
      "cell_type": "markdown",
      "source": [
        "### Сначала на пальцах"
      ],
      "metadata": {
        "id": "W2dNjb5nOxyc"
      }
    },
    {
      "cell_type": "code",
      "source": [
        "%%sql\n",
        "DROP TABLE IF EXISTS Numbers;\n",
        "\n",
        "CREATE TABLE Numbers(\n",
        "    id integer PRIMARY KEY,\n",
        "    val integer NOT NULL\n",
        ");\n",
        "\n",
        "INSERT INTO Numbers(val) values (6),(3),(2),(7),(1),(3),(5);"
      ],
      "metadata": {
        "id": "H7v4p_W-F5J0"
      },
      "execution_count": null,
      "outputs": []
    },
    {
      "cell_type": "code",
      "source": [
        "%%sql\n",
        "SELECT val FROM Numbers ORDER BY val;"
      ],
      "metadata": {
        "id": "9KnQBBxbIMnF"
      },
      "execution_count": null,
      "outputs": []
    },
    {
      "cell_type": "code",
      "source": [
        "%%sql\n",
        "SELECT avg(val) FROM Numbers;"
      ],
      "metadata": {
        "id": "u6_OA3N2G1S8"
      },
      "execution_count": null,
      "outputs": []
    },
    {
      "cell_type": "code",
      "source": [
        "%%sql\n",
        "SELECT val\n",
        "FROM Numbers\n",
        "ORDER BY val\n",
        "LIMIT 1\n",
        "OFFSET (SELECT COUNT(*)\n",
        "        FROM Numbers) / 2"
      ],
      "metadata": {
        "id": "ZEai0pnJE3g-"
      },
      "execution_count": null,
      "outputs": []
    },
    {
      "cell_type": "code",
      "source": [
        "%%sql\n",
        "INSERT INTO Numbers(val) values (8);\n",
        "SELECT val FROM Numbers ORDER BY val;"
      ],
      "metadata": {
        "id": "SEjZXtvDHH9F"
      },
      "execution_count": null,
      "outputs": []
    },
    {
      "cell_type": "code",
      "source": [
        "%%sql\n",
        "SELECT AVG(val)\n",
        "FROM (SELECT val\n",
        "      FROM Numbers\n",
        "      ORDER BY val\n",
        "      LIMIT 2\n",
        "      OFFSET (SELECT (COUNT(*) - 1) / 2\n",
        "              FROM Numbers))"
      ],
      "metadata": {
        "id": "H_LgDMwZFcHN"
      },
      "execution_count": null,
      "outputs": []
    },
    {
      "cell_type": "markdown",
      "source": [
        "Всё вместе"
      ],
      "metadata": {
        "id": "5gHQ9EQP7YCE"
      }
    },
    {
      "cell_type": "code",
      "source": [
        "%%sql\n",
        "\n",
        "WITH cnt as (SELECT COUNT(*) FROM Numbers)\n",
        "\n",
        "SELECT CASE\n",
        "    WHEN (SELECT * FROM cnt) % 2 = 0\n",
        "    THEN\n",
        "        (SELECT AVG(val) FROM\n",
        "                (SELECT val FROM Numbers\n",
        "                    ORDER BY val\n",
        "                    LIMIT 2\n",
        "                    OFFSET ((SELECT * FROM cnt) - 1) / 2))\n",
        "    ELSE\n",
        "        (SELECT val FROM Numbers\n",
        "        ORDER BY val\n",
        "        LIMIT 1\n",
        "        OFFSET (SELECT * FROM cnt) / 2)\n",
        "END as median;"
      ],
      "metadata": {
        "id": "JKh1T82eL-08"
      },
      "execution_count": null,
      "outputs": []
    },
    {
      "cell_type": "markdown",
      "source": [
        "или"
      ],
      "metadata": {
        "id": "fM1WI_ZU7U3N"
      }
    },
    {
      "cell_type": "code",
      "source": [
        "%%sql\n",
        "SELECT AVG(val) as median\n",
        "FROM (SELECT val\n",
        "      FROM Numbers\n",
        "      ORDER BY val\n",
        "      LIMIT 2 - (SELECT COUNT(*) FROM Numbers) % 2    -- проверка четности\n",
        "      OFFSET (SELECT (COUNT(*) - 1) / 2\n",
        "              FROM Numbers))"
      ],
      "metadata": {
        "id": "KGLSmpAAFLX1"
      },
      "execution_count": null,
      "outputs": []
    },
    {
      "cell_type": "markdown",
      "source": [
        "### Теперь для нашей задачи"
      ],
      "metadata": {
        "id": "NnGwCLFKOtD9"
      }
    },
    {
      "cell_type": "code",
      "source": [
        "%%sql\n",
        "SELECT AVG(UnitPrice) as median\n",
        "FROM (SELECT UnitPrice\n",
        "      FROM tracks\n",
        "      ORDER BY UnitPrice\n",
        "      LIMIT 2 - (SELECT COUNT(*) FROM tracks) % 2\n",
        "      OFFSET (SELECT (COUNT(*) - 1) / 2\n",
        "              FROM tracks))"
      ],
      "metadata": {
        "id": "1i3RyOf0DqwV"
      },
      "execution_count": null,
      "outputs": []
    }
  ]
}